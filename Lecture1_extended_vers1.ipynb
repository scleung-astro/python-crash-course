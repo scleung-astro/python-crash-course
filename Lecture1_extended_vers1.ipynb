{
 "cells": [
  {
   "cell_type": "markdown",
   "id": "e51e0e39",
   "metadata": {},
   "source": [
    "# Python Review Crash Course - Part I\n",
    "\n",
    "### Using Python as a Calculator, Data Types, Control Statements, Formatted Output\n",
    "\n",
    "Prepared by Shing Chi Leung in Jan 2023 &#128512;\t\n",
    "\n",
    "Updated in Jan 2025 \n",
    "\n",
    "Based on the course structure developed by Andrea Dziubek"
   ]
  },
  {
   "cell_type": "markdown",
   "id": "220f7f56",
   "metadata": {},
   "source": [
    "## Installation of Jupyter Notebook\n",
    "\n",
    "Visit __[anaconda](https://www.anaconda.com/products/distribution)__ to download the Python plateform. The Jupyter Notebook is included as one of the package. Many of the software such as PyCharm is extremely useful if you want to use Python seriously for software development purpose. You can use Python for functionality way beyond scientific programming. "
   ]
  },
  {
   "cell_type": "markdown",
   "id": "5ee4749d",
   "metadata": {},
   "source": [
    "## Python as Calculator\n",
    "\n",
    "We can use Python as a scientific calculator to do calculation from simple arithmatic operation to complex statistical analysis, or even symbolic calculation. In Jupyter Notebook, this is done by writing command in a **block**. A block is a basic coding unit which stores a segment of a code. We do not need to write everything inside one cell. But it should contain finished command (*i.e.,* no broken syntax or functions)\n",
    "\n",
    "Below is an empty block &darr;."
   ]
  },
  {
   "cell_type": "code",
   "execution_count": null,
   "id": "75dbc35a",
   "metadata": {},
   "outputs": [],
   "source": []
  },
  {
   "cell_type": "markdown",
   "id": "34ebff92",
   "metadata": {},
   "source": [
    "When we run a program on Jupyter Notebook, Python then *interpret* your code (Python is an interpretor of your program, it does not compile your program) within one block. If you write your code in multiple blocks, you need to run the blocks one by one sequentially. \n",
    "\n",
    "Notice that you need to run it in logical order. For example, you want to run the block which declares the variables before you run the block which operates these variables. \n",
    "\n",
    "To run a block, you click the block you want to run, and press **\"shift\"+\"enter\"**.\n",
    "\n",
    "Now try to run the empty block below:"
   ]
  },
  {
   "cell_type": "code",
   "execution_count": null,
   "id": "1ec3ead6",
   "metadata": {},
   "outputs": [],
   "source": []
  },
  {
   "cell_type": "markdown",
   "id": "89737897",
   "metadata": {},
   "source": [
    "You should see nothing shows up except a new number on the left of the cell, because we are not asking Python to do anything. So there is no output. Except for direct calculation, in general Python does not show you the results until you ask it to. \n",
    "\n",
    "So let's try to ask Python to do simple calculation."
   ]
  },
  {
   "cell_type": "code",
   "execution_count": 1,
   "id": "e0985812",
   "metadata": {},
   "outputs": [
    {
     "data": {
      "text/plain": [
       "5"
      ]
     },
     "execution_count": 1,
     "metadata": {},
     "output_type": "execute_result"
    }
   ],
   "source": [
    "2 + 3"
   ]
  },
  {
   "cell_type": "markdown",
   "id": "50bcc7d0",
   "metadata": {},
   "source": [
    "Now it is your turn to run the block below:"
   ]
  },
  {
   "cell_type": "code",
   "execution_count": null,
   "id": "36d77f75",
   "metadata": {},
   "outputs": [],
   "source": [
    "2 + 3"
   ]
  },
  {
   "cell_type": "markdown",
   "id": "22b5564e",
   "metadata": {},
   "source": [
    "You should get the same result as the block above.\n",
    "\n",
    "The basic operation includes:\n",
    "    \n",
    "    1. Addition +\n",
    "    2. Subtraction -\n",
    "    3. Multiplication * \n",
    "    4. Division /\n",
    "    5. Power **\n",
    "    6. Modulo %\n",
    "    7. Integer division //\n",
    "    \n",
    "The first 5 requires no further explanation. &#129409;\n",
    "\n",
    "Modulo and integer division are the division specific for integer number. \n",
    "For example, we know that\n",
    "\n",
    "    9 divided by 4 is 2 with remainder 1"
   ]
  },
  {
   "cell_type": "code",
   "execution_count": 2,
   "id": "f8c6e9c9",
   "metadata": {},
   "outputs": [
    {
     "data": {
      "text/plain": [
       "2"
      ]
     },
     "execution_count": 2,
     "metadata": {},
     "output_type": "execute_result"
    }
   ],
   "source": [
    "9 // 4"
   ]
  },
  {
   "cell_type": "code",
   "execution_count": 3,
   "id": "b660fbdf",
   "metadata": {},
   "outputs": [
    {
     "data": {
      "text/plain": [
       "1"
      ]
     },
     "execution_count": 3,
     "metadata": {},
     "output_type": "execute_result"
    }
   ],
   "source": [
    "9 % 4"
   ]
  },
  {
   "cell_type": "markdown",
   "id": "b7e4d699",
   "metadata": {},
   "source": [
    "So now we see how these two operators work. Apparently this has great use when we need to deal with integer as in loops. "
   ]
  },
  {
   "cell_type": "markdown",
   "id": "f827d2cc",
   "metadata": {},
   "source": [
    "Notice that the standard division can change your variable from an integer to a floating point variable. So whether you choose \"/\" or \"//\" strongly depends on the purpose of your calculation, even though they might look the same result mathematically. In programming, integer and floating point variable **are different**. "
   ]
  },
  {
   "cell_type": "code",
   "execution_count": 8,
   "id": "8ea7823e",
   "metadata": {},
   "outputs": [
    {
     "data": {
      "text/plain": [
       "3.0"
      ]
     },
     "execution_count": 8,
     "metadata": {},
     "output_type": "execute_result"
    }
   ],
   "source": [
    "9 / 3"
   ]
  },
  {
   "cell_type": "code",
   "execution_count": 7,
   "id": "d0f90742",
   "metadata": {},
   "outputs": [
    {
     "data": {
      "text/plain": [
       "3"
      ]
     },
     "execution_count": 7,
     "metadata": {},
     "output_type": "execute_result"
    }
   ],
   "source": [
    "9 // 3"
   ]
  },
  {
   "cell_type": "markdown",
   "id": "0ff547e4",
   "metadata": {},
   "source": [
    "### Exercise 1:\n",
    "\n",
    "In the box below, try to find the results of \"100 divided by 4 and then add 5\""
   ]
  },
  {
   "cell_type": "code",
   "execution_count": null,
   "id": "9e49e435",
   "metadata": {},
   "outputs": [],
   "source": []
  },
  {
   "cell_type": "markdown",
   "id": "fbdf0e3a",
   "metadata": {},
   "source": [
    "\n",
    "\n",
    "A very useful command in Python is **\"print\"**. You will want (or need) to output the results, especially when the program does not go the way you want. By knowing which variable does not behave the way you want, then you may guess which part of the code goes wrong. This is the process of debugging. In the calculation demonstration above, we can list multiple calculations and Python will do it all in once. However, only the last result which is calculation is shown. "
   ]
  },
  {
   "cell_type": "code",
   "execution_count": 9,
   "id": "61c349a6",
   "metadata": {},
   "outputs": [
    {
     "data": {
      "text/plain": [
       "4.5"
      ]
     },
     "execution_count": 9,
     "metadata": {},
     "output_type": "execute_result"
    }
   ],
   "source": [
    "3 + 4\n",
    "5 * 7\n",
    "9 / 2"
   ]
  },
  {
   "cell_type": "markdown",
   "id": "9012ee88",
   "metadata": {},
   "source": [
    "If we want to see all the results at the same time, we use print, with the parameter being the expression we want Python to output:"
   ]
  },
  {
   "cell_type": "code",
   "execution_count": 10,
   "id": "1d0b8530",
   "metadata": {},
   "outputs": [
    {
     "name": "stdout",
     "output_type": "stream",
     "text": [
      "7\n",
      "35\n",
      "4.5\n"
     ]
    }
   ],
   "source": [
    "print(3 + 4)\n",
    "print(5 * 7)\n",
    "print(9 / 2)"
   ]
  },
  {
   "cell_type": "markdown",
   "id": "8e8a847a",
   "metadata": {},
   "source": [
    "Without further explanation, we can use the bracket () to indiciate the priority of the operation. It should be trivial enough to know the different of the expressions:\n",
    "\n",
    "```\n",
    "(3 + 8) * 3\n",
    "```\n",
    "and \n",
    "```\n",
    "3 + 8 * 3\n",
    "```\n",
    "\n"
   ]
  },
  {
   "cell_type": "markdown",
   "id": "e5262770",
   "metadata": {},
   "source": [
    "### Exercise 2:\n",
    "\n",
    "Without explicitly using the Python calcualtor, can you guess the answer of the code:\n",
    "```\n",
    "(3 + 7) * 4 / (2 + 3)\n",
    "```\n",
    "\n",
    "Then try to run it in the block below:"
   ]
  },
  {
   "cell_type": "code",
   "execution_count": null,
   "id": "7e665207",
   "metadata": {},
   "outputs": [],
   "source": []
  },
  {
   "cell_type": "markdown",
   "id": "323b34b5",
   "metadata": {},
   "source": [
    "## Documentation of the code\n",
    "\n",
    "It is a healthy and time-saving practice to document your code. This can be done by adding \"#\" at the beginning of the line. Then, when we run the code, Python will automatically skip those lines starting with. We call those un-run lines **comments**. If you have multiple lines of code as comments, we use \"\"\" (three quotation mark at the beginning and end of the \n",
    "\n",
    "Below we show an extensive example:"
   ]
  },
  {
   "cell_type": "code",
   "execution_count": 13,
   "id": "48ccad96",
   "metadata": {},
   "outputs": [
    {
     "name": "stdout",
     "output_type": "stream",
     "text": [
      "5\n",
      "15\n",
      "1\n"
     ]
    }
   ],
   "source": [
    "# this line is not run\n",
    "\n",
    "print(2 + 3)\n",
    "print(3 * 5) # this part of the line is not run\n",
    "\n",
    "'''\n",
    "This is a multi-line comments.\n",
    "You do not need to write \"#\" at the beginning of the code.\n",
    "And Python will also not run these lines.  \n",
    "'''\n",
    "\n",
    "print(6 - 5)"
   ]
  },
  {
   "cell_type": "markdown",
   "id": "8004c47c",
   "metadata": {},
   "source": [
    "### Exercise 3: \n",
    "\n",
    "Now it is your turn to write a mathematics operation with one line of comment, and see if Python really ignores your comment line. "
   ]
  },
  {
   "cell_type": "code",
   "execution_count": null,
   "id": "e27e1dfc",
   "metadata": {},
   "outputs": [],
   "source": []
  },
  {
   "cell_type": "markdown",
   "id": "3bf87467",
   "metadata": {},
   "source": [
    "## Data Types\n",
    "\n",
    "In Python, there are five types of data that have different meanings:\n",
    "\n",
    "1. Boolean (`True` or `False`, there is no third option, and notice Python is case-sensitive)\n",
    "2. Integer (e.g., -1, 0, 1, 2, 3, ...)\n",
    "3. Floating point variables (e.g., 1.23, 3.1415, ...)\n",
    "4. String variables (e.g., \"apple\", \"orange\", ...)\n",
    "5. Objects (e.g., list, tuple, array...)\n",
    "\n",
    "Python is dynamical in variable declaration. Unlike traditional language like C, or C++, if we define a variable, let's say *a* to carry an integer, we can use it later (though not a good practice) to carry a string. It provides flexibility to our coding, but it can be a pain if somehow you overwrite some important variables from irrelevant results. Therefore, it is important to having a good naming system of variable so that you store your variables with a name that associates with its real functionality. \n",
    "\n",
    "Below we show you some variable declaration:"
   ]
  },
  {
   "cell_type": "code",
   "execution_count": 14,
   "id": "50562f89",
   "metadata": {},
   "outputs": [],
   "source": [
    "# this is a boolean\n",
    "a = False \n",
    "\n",
    "# this is an integer\n",
    "b = 2 \n",
    "\n",
    "# this is a floating point variable\n",
    "c = 3.14\n",
    "\n",
    "# this is a string\n",
    "d = \"dog\"\n",
    "\n",
    "# this is a tuple object (we will cover it in next chapter)\n",
    "e = (1, 2, 3) # this is a tuple"
   ]
  },
  {
   "cell_type": "markdown",
   "id": "c9993bc9",
   "metadata": {},
   "source": [
    "We may notice a few coding patterns here. \n",
    "\n",
    "1. The variables can be any name we want, as long as they are not reserved words specific for Python (each language has its own reserved word), some of these are:\n",
    "```\n",
    "not, and, or, with, as, for, range, len, lambda, while, if, dict, list, tuple, max, min, abs, ...\n",
    "```\n",
    "\n",
    "In general, the words we use for command in Python cannot be used as variable names. \n",
    "\n",
    "2. We use single or double quotation pair to store a string variable. \n",
    "\n",
    "We can ask Python to display the **value** of these variables, either by querying single variable in a block, or multiple ones with `print`."
   ]
  },
  {
   "cell_type": "code",
   "execution_count": 17,
   "id": "72992728",
   "metadata": {},
   "outputs": [
    {
     "data": {
      "text/plain": [
       "3.14"
      ]
     },
     "execution_count": 17,
     "metadata": {},
     "output_type": "execute_result"
    }
   ],
   "source": [
    "c"
   ]
  },
  {
   "cell_type": "code",
   "execution_count": 18,
   "id": "87028e08",
   "metadata": {},
   "outputs": [
    {
     "name": "stdout",
     "output_type": "stream",
     "text": [
      "False 2 dog\n"
     ]
    }
   ],
   "source": [
    "print(a, b, d)"
   ]
  },
  {
   "cell_type": "markdown",
   "id": "c6a97004",
   "metadata": {},
   "source": [
    "### Exercise 4:\n",
    "\n",
    "Can you print the value of varaible *e*?"
   ]
  },
  {
   "cell_type": "code",
   "execution_count": null,
   "id": "7a92ade8",
   "metadata": {},
   "outputs": [],
   "source": []
  },
  {
   "cell_type": "markdown",
   "id": "1f1bee8c",
   "metadata": {},
   "source": [
    "If we assign the variable with a new value, the old one will be gone if there is no other variable referencing it. "
   ]
  },
  {
   "cell_type": "code",
   "execution_count": 19,
   "id": "c6ec4d93",
   "metadata": {},
   "outputs": [
    {
     "name": "stdout",
     "output_type": "stream",
     "text": [
      "2.718\n"
     ]
    }
   ],
   "source": [
    "c = 2.718\n",
    "print(c)"
   ]
  },
  {
   "cell_type": "markdown",
   "id": "43975474",
   "metadata": {},
   "source": [
    "We can also assign the value of the variable to be the value of another variable"
   ]
  },
  {
   "cell_type": "code",
   "execution_count": 20,
   "id": "b4522414",
   "metadata": {},
   "outputs": [
    {
     "name": "stdout",
     "output_type": "stream",
     "text": [
      "2\n"
     ]
    }
   ],
   "source": [
    "a = b\n",
    "print(a)"
   ]
  },
  {
   "cell_type": "markdown",
   "id": "4f875921",
   "metadata": {},
   "source": [
    "We can also assign an expression to a variable"
   ]
  },
  {
   "cell_type": "code",
   "execution_count": 25,
   "id": "2ec3d798",
   "metadata": {},
   "outputs": [
    {
     "name": "stdout",
     "output_type": "stream",
     "text": [
      "6\n"
     ]
    }
   ],
   "source": [
    "a = 3 * b\n",
    "print(a)"
   ]
  },
  {
   "cell_type": "markdown",
   "id": "cc896066",
   "metadata": {},
   "source": [
    "We can also assign the value of a variable as a function of the original value of that variable:"
   ]
  },
  {
   "cell_type": "code",
   "execution_count": 30,
   "id": "34fe12f6",
   "metadata": {},
   "outputs": [
    {
     "name": "stdout",
     "output_type": "stream",
     "text": [
      "4\n"
     ]
    }
   ],
   "source": [
    "a = 3\n",
    "a = a + 1\n",
    "print(a)"
   ]
  },
  {
   "cell_type": "markdown",
   "id": "20e828f7",
   "metadata": {},
   "source": [
    "It should be clear that the command `a = a + 1` does not ask you to cancel the *a* on both sides. Instead you should always understand it as, the variable on the left is used to store the value done by the express on the right. In this case, this means\n",
    "\n",
    "```\n",
    "the variable a stores the value of the original value of a plus 1\n",
    "```\n",
    "\n",
    "As the original value is 3, 3 + 1 is 4, so the variable `a` now stores the value 4. "
   ]
  },
  {
   "cell_type": "markdown",
   "id": "d8b06ef6",
   "metadata": {},
   "source": [
    "One special class of operations in Python is `+=`, `-=`, `*=`, `/=`. We can find these operations often in iteration when we need to modify the value of some variables. \n",
    "\n",
    "They are specific for the operation above, for example:\n",
    "\n",
    "`a += 3` is equivalent to `a = a + 3`.\n",
    "\n",
    "### Exercise 5\n",
    "\n",
    "If g equals to 5, what are the values of g after we do `g -= 4`? How about `g *= 3`? Try it in the boxes below. Remember to declare and refresh the value of `g` before doing the operation."
   ]
  },
  {
   "cell_type": "code",
   "execution_count": null,
   "id": "da369ce5",
   "metadata": {},
   "outputs": [],
   "source": [
    "# for g -= 4\n",
    "\n"
   ]
  },
  {
   "cell_type": "code",
   "execution_count": null,
   "id": "8e25fbb9",
   "metadata": {},
   "outputs": [],
   "source": [
    "# for g *= 3\n",
    "\n"
   ]
  },
  {
   "cell_type": "markdown",
   "id": "6d7988db",
   "metadata": {},
   "source": [
    "Finally, How do we know what type of variable that particular variable is storing? We use the command `type` to query the variable we want to clarify:"
   ]
  },
  {
   "cell_type": "code",
   "execution_count": 22,
   "id": "17a00e78",
   "metadata": {},
   "outputs": [
    {
     "name": "stdout",
     "output_type": "stream",
     "text": [
      "<class 'int'>\n",
      "<class 'tuple'>\n"
     ]
    }
   ],
   "source": [
    "print(type(a))\n",
    "print(type(e))"
   ]
  },
  {
   "cell_type": "markdown",
   "id": "e6cc7653",
   "metadata": {},
   "source": [
    "We can also put an expression instead of the variable inside the bracket. Something like `type(2 + 3)` is also okay. We now can check the division operation we have mentioned. We should find the ordinary division gives you a floating point number and an integer division gives you an integer. \n",
    "\n",
    "### Exercise 6:\n",
    "\n",
    "Declare the variable f to store the expression 8 / 4 and g to store the expression 8 // 4. What are their data type? Try to find in the block below:"
   ]
  },
  {
   "cell_type": "code",
   "execution_count": null,
   "id": "0b704675",
   "metadata": {},
   "outputs": [],
   "source": []
  },
  {
   "cell_type": "markdown",
   "id": "78921143",
   "metadata": {},
   "source": [
    "## Basic mathematics operation within the Python core\n",
    "\n",
    "The core has very little but not zero mathematics operations. Here we introduce the important one we can use:\n",
    "\n",
    "1. `max()`: To find the maximum value from **a sequence of** number\n",
    "2. `min()`: To find the minimum value from **a sequence of** number\n",
    "3. `abs()`: The find the absolute value of a number"
   ]
  },
  {
   "cell_type": "code",
   "execution_count": 37,
   "id": "8ba5c807",
   "metadata": {},
   "outputs": [
    {
     "data": {
      "text/plain": [
       "6"
      ]
     },
     "execution_count": 37,
     "metadata": {},
     "output_type": "execute_result"
    }
   ],
   "source": [
    "max(3, 5, 6, 1, 2)"
   ]
  },
  {
   "cell_type": "code",
   "execution_count": 38,
   "id": "8436f14b",
   "metadata": {},
   "outputs": [
    {
     "data": {
      "text/plain": [
       "2"
      ]
     },
     "execution_count": 38,
     "metadata": {},
     "output_type": "execute_result"
    }
   ],
   "source": [
    "abs(-2)"
   ]
  },
  {
   "cell_type": "markdown",
   "id": "f6a38344",
   "metadata": {},
   "source": [
    "## Using Libraries\n",
    "\n",
    "In Python, the basic framework has very limited operation which we find common in mathematics. Simple functions like sine, cosine, or log or exp, must be imported first before we use it. If we do not import it, Python has no idea what it is and will raise an error:"
   ]
  },
  {
   "cell_type": "code",
   "execution_count": 21,
   "id": "7e6993a8",
   "metadata": {},
   "outputs": [
    {
     "ename": "NameError",
     "evalue": "name 'sin' is not defined",
     "output_type": "error",
     "traceback": [
      "\u001b[1;31m---------------------------------------------------------------------------\u001b[0m",
      "\u001b[1;31mNameError\u001b[0m                                 Traceback (most recent call last)",
      "\u001b[1;32m<ipython-input-21-d1dd6e003e86>\u001b[0m in \u001b[0;36m<module>\u001b[1;34m\u001b[0m\n\u001b[1;32m----> 1\u001b[1;33m \u001b[0msin\u001b[0m\u001b[1;33m(\u001b[0m\u001b[1;36m30\u001b[0m\u001b[1;33m)\u001b[0m\u001b[1;33m\u001b[0m\u001b[1;33m\u001b[0m\u001b[0m\n\u001b[0m",
      "\u001b[1;31mNameError\u001b[0m: name 'sin' is not defined"
     ]
    }
   ],
   "source": [
    "sin(30)"
   ]
  },
  {
   "cell_type": "markdown",
   "id": "b997ed4d",
   "metadata": {},
   "source": [
    "See? Python indeed does not know sine function.\n",
    "\n",
    "To import a library for specific function (later when we learn about array, we will need to use the *numpy* library), we use `import`. There are four ways to import a library:\n",
    "\n",
    "1. `import math`\n",
    "2. `import math as m`\n",
    "3. `from math import sin`\n",
    "4. `from math import *`\n",
    "\n",
    "Most common operation in mathematics can be found in the `math` library. Notice that when you run the `import` command once, the Python kernel will *remember* the imported variables until you terminate the kernel. So you don't need to to import it every time. A good practice is that you place all the import command at the beginning of the code.\n",
    "\n",
    "In general for very extensive code, method 1 is suggested because it makes sure the variable has a lower chance to overlap in variable name. On the contrary, if we expect the code is small, we may use method 3 to import directly the necessary variable. Here we shall focus on method 3."
   ]
  },
  {
   "cell_type": "code",
   "execution_count": 27,
   "id": "d3d46daa",
   "metadata": {},
   "outputs": [
    {
     "name": "stdout",
     "output_type": "stream",
     "text": [
      "0.49999999999999994\n"
     ]
    }
   ],
   "source": [
    "from math import sin, pi\n",
    "\n",
    "# now Python knows what sin means, and what pi means (3.1415926...)\n",
    "print(sin(pi/6))"
   ]
  },
  {
   "cell_type": "markdown",
   "id": "fd3c5d4e",
   "metadata": {},
   "source": [
    "Oh no! How come sin(pi/6) is not 0.5?! Actually in the precision of the computer, it is still 0.5. But the computer does not store it perfectly as 0.5 because of **floating point error**. While we are not in a formal programming class, in general this type of error is not supposed to affect our results, unless we are trying to calculate the value up to 15 digits. \n",
    "\n",
    "In case if you are not sure how to use some function or variable, you can use the `help` option and ask Python how to use the variable correctly:"
   ]
  },
  {
   "cell_type": "code",
   "execution_count": 28,
   "id": "e30a7cf8",
   "metadata": {},
   "outputs": [
    {
     "name": "stdout",
     "output_type": "stream",
     "text": [
      "Help on built-in function sin in module math:\n",
      "\n",
      "sin(x, /)\n",
      "    Return the sine of x (measured in radians).\n",
      "\n"
     ]
    }
   ],
   "source": [
    "help(sin)"
   ]
  },
  {
   "cell_type": "markdown",
   "id": "32c8b6c0",
   "metadata": {},
   "source": [
    "### Exercise 7:\n",
    "    \n",
    "Now it is your turn to import the exponential function, and try to find exp(1) (should be 2.71828...)"
   ]
  },
  {
   "cell_type": "code",
   "execution_count": null,
   "id": "d4b0fde5",
   "metadata": {},
   "outputs": [],
   "source": []
  },
  {
   "cell_type": "markdown",
   "id": "3e1c2ca3",
   "metadata": {},
   "source": [
    "## Control Statements\n",
    "\n",
    "Any programming language should contain commands for iteration and condition. In Python, this is done by the following commands:\n",
    "\n",
    "1. for (iteration)\n",
    "2. while (iteration)\n",
    "3. if (condition)\n",
    "\n",
    "We will only cover `for` and `if` because they are much more useful in the context of Python. Below we show the most simple examples in how they are used. \n",
    "\n",
    "\n",
    "### For-loop \n",
    "\n",
    "In programming we always encounter scenario where we repeat some procedure many time. You can imagine populating a large array with specific number. We definitely want to ask the Python to repeat some repetitive calculation instead of copying the same code for, let's say, 1000 times. Then we will use the `for`-loop. An integer 'for'-loop is constructed by the following:\n",
    "```\n",
    "for i in range(3):\n",
    "    xxx\n",
    "```\n",
    "\n",
    "This asks Python to repeat three times the command 'xxx' ('xxx' can contain more than one command). Notice that we need to **indent** the code segment which we want to iterate. If you do not need to For example, \n",
    "\n",
    "\n",
    "How does Python know it has repeated three times? Python use the range *i* as an index. At the beginning of the loop, Python generates a *range* object with a parameter 3. This *range* object is an iterable, you can imagine it generate a bag of numbers (0, 1, 2). In each iteration, Python assigns the variable *i* by taking out one . The iteration repeats until *i* runs out of the numbers. Then Python leaves the 'for'-loop. Below we show an example:"
   ]
  },
  {
   "cell_type": "code",
   "execution_count": 32,
   "id": "6f34f900",
   "metadata": {},
   "outputs": [
    {
     "name": "stdout",
     "output_type": "stream",
     "text": [
      "0\n",
      "1\n",
      "2\n"
     ]
    }
   ],
   "source": [
    "for i in range(3):\n",
    "    print(i)"
   ]
  },
  {
   "cell_type": "markdown",
   "id": "9c4f6c44",
   "metadata": {},
   "source": [
    "### Exercise 8\n",
    "\n",
    "In the code segment below, what is the final value of *a* and *b* after the code is run? First try to do the run inside your head, then try to type (copy) the code and run it. \n",
    "\n",
    "```\n",
    "a = 3\n",
    "b = 2\n",
    "\n",
    "for i in range(4):\n",
    "    a += 1\n",
    "    b += i\n",
    "    \n",
    "print(a)\n",
    "print(b)\n",
    "```"
   ]
  },
  {
   "cell_type": "code",
   "execution_count": null,
   "id": "5b86dd8d",
   "metadata": {},
   "outputs": [],
   "source": []
  },
  {
   "cell_type": "markdown",
   "id": "36ca7a33",
   "metadata": {},
   "source": [
    "One question is, how does the *range* object decide which number to include? In fact, we can also define the starting number, ending number and how much the leap of the number. The full parameters for the *range* object is given by\n",
    "```\n",
    "range(starting value, stopping value, step)\n",
    "```\n",
    "\n",
    "if only one value is passed, Python assumes you are indiciating the starting value; if two values are passed, then the starting and stopping values are occupied. So for example, if we type\n",
    "```\n",
    "range(2,5,1)\n",
    "```\n",
    "You will have a bag of (2, 3, 4). Why is that? It is because Python will start from the value 2 (obviously), then the next number will be increased by 1, so 3. Then it keeps on repeating until it is equal to 5. But notice, the value *5* is not included in the bag. The mneumonic is that the starting value is included, but not the stopping value. \n"
   ]
  },
  {
   "cell_type": "markdown",
   "id": "64070a70",
   "metadata": {},
   "source": [
    "### Exercise 9\n",
    "\n",
    "Can you test what are printed in the following for loops? First think about the possible output, then test it with the block below. \n",
    "\n",
    "```\n",
    "# iteration 1:\n",
    "for i in range(2,6):\n",
    "    print(i)\n",
    "    \n",
    "# iteration 2:\n",
    "for i in range(2,6,2):\n",
    "    print(i)\n",
    "\n",
    "# iteration 3: \n",
    "for i in range(6,2,-1):\n",
    "    print(i)\n",
    "\n",
    "```\n"
   ]
  },
  {
   "cell_type": "code",
   "execution_count": null,
   "id": "d37da379",
   "metadata": {},
   "outputs": [],
   "source": []
  },
  {
   "cell_type": "markdown",
   "id": "e5331ac8",
   "metadata": {},
   "source": [
    "### Exercise 10\n",
    "\n",
    "How do you find the sum 1 + 2 + 3 + ... + 100 by a 'for'-loop?"
   ]
  },
  {
   "cell_type": "code",
   "execution_count": null,
   "id": "3584c788",
   "metadata": {},
   "outputs": [],
   "source": []
  },
  {
   "cell_type": "markdown",
   "id": "26c191ca",
   "metadata": {},
   "source": [
    "### A detour about nested loop\n",
    "\n",
    "It becomes natural to ask, if it is possible to set up multiple loop with \"for\", so that, for example, we can handle a 2D or even 3D array? The answer leads to a nested loop. The construction can be done as follows:\n",
    "```\n",
    "for i in range(3):\n",
    "    for j in range(4):\n",
    "        xxx\n",
    "```\n",
    "\n",
    "Then how does Python proceed with the loop? First Python takes one element from the outer loop (i.e. `i = 0`) then it enters the inner loop and repeats four times (`j = 0, 1, 2, 3`). Then it finishes one iteration and goes back to the top of the outer loop, takes another number, then enters the inner loop and so on and so forth. \n",
    "\n",
    "We shall defer the discussion on its application in 2D matrix when we come across nested list and numpy arrays. "
   ]
  },
  {
   "cell_type": "markdown",
   "id": "d8437f5a",
   "metadata": {},
   "source": [
    "### Exercise 11: \n",
    "\n",
    "I want to use the print function to generate the following output\n",
    "```\n",
    "    *\n",
    "   ***\n",
    "  *****\n",
    " *******\n",
    "  *****\n",
    "   ***\n",
    "    *\n",
    "```\n",
    "\n",
    "How will you use a nested `for`-loop to accomplish this?"
   ]
  },
  {
   "cell_type": "code",
   "execution_count": null,
   "id": "3067ed2e",
   "metadata": {},
   "outputs": [],
   "source": []
  },
  {
   "cell_type": "markdown",
   "id": "6d3e2f02",
   "metadata": {},
   "source": [
    "### If-statement\n",
    "\n",
    "The next important concept is using 'if' to ask Python to check a condition. Without conditional phrase, there is no way for a computer code to implement complex logic. Certainly there are chance in solving ODE in using 'if'. For example, *if* the solution has reached certain precision, then we ask Python to stop calculating. This is where a conditional command becomes essential.\n",
    "\n",
    "The 'if'-statement is constructed as follows:\n",
    "```\n",
    "if (condition 1):\n",
    "    xxx\n",
    "elif (condition 2): \n",
    "    yyy\n",
    "else:\n",
    "    zzz\n",
    "```\n",
    "\n",
    "So the condition Python needs to check is inside the brakcet. If the condition 1 is met (i.e. condition 1 is `True`), then the command 'xxx' is run. If it is not, it will check if condition 2 is met, if so then it runs 'yyy'. If all conditions are not met, it will run block 'zzz' instead. \n",
    "\n",
    "**Remark**:\n",
    "1. Notice that you can only have one `if`, but zero, one or multiple `elif` blocks, and zero or one `else` block. \n",
    "2. Only one of the block will be run. For example, if condition 1 and 2 are simultaneously met, then only block 'xxx' will be executed. \n",
    "3. Again it is *important* that you indent the command you want to run conditionally. Once the Python reads an non-indented line, it assumes you if statement has ended."
   ]
  },
  {
   "cell_type": "markdown",
   "id": "a04ca796",
   "metadata": {},
   "source": [
    "### Exercise 12:\n",
    "\n",
    "What is the output of the following code segment? Try it with the block below. I encourage you to type the code by yourself so that you get the mental training in the actual coding. Just copy and paste will make you forget the actual procedure very quickly.  \n",
    "\n",
    "```\n",
    "temp = 3\n",
    "\n",
    "if temp > 2:\n",
    "    print('temp is not greater than 2')\n",
    "else: \n",
    "    print('temp is greater than 2')\n",
    "```"
   ]
  },
  {
   "cell_type": "code",
   "execution_count": null,
   "id": "dd563fcf",
   "metadata": {},
   "outputs": [],
   "source": []
  },
  {
   "cell_type": "markdown",
   "id": "3d54d52e",
   "metadata": {},
   "source": [
    "### Exercise 13: \n",
    "\n",
    "Let us examine the code segment below, what will be the output from Python?\n",
    "\n",
    "```\n",
    "a = 2\n",
    "a += 4\n",
    "\n",
    "if a > 5:\n",
    "    for i in range(3):\n",
    "        print(a + i)\n",
    "else:\n",
    "    print('no output')\n",
    "\n",
    "```"
   ]
  },
  {
   "cell_type": "code",
   "execution_count": null,
   "id": "d9b44ac4",
   "metadata": {},
   "outputs": [],
   "source": []
  },
  {
   "cell_type": "markdown",
   "id": "03cf8666",
   "metadata": {},
   "source": [
    "To set up a condition, in mathematics we relies on the following operators:\n",
    "\n",
    "1. `>`, `>=`, `<`, `<=` for inequality\n",
    "2. `==` for equality\n",
    "\n",
    "**Example**\n",
    "```\n",
    "if (a == 3):\n",
    "    print(\"a is equal to 3\")\n",
    "```\n",
    "\n",
    "It is very easy for first time programmer to confuse the definition of `=` and `==`. \n",
    "\n",
    "One `=`: To assign the value or expression to a varaible\n",
    "Two `=`: To check if the two sides (i.e. the values represented in both sides) are equal"
   ]
  },
  {
   "cell_type": "markdown",
   "id": "47b0f241",
   "metadata": {},
   "source": [
    "### Exercise 14\n",
    "\n",
    "In the following code segment, fill in the condition so that the statement is printed out logically"
   ]
  },
  {
   "cell_type": "code",
   "execution_count": null,
   "id": "77dd8c74",
   "metadata": {},
   "outputs": [],
   "source": [
    "# fill in the conditions inside the brackets of 'if' and 'elif'\n",
    "# you may change the value of a to see if the correct output is shown\n",
    "\n",
    "a = 3\n",
    "\n",
    "if ():\n",
    "    print(\"a is greater than 5 and less than 10\")\n",
    "elif ():\n",
    "    print(\"a is less than or equal to 3\")\n",
    "    "
   ]
  },
  {
   "cell_type": "markdown",
   "id": "ef0e278f",
   "metadata": {},
   "source": [
    "### A short detour for logical and composite condition\n",
    "\n",
    "In many cases we might need to use multiple conditions simultaneously to do a decision, for example, if the weather is good and hot, we go swimming. In Python there are three logical to construct composite condition:\n",
    "\n",
    "`and`, `or`, `not`\n",
    "\n",
    "The Boolean value of the combined logical can be obtained by the Boolean table: \n",
    "\n",
    "|A|B|A and B|A or B|not A|\n",
    "|---|---|---|---|---|\n",
    "|True|True|True|True|False|\n",
    "|True|False|False|True|False|\n",
    "|False|True|False|True|True|\n",
    "|False|False|False|Flase|True|\n",
    "\n",
    "\n",
    "The usage can be literally understood so we do not explain it further. Below we raise an example:\n",
    "\n",
    "```\n",
    "temp = 30 # in Celsius\n",
    "is_sunny = True\n",
    "\n",
    "if temp > 25 and is_sunny:\n",
    "    print(\"We go swimming\")\n",
    "else:\n",
    "    print(\"We stay home\")\n",
    "```"
   ]
  },
  {
   "cell_type": "markdown",
   "id": "f13e375b",
   "metadata": {},
   "source": [
    "### Exercise 15: \n",
    "\n",
    "Try to build your own conditions, and make use of `elif` and `else` for other condition. Test with other weather condition to see if those conditions can be reached. "
   ]
  },
  {
   "cell_type": "code",
   "execution_count": null,
   "id": "fa5ab22d",
   "metadata": {},
   "outputs": [],
   "source": []
  },
  {
   "cell_type": "markdown",
   "id": "12261925",
   "metadata": {},
   "source": [
    "### Keywords continue and break\n",
    "\n",
    "The last thing about basic iteration and condition is the use of `continue` and `break`. They provide special path way inside an iteration to terminate or skip certain part of the iteration. The difference between the two keywords are the following:\n",
    "\n",
    "`continue`: it returns to the beginning of the loop and takes the next number from the \"range\" bag\n",
    "`break`: it terminates the entire iteration\n",
    "\n",
    "The simplest example is that we have a very large loop, but we turn out to only need the first ten of it:\n",
    "```\n",
    "for i in range(100):\n",
    "    if i >= 10:\n",
    "        break\n",
    "```\n",
    "When `i == 10`, it satisfies the `if`-statement, thus the for-loop is terminated. \n",
    "\n",
    "Another example is that we have a large loop, but we need to sum only the odd number case. For even number case if we don't want the loop to do anything.\n",
    "```\n",
    "for i in range(100):\n",
    "    if i%2 == 0:\n",
    "        continue\n",
    "    xxx\n",
    "```\n",
    "When `i` is an even number, it satisfies the `if`-statement, thus it will go back to the beginning of the loop and take the next element to resume the iteration. It will not reach 'xxx'. "
   ]
  },
  {
   "cell_type": "markdown",
   "id": "94b89463",
   "metadata": {},
   "source": [
    "### Exercise 16\n",
    "\n",
    "Find the sum of all positive integer number which are below 1000 and are squared number"
   ]
  },
  {
   "cell_type": "code",
   "execution_count": null,
   "id": "54f7eab7",
   "metadata": {},
   "outputs": [],
   "source": []
  },
  {
   "cell_type": "markdown",
   "id": "50cff978",
   "metadata": {},
   "source": [
    "## Formatted Output\n",
    "\n",
    "The last topic for today is how to show beautiful output which will be useful for presenting your results. To do so, we need to use the format attribute of a string.\n",
    "\n",
    "For example, if I have a number a = 1.23456, if we want to output the first 2 decimal places, we type\n",
    "```\n",
    "print(\"{:.2f}\".format(a))\n",
    "```"
   ]
  },
  {
   "cell_type": "code",
   "execution_count": 41,
   "id": "44ed6c81",
   "metadata": {},
   "outputs": [
    {
     "name": "stdout",
     "output_type": "stream",
     "text": [
      "1.23\n"
     ]
    }
   ],
   "source": [
    "a = 1.23456\n",
    "print(\"{:.2f}\".format(a))"
   ]
  },
  {
   "cell_type": "markdown",
   "id": "85a369e5",
   "metadata": {},
   "source": [
    "So how do we understand this command. In fact, we are doing two things together, we are asking Python to output a string (therefore the quotation mark), inside the string there is some space reserve to a floating point number with 2 decimal places, and this space corresponds to the variable *a*. \n",
    "\n",
    "Here are some common format type:\n",
    "\n",
    "1. d: integer \n",
    "2. f: fixed number format \n",
    "3. e: scientific format\n",
    "4. %: percentage\n",
    "\n",
    "For example: `{:4.2f}` means there are 4 digits reserved with 2 digits for decimal places"
   ]
  },
  {
   "cell_type": "markdown",
   "id": "8f0e6fae",
   "metadata": {},
   "source": [
    "### Exercise 17: \n",
    "\n",
    "Print out pi and e$^1$ up to 5 significant figures."
   ]
  },
  {
   "cell_type": "code",
   "execution_count": null,
   "id": "dfb41de3",
   "metadata": {},
   "outputs": [],
   "source": []
  },
  {
   "cell_type": "markdown",
   "id": "b9b2d27f",
   "metadata": {},
   "source": [
    "# That's the end of this Lecture! :-) "
   ]
  },
  {
   "cell_type": "code",
   "execution_count": null,
   "id": "88cf22e4",
   "metadata": {},
   "outputs": [],
   "source": []
  }
 ],
 "metadata": {
  "kernelspec": {
   "display_name": "Python 3",
   "language": "python",
   "name": "python3"
  },
  "language_info": {
   "codemirror_mode": {
    "name": "ipython",
    "version": 3
   },
   "file_extension": ".py",
   "mimetype": "text/x-python",
   "name": "python",
   "nbconvert_exporter": "python",
   "pygments_lexer": "ipython3",
   "version": "3.8.8"
  }
 },
 "nbformat": 4,
 "nbformat_minor": 5
}
