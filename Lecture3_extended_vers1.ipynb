{
 "cells": [
  {
   "cell_type": "markdown",
   "id": "cae11dfa",
   "metadata": {},
   "source": [
    "# Python Review Crash Course - Part III\n",
    "\n",
    "## Numpy, Scipy and Matplotlib\n",
    "\n",
    "Prepared by Shing Chi Leung in Jan 2023 😀\n",
    "Updated in Jan 2025\n",
    "\n",
    "Based on the course structure developed by Andrea Dziubek"
   ]
  },
  {
   "cell_type": "markdown",
   "id": "4a792f25",
   "metadata": {},
   "source": [
    "## Numpy\n",
    "\n",
    "Finally we come to the major topic in using Python for scientific computing. In this chapter we will look into greater details in some of the common methods for matrix operation. Numpy is useful because it is the counterpart of BLAS and LAPACK in Fortran. They include\n",
    "\n",
    "* a powerful N-dimensional array object\n",
    "* sophisticated (broadcasting) functions\n",
    "* basic linear algebra functions\n",
    "* basic Fourier transforms\n",
    "* sophisticated random number capabilities\n",
    "* tools for integrating Fortran code\n",
    "* tools for integrating C/C++ code\n",
    "\n",
    "> https://numpy.org/    \n",
    "> https://scipy.org/\n",
    "\n",
    "In the last lecture, we have discussed how to use it to make an array and how basic operations (e.g., matrix multiplication) are done. "
   ]
  },
  {
   "cell_type": "markdown",
   "id": "9a6ff1de",
   "metadata": {},
   "source": [
    "### Numpy array generation\n",
    "\n",
    "We need to import numpy so that we may call the specific functions directly."
   ]
  },
  {
   "cell_type": "code",
   "execution_count": 2,
   "id": "2eb08da0",
   "metadata": {},
   "outputs": [],
   "source": [
    "import numpy as np"
   ]
  },
  {
   "cell_type": "markdown",
   "id": "48513bf8",
   "metadata": {},
   "source": [
    "We have already talked about how basic array can be built, this includes:"
   ]
  },
  {
   "cell_type": "code",
   "execution_count": 3,
   "id": "94b163ef",
   "metadata": {},
   "outputs": [
    {
     "name": "stdout",
     "output_type": "stream",
     "text": [
      "[[1 2 3]\n",
      " [4 5 6]]\n"
     ]
    }
   ],
   "source": [
    "# Converting from a list\n",
    "a = np.array([[1, 2, 3], [4, 5, 6]])\n",
    "print(a)\n"
   ]
  },
  {
   "cell_type": "code",
   "execution_count": 4,
   "id": "776d3c78",
   "metadata": {},
   "outputs": [
    {
     "name": "stdout",
     "output_type": "stream",
     "text": [
      "[[0. 0. 0.]\n",
      " [0. 0. 0.]]\n"
     ]
    }
   ],
   "source": [
    "# Using the default methods no.zeros\n",
    "\n",
    "b = np.zeros((2, 3))\n",
    "print(b)"
   ]
  },
  {
   "cell_type": "code",
   "execution_count": 5,
   "id": "5cdfc92b",
   "metadata": {},
   "outputs": [
    {
     "name": "stdout",
     "output_type": "stream",
     "text": [
      "[[1. 1. 1.]\n",
      " [1. 1. 1.]]\n"
     ]
    }
   ],
   "source": [
    "# Using the default methods np.ones\n",
    "\n",
    "c = np.ones((2, 3))\n",
    "print(c)"
   ]
  },
  {
   "cell_type": "code",
   "execution_count": 6,
   "id": "fac494b6",
   "metadata": {},
   "outputs": [
    {
     "name": "stdout",
     "output_type": "stream",
     "text": [
      "[2 4 6 8]\n",
      "[2. 4. 6. 8.]\n"
     ]
    }
   ],
   "source": [
    "# special method for an integer array \n",
    "# similar to range\n",
    "\n",
    "d = np.arange(2, 9, 2)\n",
    "e = np.arange(2, 9, 2, dtype=float)\n",
    "print(d)\n",
    "print(e)"
   ]
  },
  {
   "cell_type": "code",
   "execution_count": 7,
   "id": "ee89d53a",
   "metadata": {},
   "outputs": [],
   "source": [
    "# special method for floating var array\n",
    "f = np.linspace(0,1,5)"
   ]
  },
  {
   "cell_type": "markdown",
   "id": "1b75de59",
   "metadata": {},
   "source": [
    "Once we have an array, we can morph the shape of the array while keeping the total number of elements to be the same by the method *reshape*"
   ]
  },
  {
   "cell_type": "code",
   "execution_count": 13,
   "id": "2b65ac4e",
   "metadata": {},
   "outputs": [
    {
     "name": "stdout",
     "output_type": "stream",
     "text": [
      "[[1 2]\n",
      " [3 4]\n",
      " [5 6]]\n"
     ]
    }
   ],
   "source": [
    "# converting a 2-row-3-column array into a 3-row-2-column array\n",
    "#a2 = reshape(a) # incorrect!\n",
    "\n",
    "a2 = a.reshape((3,2))\n",
    "print(a2)"
   ]
  },
  {
   "cell_type": "markdown",
   "id": "da7f769c",
   "metadata": {},
   "source": [
    "We may notice that the transpose is different from reshape in terms of the element order."
   ]
  },
  {
   "cell_type": "code",
   "execution_count": 14,
   "id": "8455ec9b",
   "metadata": {},
   "outputs": [
    {
     "name": "stdout",
     "output_type": "stream",
     "text": [
      "[[1 4]\n",
      " [2 5]\n",
      " [3 6]]\n"
     ]
    }
   ],
   "source": [
    "print(a.T)"
   ]
  },
  {
   "cell_type": "markdown",
   "id": "4e1a548d",
   "metadata": {},
   "source": [
    "**Reference**:\n",
    "> https://numpy.org/doc/stable/reference/routines.array-creation.html"
   ]
  },
  {
   "cell_type": "markdown",
   "id": "ac175051",
   "metadata": {},
   "source": [
    "### Shape of the array\n",
    "\n",
    "We recapitulate that we may use the attribute *shape* to check the dimension of the array, and *[i,j,...]* to refer to individual elements in a matrix"
   ]
  },
  {
   "cell_type": "code",
   "execution_count": 11,
   "id": "734b30a5",
   "metadata": {},
   "outputs": [
    {
     "name": "stdout",
     "output_type": "stream",
     "text": [
      "[[1 2 3]\n",
      " [4 5 6]]\n",
      "a.shape =  (2, 3) \n",
      "\n",
      "[2. 4. 6. 8.]\n",
      "e.shape =  (4,) \n",
      "\n",
      "[0.   0.25 0.5  0.75 1.  ]\n",
      "f.shape =  (5,)\n"
     ]
    }
   ],
   "source": [
    "# Shape of the array\n",
    "\n",
    "a = np.array([[1, 2, 3], [4, 5, 6]])\n",
    "print(a)\n",
    "print(\"a.shape = \", a.shape, \"\\n\")\n",
    "\n",
    "e = np.arange(2, 9, 2, dtype=float)\n",
    "print(e)\n",
    "print(\"e.shape = \", e.shape, \"\\n\")\n",
    "\n",
    "f = np.linspace(0,1,5)\n",
    "print(f)\n",
    "print(\"f.shape = \", f.shape)"
   ]
  },
  {
   "cell_type": "markdown",
   "id": "b89eb1b4",
   "metadata": {},
   "source": [
    "We also emphasize that the matrices *e* and *f* are column vector."
   ]
  },
  {
   "cell_type": "code",
   "execution_count": 20,
   "id": "ffd03f07",
   "metadata": {},
   "outputs": [
    {
     "name": "stdout",
     "output_type": "stream",
     "text": [
      "3\n",
      "\n",
      "[[1 2]\n",
      " [4 5]]\n",
      "\n",
      "[[4 5 6]\n",
      " [1 2 3]]\n",
      "\n"
     ]
    }
   ],
   "source": [
    "# individual elements of the matrix\n",
    "\n",
    "# single elements\n",
    "print(\"{}\\n\".format(a[0,2]))\n",
    "\n",
    "# slices\n",
    "print(\"{}\\n\".format(a[:,0:2]))\n",
    "\n",
    "# slices with reversed order\n",
    "print(\"{}\\n\".format(a[::-1,:]))"
   ]
  },
  {
   "cell_type": "markdown",
   "id": "b5ea088f",
   "metadata": {},
   "source": [
    "### Dot (scalar) product and cross (vector) product\n",
    "\n",
    "We use the method `dot` and `cross` to do the two products."
   ]
  },
  {
   "cell_type": "code",
   "execution_count": 41,
   "id": "63a8808b",
   "metadata": {},
   "outputs": [
    {
     "name": "stdout",
     "output_type": "stream",
     "text": [
      "dot product: 14\n",
      "matmul product: \n",
      "14\n",
      "cross product: \n",
      "[[1 2 3]\n",
      " [2 4 6]\n",
      " [3 6 9]]\n"
     ]
    }
   ],
   "source": [
    "g = np.array([1,2,3])\n",
    "\n",
    "g_dot = np.dot(g, g)\n",
    "g_cross = np.outer(g, g)\n",
    "g_matmul = np.matmul(g, g)\n",
    "#g_adop = g.reshape((1,3)) @ g\n",
    "\n",
    "\n",
    "print(\"dot product: {}\".format(g_dot))\n",
    "print(\"matmul product: \\n{}\".format(g_matmul))\n",
    "print(\"cross product: \\n{}\".format(g_cross))\n",
    "#print(\"ad operation: \\n{}\".format(g_adop))"
   ]
  },
  {
   "cell_type": "code",
   "execution_count": null,
   "id": "293bf7ea",
   "metadata": {},
   "outputs": [],
   "source": []
  },
  {
   "cell_type": "markdown",
   "id": "37036b73",
   "metadata": {},
   "source": [
    "### Inverse of a matrix\n",
    "\n",
    "We use the package `linalg` inside Numpy and the `inv` method in that package to find the inverse of a matrix. "
   ]
  },
  {
   "cell_type": "code",
   "execution_count": 26,
   "id": "7d0df0eb",
   "metadata": {},
   "outputs": [
    {
     "name": "stdout",
     "output_type": "stream",
     "text": [
      "inverse of g: \n",
      "[[-2.   1. ]\n",
      " [ 1.5 -0.5]]\n"
     ]
    }
   ],
   "source": [
    "g = np.array([[1,2],[3,4]])\n",
    "\n",
    "g_inv = np.linalg.inv(g)\n",
    "print(\"inverse of g: \\n{}\".format(g_inv))"
   ]
  },
  {
   "cell_type": "markdown",
   "id": "8bff7b86",
   "metadata": {},
   "source": [
    "### Exercise 1\n",
    "\n",
    "Can you check if `g_inv` is indeed the inverse of `g`?"
   ]
  },
  {
   "cell_type": "markdown",
   "id": "1eba91eb",
   "metadata": {},
   "source": [
    "### Output a matrix in a text file\n",
    "\n",
    "From time to time we may want to output the results to a text file so that we may further present it or use it in other codes. To do so, we use the method  `savetxt` and `loadtxt`:"
   ]
  },
  {
   "cell_type": "code",
   "execution_count": 28,
   "id": "240af750",
   "metadata": {},
   "outputs": [
    {
     "name": "stdout",
     "output_type": "stream",
     "text": [
      "[[1. 2.]\n",
      " [3. 4.]]\n"
     ]
    }
   ],
   "source": [
    "g = np.array([[1,2],[3,4]])\n",
    "\n",
    "np.savetxt(\"g.txt\", g)\n",
    "g_loaded = np.loadtxt(\"g.txt\")\n",
    "\n",
    "print(g_loaded)"
   ]
  },
  {
   "cell_type": "markdown",
   "id": "dc6bfb75",
   "metadata": {},
   "source": [
    "### Exercise 2\n",
    "\n",
    "Create a matrix $B = [[5,6],[7,8]]$ and then output it to a file, and then read it to another matrix, let's call it $C$, and check if the matrices are the same."
   ]
  },
  {
   "cell_type": "code",
   "execution_count": 42,
   "id": "cbb88c43",
   "metadata": {},
   "outputs": [
    {
     "name": "stdout",
     "output_type": "stream",
     "text": [
      "[[ True  True]\n",
      " [ True  True]]\n"
     ]
    }
   ],
   "source": [
    "# declare matrix B\n",
    "B = np.array([[5,6],[7,8]])\n",
    "\n",
    "# save matrix B to a file\n",
    "# it will generate a file named \"B.txt\" in the \n",
    "# same directory where you are working your \n",
    "# Jupyter Notebook (by default, in your Documents folder)\n",
    "np.savetxt(\"B.txt\", B)\n",
    "\n",
    "# read file and save in matrix C\n",
    "C = np.loadtxt(\"B.txt\")\n",
    "\n",
    "# check matrices B and C are the same\n",
    "print(B == C)"
   ]
  },
  {
   "cell_type": "markdown",
   "id": "a6195f2c",
   "metadata": {},
   "source": [
    "**Reference**: \n",
    "    \n",
    "- https://numpy.org/doc/stable/reference/routines.io.html"
   ]
  },
  {
   "cell_type": "markdown",
   "id": "0c85bb31",
   "metadata": {},
   "source": [
    "### Eigenvalue and Concatenuating row array\n",
    "\n",
    "In finding the eigenvector, we need to patch the eigenvectors side by side to form a matrix. For example, consider the matrix\n",
    "$A = \n",
    "\\left(\\begin{array}{cc} \n",
    "1 & 2\\\\\n",
    "3 & 4\n",
    "\\end{array}\\right)$ \n",
    "\n",
    "We want to find the eigenvalue and eigenvectors. We may use the method `eig` in the `linalg` package to find. Then we can create the square array of eigenvectors."
   ]
  },
  {
   "cell_type": "code",
   "execution_count": 43,
   "id": "08a4a6fd",
   "metadata": {},
   "outputs": [
    {
     "name": "stdout",
     "output_type": "stream",
     "text": [
      "(array([-0.37228132,  5.37228132]), array([[-0.82456484, -0.41597356],\n",
      "       [ 0.56576746, -0.90937671]]))\n"
     ]
    }
   ],
   "source": [
    "A = np.array([[1,2],[3,4]])\n",
    "\n",
    "A_eig = np.linalg.eig(A)\n",
    "print(A_eig)"
   ]
  },
  {
   "cell_type": "markdown",
   "id": "f6e3dfe3",
   "metadata": {},
   "source": [
    "Apparently the variable `A_eig` stores the eigenvalues -0.3722 and 5.3723 and the two eigenvectors. How do we further use this results? Right now it looks like they are packed together. Indeed,"
   ]
  },
  {
   "cell_type": "code",
   "execution_count": 31,
   "id": "d2184376",
   "metadata": {},
   "outputs": [
    {
     "data": {
      "text/plain": [
       "tuple"
      ]
     },
     "execution_count": 31,
     "metadata": {},
     "output_type": "execute_result"
    }
   ],
   "source": [
    "type(A_eig)"
   ]
  },
  {
   "cell_type": "code",
   "execution_count": 45,
   "id": "009d972b",
   "metadata": {},
   "outputs": [
    {
     "name": "stdout",
     "output_type": "stream",
     "text": [
      "[[-0.82456484 -0.41597356]\n",
      " [ 0.56576746 -0.90937671]]\n"
     ]
    }
   ],
   "source": [
    "print(A_eig[1])"
   ]
  },
  {
   "cell_type": "markdown",
   "id": "2938da53",
   "metadata": {},
   "source": [
    "We need to call their element by the index. By inspection, the first elements is the array of the eignevalues. Remember that calling the elements in a tuple is the same as a list. The only difference between a tuple and a list is that a tuple is immutable. Thus, once it is there, all elements and the size of the tuple remain the same. The use of tuple is very extensive, especially where many Numpy functions return a bunch of results in the form of tuple. Thus we have"
   ]
  },
  {
   "cell_type": "code",
   "execution_count": 44,
   "id": "720254ca",
   "metadata": {},
   "outputs": [
    {
     "name": "stdout",
     "output_type": "stream",
     "text": [
      "The two eigenvalues are -0.3723 and 5.3723\n"
     ]
    }
   ],
   "source": [
    "eig_val1 = A_eig[0][0]\n",
    "eig_val2 = A_eig[0][1]\n",
    "print(\"The two eigenvalues are {:.4f} and {:.4f}\".format(eig_val1, eig_val2))"
   ]
  },
  {
   "cell_type": "markdown",
   "id": "ecc45faa",
   "metadata": {},
   "source": [
    "By the same method we can use it to extract the eigenvectors. We will use the method `hstack` and `vstack` (depending on how we have defined the eigenvectors) to *stack* the vectors to form the transformation matrix. "
   ]
  },
  {
   "cell_type": "code",
   "execution_count": 26,
   "id": "f8fbd821",
   "metadata": {},
   "outputs": [
    {
     "name": "stdout",
     "output_type": "stream",
     "text": [
      "[-0.82456484  0.56576746] [-0.41597356 -0.90937671]\n"
     ]
    }
   ],
   "source": [
    "eig_vec1 = A_eig[1][:,0]\n",
    "eig_vec2 = A_eig[1][:,1]\n",
    "print(eig_vec1, eig_vec2)"
   ]
  },
  {
   "cell_type": "code",
   "execution_count": 27,
   "id": "9b791344",
   "metadata": {},
   "outputs": [
    {
     "name": "stdout",
     "output_type": "stream",
     "text": [
      "[[-0.82456484 -0.41597356]\n",
      " [ 0.56576746 -0.90937671]]\n"
     ]
    }
   ],
   "source": [
    "Q = np.hstack((eig_vec1.reshape((2,1)), eig_vec2.reshape(2,1)))\n",
    "#Q = np.vstack((eig_vec1, eig_vec2))\n",
    "print(Q)"
   ]
  },
  {
   "cell_type": "code",
   "execution_count": 28,
   "id": "38a50dca",
   "metadata": {},
   "outputs": [
    {
     "name": "stdout",
     "output_type": "stream",
     "text": [
      "[[-0.92305231  0.42222915]\n",
      " [-0.57427572 -0.83696501]]\n"
     ]
    }
   ],
   "source": [
    "Q_inv = np.linalg.inv(Q)\n",
    "print(Q_inv)"
   ]
  },
  {
   "cell_type": "code",
   "execution_count": 29,
   "id": "84f33e3d",
   "metadata": {},
   "outputs": [
    {
     "name": "stdout",
     "output_type": "stream",
     "text": [
      "[[ 1.00000000e+00  1.02439817e-16]\n",
      " [-2.67036479e-17  1.00000000e+00]]\n"
     ]
    }
   ],
   "source": [
    "# check that the Q_inv is indeed the inverse of Q\n",
    "print(np.matmul(Q_inv, Q))"
   ]
  },
  {
   "cell_type": "markdown",
   "id": "46fca63b",
   "metadata": {},
   "source": [
    "Recall that in linear algebra, the matrix can be expressed by the eigenvalue matrix $\\Lambda$ and the eigenvectors matrix $Q$ by \n",
    "\n",
    "$A = Q \\Lambda Q^{-1}$"
   ]
  },
  {
   "cell_type": "code",
   "execution_count": 24,
   "id": "0a616c4c",
   "metadata": {},
   "outputs": [],
   "source": [
    "# construct the diagonal eigenvalue matrix\n",
    "\n",
    "Lambda = np.zeros((2,2))\n",
    "for i in range(2):\n",
    "    Lambda[i,i] = A_eig[0][i]"
   ]
  },
  {
   "cell_type": "code",
   "execution_count": 30,
   "id": "c6aa5ddf",
   "metadata": {},
   "outputs": [
    {
     "name": "stdout",
     "output_type": "stream",
     "text": [
      "[[1. 2.]\n",
      " [3. 4.]]\n"
     ]
    }
   ],
   "source": [
    "print(np.matmul(Q, np.matmul(Lambda, Q_inv)))"
   ]
  },
  {
   "cell_type": "markdown",
   "id": "9392583a",
   "metadata": {},
   "source": [
    "### Exercise 3\n",
    "\n",
    "Solve by hand the eigenvalue and eigenvector to double check the results. "
   ]
  },
  {
   "cell_type": "markdown",
   "id": "669dfe82",
   "metadata": {},
   "source": [
    "### Exercise 4\n",
    "\n",
    "Now it is your turn to find the eigenvalues of the matrix \n",
    "$B = \n",
    "\\left(\\begin{array}{cc} \n",
    "1 & 2\\\\\n",
    "3 & 1\n",
    "\\end{array}\\right)$\n",
    "\n",
    "Find the eigenvalues and eivenvectors. And then construct the diagonal matrix where the elements are the eigenvalues of $B$. Try not to directly copy and paste the code we have shown. "
   ]
  },
  {
   "cell_type": "code",
   "execution_count": 50,
   "id": "a243440b",
   "metadata": {},
   "outputs": [
    {
     "name": "stdout",
     "output_type": "stream",
     "text": [
      "[[1 2]\n",
      " [3 1]]\n",
      "[ 3.44948974 -1.44948974]\n",
      "[[0. 0.]\n",
      " [0. 0.]]\n",
      "[[ 3.44948974  0.        ]\n",
      " [ 0.         -1.44948974]]\n",
      "[[ 3.44948974  0.        ]\n",
      " [ 0.         -1.44948974]]\n"
     ]
    }
   ],
   "source": [
    "# build the matrix B\n",
    "B = np.array([[1, 2], [3, 1]])\n",
    "print(B)\n",
    "\n",
    "# use linalg package eigenvalue method to find the eigenvalues and eigenvectors\n",
    "eig_results = np.linalg.eig(B)\n",
    "print(eig_results[0])\n",
    "\n",
    "# build a zero matrix of size 2x2\n",
    "dia_mat = np.zeros((2,2))\n",
    "print(dia_mat)\n",
    "\n",
    "# fill in the diagonal elements with eigenvalues\n",
    "for i in range(2):\n",
    "    dia_mat[i,i] = eig_results[0][i]\n",
    "print(dia_mat)\n",
    "\n",
    "dia_mat2 = np.diag(eig_results[0])\n",
    "print(dia_mat2)"
   ]
  },
  {
   "cell_type": "markdown",
   "id": "3acb4bc5",
   "metadata": {},
   "source": [
    "### Documentation\n",
    "\n",
    "It is impossible to cover all the methods in Numpy because it is such an extensive library which contains all basic operations in linear algebra, function transforms, data regression and so on. We refer interested readers to the official documents to explore other possibilities. \n",
    "\n",
    "> https://numpy.org/doc/stable/reference/index.html"
   ]
  },
  {
   "cell_type": "markdown",
   "id": "46685c46",
   "metadata": {},
   "source": [
    "### Exercise 5\n",
    "\n",
    "By searching the documentation, find the determinant of the matrix $B$ defined above. "
   ]
  },
  {
   "cell_type": "code",
   "execution_count": 52,
   "id": "6a8901c7",
   "metadata": {},
   "outputs": [
    {
     "name": "stdout",
     "output_type": "stream",
     "text": [
      "-5.0000\n"
     ]
    }
   ],
   "source": [
    "print(\"{:.4f}\".format(np.linalg.det(B)))"
   ]
  },
  {
   "cell_type": "markdown",
   "id": "4afcbf6d",
   "metadata": {},
   "source": [
    "## Difference between Numpy and Scipy\n",
    "\n",
    "The two libraries have actually different functionality in the latest versions. The Numpy library is more aimed at solving and handling arrays in an efficient way, while Scipy aims at providing the algorithms for many operation beyond matrix, such as algebraic function, regression, solving polynomial and so on. Below we list the three major differences:\n",
    "\n",
    "1. Numpy is written with C subroutines and Scipy is written in Python. Thus, for overlapping methods in both libraries, Numpy has a higher efficiency. \n",
    "2. Operation in Scipy does not limit to arrays. The data can be inhomogeneous (though not advised).\n",
    "3. The definition and design of function in Scipy is more detailed than Numpy\n",
    "\n",
    "**Reference**:\n",
    "\n",
    "NumPy contains array data and basic operations such as sorting, indexing, etc whereas, SciPy consists of all the numerical code.\n",
    "- https://www.scipy.org/scipylib/faq.html\n",
    "- https://stackoverflow.com/questions/6200910/relationship-between-scipy-and-numpy"
   ]
  },
  {
   "cell_type": "markdown",
   "id": "4e8d13dd",
   "metadata": {},
   "source": [
    "### Example, using linalg package for solving matrix (by Andrea)\n",
    "\n",
    "Below we create a small $2 \\times 2$ matrix $A$ and a column vector $b$ we solve for the root $x$ where $Ax = b$. "
   ]
  },
  {
   "cell_type": "code",
   "execution_count": 49,
   "id": "60354865",
   "metadata": {},
   "outputs": [
    {
     "name": "stdout",
     "output_type": "stream",
     "text": [
      "A =\n",
      " [[1 2]\n",
      " [0 1]] \n",
      "\n",
      "x =\n",
      " [-2.  1.] \n",
      "\n",
      "A @ x =\n",
      " [0. 1.] \n",
      "\n",
      "A.dot(x) =\n",
      " [0. 1.] \n",
      "\n"
     ]
    }
   ],
   "source": [
    "import numpy as np\n",
    "import scipy.linalg as la\n",
    "\n",
    "A = np.array([[ 1, 2],\n",
    "              [0,  1]])\n",
    "b = np.array([0,1])\n",
    "\n",
    "x = la.solve(A,b)\n",
    "\n",
    "\n",
    "for i in ['A','x','A @ x','A.dot(x)']: \n",
    "    print(i,\"=\\n\", eval(i),\"\\n\")"
   ]
  },
  {
   "cell_type": "markdown",
   "id": "f0acc16c",
   "metadata": {},
   "source": [
    "### Exercise 6\n",
    "\n",
    "Check. Remember, b is a liner combination of the columns of A"
   ]
  },
  {
   "cell_type": "markdown",
   "id": "5440b338",
   "metadata": {},
   "source": [
    "### Performance comparison of Numpy and Scipy\n",
    "\n",
    "Below we ask Numpy and Scipy to do the same task, i.e. to solve for the root. From this we try to demonstrate the difference in their computational time. \n",
    "\n",
    "What we do is to generate a large matrix $C$ and the column vector $y$, we try to solve $C x  = y$."
   ]
  },
  {
   "cell_type": "code",
   "execution_count": 80,
   "id": "472bf6ac",
   "metadata": {},
   "outputs": [],
   "source": [
    "# Numpy's turn\n",
    "\n",
    "# create a random square matrix C\n",
    "C = np.random.randint(0, 10, (5000, 5000))\n",
    "\n",
    "# create a random column matrix y\n",
    "y = np.random.randint(-10, 10, (5000, 1))"
   ]
  },
  {
   "cell_type": "code",
   "execution_count": 81,
   "id": "bd8c60a2",
   "metadata": {},
   "outputs": [
    {
     "name": "stdout",
     "output_type": "stream",
     "text": [
      "Numpy takes 0.945504903793335 s\n"
     ]
    }
   ],
   "source": [
    "import time\n",
    "\n",
    "start_time = time.time()\n",
    "C_np = np.linalg.solve(C, y)\n",
    "print(\"Numpy takes {} s\".format(time.time() - start_time))"
   ]
  },
  {
   "cell_type": "code",
   "execution_count": 82,
   "id": "3b5a3357",
   "metadata": {},
   "outputs": [
    {
     "name": "stdout",
     "output_type": "stream",
     "text": [
      "Scipy takes 1.208235740661621 s\n"
     ]
    }
   ],
   "source": [
    "start_time = time.time()\n",
    "C_sp = la.solve(C, y)\n",
    "print(\"Scipy takes {} s\".format(time.time() - start_time))"
   ]
  },
  {
   "cell_type": "markdown",
   "id": "1859550c",
   "metadata": {},
   "source": [
    "If you are using very large matrix or need to repeat processes many times, if there is an option in using Numpy, Numpy is more preferred. "
   ]
  },
  {
   "cell_type": "markdown",
   "id": "c070da9d",
   "metadata": {},
   "source": [
    "### Exercise 7 (Code study by Andrea)\n",
    "\n",
    "Study the code below. Why does Python raise the error? Do you know what goes wrong?"
   ]
  },
  {
   "cell_type": "code",
   "execution_count": 48,
   "id": "a8a85888",
   "metadata": {},
   "outputs": [
    {
     "name": "stdout",
     "output_type": "stream",
     "text": [
      "[[1. 1. 1.]\n",
      " [1. 1. 1.]\n",
      " [1. 1. 1.]]\n"
     ]
    },
    {
     "ename": "LinAlgError",
     "evalue": "2-th leading minor of the array is not positive definite",
     "output_type": "error",
     "traceback": [
      "\u001b[1;31m---------------------------------------------------------------------------\u001b[0m",
      "\u001b[1;31mLinAlgError\u001b[0m                               Traceback (most recent call last)",
      "\u001b[1;32m<ipython-input-48-2416e30aded3>\u001b[0m in \u001b[0;36m<module>\u001b[1;34m\u001b[0m\n\u001b[0;32m      1\u001b[0m \u001b[1;32mimport\u001b[0m \u001b[0mscipy\u001b[0m\u001b[1;33m.\u001b[0m\u001b[0mlinalg\u001b[0m \u001b[1;32mas\u001b[0m \u001b[0mla\u001b[0m\u001b[1;33m\u001b[0m\u001b[1;33m\u001b[0m\u001b[0m\n\u001b[0;32m      2\u001b[0m \u001b[0mprint\u001b[0m\u001b[1;33m(\u001b[0m\u001b[0mnp\u001b[0m\u001b[1;33m.\u001b[0m\u001b[0mones\u001b[0m\u001b[1;33m(\u001b[0m\u001b[1;33m(\u001b[0m\u001b[1;36m3\u001b[0m\u001b[1;33m,\u001b[0m\u001b[1;36m3\u001b[0m\u001b[1;33m)\u001b[0m\u001b[1;33m)\u001b[0m\u001b[1;33m)\u001b[0m\u001b[1;33m\u001b[0m\u001b[1;33m\u001b[0m\u001b[0m\n\u001b[1;32m----> 3\u001b[1;33m \u001b[0mL\u001b[0m \u001b[1;33m=\u001b[0m \u001b[0mla\u001b[0m\u001b[1;33m.\u001b[0m\u001b[0mcholesky\u001b[0m\u001b[1;33m(\u001b[0m\u001b[0mnp\u001b[0m\u001b[1;33m.\u001b[0m\u001b[0mones\u001b[0m\u001b[1;33m(\u001b[0m\u001b[1;33m(\u001b[0m\u001b[1;36m3\u001b[0m\u001b[1;33m,\u001b[0m\u001b[1;36m3\u001b[0m\u001b[1;33m)\u001b[0m\u001b[1;33m)\u001b[0m\u001b[1;33m)\u001b[0m\u001b[1;33m\u001b[0m\u001b[1;33m\u001b[0m\u001b[0m\n\u001b[0m\u001b[0;32m      4\u001b[0m \u001b[0mprint\u001b[0m\u001b[1;33m(\u001b[0m\u001b[0mL\u001b[0m\u001b[1;33m)\u001b[0m\u001b[1;33m\u001b[0m\u001b[1;33m\u001b[0m\u001b[0m\n",
      "\u001b[1;32m~\\anaconda3\\lib\\site-packages\\scipy\\linalg\\decomp_cholesky.py\u001b[0m in \u001b[0;36mcholesky\u001b[1;34m(a, lower, overwrite_a, check_finite)\u001b[0m\n\u001b[0;32m     86\u001b[0m \u001b[1;33m\u001b[0m\u001b[0m\n\u001b[0;32m     87\u001b[0m     \"\"\"\n\u001b[1;32m---> 88\u001b[1;33m     c, lower = _cholesky(a, lower=lower, overwrite_a=overwrite_a, clean=True,\n\u001b[0m\u001b[0;32m     89\u001b[0m                          check_finite=check_finite)\n\u001b[0;32m     90\u001b[0m     \u001b[1;32mreturn\u001b[0m \u001b[0mc\u001b[0m\u001b[1;33m\u001b[0m\u001b[1;33m\u001b[0m\u001b[0m\n",
      "\u001b[1;32m~\\anaconda3\\lib\\site-packages\\scipy\\linalg\\decomp_cholesky.py\u001b[0m in \u001b[0;36m_cholesky\u001b[1;34m(a, lower, overwrite_a, clean, check_finite)\u001b[0m\n\u001b[0;32m     35\u001b[0m     \u001b[0mc\u001b[0m\u001b[1;33m,\u001b[0m \u001b[0minfo\u001b[0m \u001b[1;33m=\u001b[0m \u001b[0mpotrf\u001b[0m\u001b[1;33m(\u001b[0m\u001b[0ma1\u001b[0m\u001b[1;33m,\u001b[0m \u001b[0mlower\u001b[0m\u001b[1;33m=\u001b[0m\u001b[0mlower\u001b[0m\u001b[1;33m,\u001b[0m \u001b[0moverwrite_a\u001b[0m\u001b[1;33m=\u001b[0m\u001b[0moverwrite_a\u001b[0m\u001b[1;33m,\u001b[0m \u001b[0mclean\u001b[0m\u001b[1;33m=\u001b[0m\u001b[0mclean\u001b[0m\u001b[1;33m)\u001b[0m\u001b[1;33m\u001b[0m\u001b[1;33m\u001b[0m\u001b[0m\n\u001b[0;32m     36\u001b[0m     \u001b[1;32mif\u001b[0m \u001b[0minfo\u001b[0m \u001b[1;33m>\u001b[0m \u001b[1;36m0\u001b[0m\u001b[1;33m:\u001b[0m\u001b[1;33m\u001b[0m\u001b[1;33m\u001b[0m\u001b[0m\n\u001b[1;32m---> 37\u001b[1;33m         raise LinAlgError(\"%d-th leading minor of the array is not positive \"\n\u001b[0m\u001b[0;32m     38\u001b[0m                           \"definite\" % info)\n\u001b[0;32m     39\u001b[0m     \u001b[1;32mif\u001b[0m \u001b[0minfo\u001b[0m \u001b[1;33m<\u001b[0m \u001b[1;36m0\u001b[0m\u001b[1;33m:\u001b[0m\u001b[1;33m\u001b[0m\u001b[1;33m\u001b[0m\u001b[0m\n",
      "\u001b[1;31mLinAlgError\u001b[0m: 2-th leading minor of the array is not positive definite"
     ]
    }
   ],
   "source": [
    "import scipy.linalg as la\n",
    "print(np.ones((3,3)))\n",
    "L = la.cholesky(np.ones((3,3)))\n",
    "print(L)"
   ]
  },
  {
   "cell_type": "markdown",
   "id": "bd3a43d6",
   "metadata": {},
   "source": [
    "## Matplotlib\n",
    "\n",
    "The final topic we want to cover, so that you may do the first set of homework is the data visualization library, or the plotting library `matplotlib`. This library has a very long heritage which can be traced back to Python 2.0 (2003). There are also other new visualization tool like `seaborn`, or `express`. But Matpliblib is still the standard in terms of the coverage in the scientific publication (but less coverage if it goes to webpage development due to its lack of interactive graph). It has very rich customization which can respond to very different scenarios. \n",
    "\n",
    "We will focus on the `matplotlib.pyplot` package in this lecture. "
   ]
  },
  {
   "cell_type": "markdown",
   "id": "1d78bf89",
   "metadata": {},
   "source": [
    "*Only for first time*\n",
    "\n",
    "In case if your Python is very new, your Python library might not have installed the Matplotlib, then you may need to type\n",
    "```\n",
    "!pip install matplotlib\n",
    "```\n",
    "and execute it first. It might take some time because it is not a small library. "
   ]
  },
  {
   "cell_type": "code",
   "execution_count": null,
   "id": "30698a33",
   "metadata": {},
   "outputs": [],
   "source": [
    "!pip install matplotlib"
   ]
  },
  {
   "cell_type": "code",
   "execution_count": 54,
   "id": "a5c16fe3",
   "metadata": {},
   "outputs": [],
   "source": [
    "# import the library as follows\n",
    "\n",
    "import matplotlib.pyplot as plt"
   ]
  },
  {
   "cell_type": "markdown",
   "id": "2adde143",
   "metadata": {},
   "source": [
    "To plot some simple $x-y$ plot, we can simply use the `plot` method and pass the data of $x$ and $y$ accordingly. Let's try to plot the $y = 2x$ function from $x=1$ to 3. "
   ]
  },
  {
   "cell_type": "code",
   "execution_count": 2,
   "id": "c0a8ca9f",
   "metadata": {},
   "outputs": [
    {
     "data": {
      "text/plain": [
       "[<matplotlib.lines.Line2D at 0x1eb1304fa00>]"
      ]
     },
     "execution_count": 2,
     "metadata": {},
     "output_type": "execute_result"
    },
    {
     "data": {
      "image/png": "[encoded data removed]",
      "text/plain": [
       "<Figure size 432x288 with 1 Axes>"
      ]
     },
     "metadata": {
      "needs_background": "light"
     },
     "output_type": "display_data"
    }
   ],
   "source": [
    "plt.plot([1,2,3], [2,4,6])"
   ]
  },
  {
   "cell_type": "markdown",
   "id": "958690ef",
   "metadata": {},
   "source": [
    "As long as we pass data structure like a 1D array or list, Matplotlib will align the data and show it in a graph. Certainly the above figure is very rough which we may need to decorate before we can publish it. Below we show more steps demonstrating how these can be done. "
   ]
  },
  {
   "cell_type": "code",
   "execution_count": 57,
   "id": "f83e91f2",
   "metadata": {},
   "outputs": [
    {
     "data": {
      "image/png": "[encoded data removed]",
      "text/plain": [
       "<Figure size 432x288 with 1 Axes>"
      ]
     },
     "metadata": {
      "needs_background": "light"
     },
     "output_type": "display_data"
    }
   ],
   "source": [
    "# plot the figure with dashed line and with circle to mark the data point\n",
    "plt.plot([1,2,3,5], [2,4,6,9], \":p\", c=\"red\")\n",
    "\n",
    "# change the axis label\n",
    "plt.xlabel(\"x var\")\n",
    "plt.ylabel(\"y var\")\n",
    "\n",
    "# add the axis in the graph\n",
    "plt.title(\"My first plot\")\n",
    "\n",
    "# change the ticks on the x-axis\n",
    "plt.xticks([1,2,3,6])\n",
    "\n",
    "# change the font size of the graph\n",
    "plt.rcParams.update({\"font.size\":14})"
   ]
  },
  {
   "cell_type": "markdown",
   "id": "26051b1d",
   "metadata": {},
   "source": [
    "Here we briefly summarize the common plotting style:\n",
    "- solid line: \"-\"\n",
    "- dashed line: \"--\"\n",
    "- dotted line: \":\"\n",
    "- dot dashed line: \"-.\"\n",
    "\n",
    "The data point can be plotted in:\n",
    "- circle: \"o\"\n",
    "- square: \"s\"\n",
    "- pentagon: \"p\"\n",
    "- hexagon: \"h\"\n",
    "\n",
    "You might notice that in the first line of the above example, we use `c=\"black\"` to ask Matplotlib to plot the figure in black. This is because Python has a option as optional parameters, if you do not give any, Matplotlib will use the default value. In the above example, we see that the default colour is something blue. But if we pass any value into that function (method), our value will override the default value and it will be shown in the figure. "
   ]
  },
  {
   "cell_type": "markdown",
   "id": "98c4cf2c",
   "metadata": {},
   "source": [
    "### Exercise 8\n",
    "\n",
    "Try to copy the above code to the block below and experiment with different plotting style. "
   ]
  },
  {
   "cell_type": "code",
   "execution_count": null,
   "id": "4de26e0f",
   "metadata": {},
   "outputs": [],
   "source": []
  },
  {
   "cell_type": "markdown",
   "id": "0610062b",
   "metadata": {},
   "source": [
    "### Exercise 9\n",
    "\n",
    "1. Use list comprehension to create two lists (or arrays if you want) of data that represents two functions $y_1 = x^2 + 2x + 3$, $y_2 = 2 \\sin(x)$. In the domain $x \\in (1,5)$\n",
    "2. Plot the $y_1$ in red solid line, use the parameter \"label\" to pass the name of the line as $y_1$. \n",
    "3. Plot the $y_2$ in green dashed line, with data point shown as upper triangle. Again, use the parameter \"label\" to pass the name of the line as $y_2$, \n",
    "4. Add the x- and y-axis labels accordingly\n",
    "5. Add a legend in the graph.\n",
    "\n",
    "Certainly there are parts that are not fully covered in our examples. You may want to search in the documentation or stackoverflow to get some hints. "
   ]
  },
  {
   "cell_type": "code",
   "execution_count": 66,
   "id": "15c0d5d8",
   "metadata": {},
   "outputs": [
    {
     "name": "stdout",
     "output_type": "stream",
     "text": [
      "[1.         1.1025641  1.20512821 1.30769231 1.41025641 1.51282051\n",
      " 1.61538462 1.71794872 1.82051282 1.92307692 2.02564103 2.12820513\n",
      " 2.23076923 2.33333333 2.43589744 2.53846154 2.64102564 2.74358974\n",
      " 2.84615385 2.94871795 3.05128205 3.15384615 3.25641026 3.35897436\n",
      " 3.46153846 3.56410256 3.66666667 3.76923077 3.87179487 3.97435897\n",
      " 4.07692308 4.17948718 4.28205128 4.38461538 4.48717949 4.58974359\n",
      " 4.69230769 4.79487179 4.8974359  5.        ]\n"
     ]
    },
    {
     "data": {
      "text/plain": [
       "<matplotlib.legend.Legend at 0x1221dedb430>"
      ]
     },
     "execution_count": 66,
     "metadata": {},
     "output_type": "execute_result"
    },
    {
     "data": {
      "image/png": "[encoded data removed]",
      "text/plain": [
       "<Figure size 432x288 with 1 Axes>"
      ]
     },
     "metadata": {
      "needs_background": "light"
     },
     "output_type": "display_data"
    }
   ],
   "source": [
    "# create the data points for x (one line)\n",
    "xs = np.linspace(1,5,10)\n",
    "print(x)\n",
    "\n",
    "# create the data points for y1 (one line)\n",
    "y1s = [x*x + 2*x + 3 for x in xs] # general\n",
    "y1s_b = xs*xs + 2*xs + 3 # only valid for numpy array\n",
    "\n",
    "# create the data points for y2 (one line)\n",
    "from math import sin\n",
    "y2s = [2 * sin(x) for x in xs]\n",
    "y2s_b = 2 * np.sin(xs) # valid for numpy array and numpy functions\n",
    "\n",
    "# plot y1 and y2 (two line), remember to add the line properties (two lines)\n",
    "plt.plot(xs, y1s_b, \"-\", c=\"red\", label=\"y1\")\n",
    "plt.plot(xs, y2s_b, \"--^\", c=\"green\", label=\"y2\")\n",
    "\n",
    "# update the x- and y-label (two lines)\n",
    "plt.xlabel(\"x\")\n",
    "plt.ylabel(\"y\")\n",
    "\n",
    "# add the legend (one line)\n",
    "plt.legend()"
   ]
  },
  {
   "cell_type": "markdown",
   "id": "9f687f09",
   "metadata": {},
   "source": [
    "The last example (by Andrea) and exercise to show in this lecture is the two-dimensinal colour plot, which is very useful to visualize the flow of the different equations. \n",
    "\n",
    "To do so, we need to use the concept of `figure` and `ax`. The class `figure` is the plotting space in general, and `ax` is the axis object which defined the plotting area. By doing so it gives us more flexibility to control the graph, especially the general outlook of the graph and when the graph has multiple plots. "
   ]
  },
  {
   "cell_type": "code",
   "execution_count": 68,
   "id": "4e7b470b",
   "metadata": {},
   "outputs": [
    {
     "name": "stderr",
     "output_type": "stream",
     "text": [
      "<ipython-input-68-a3c815e727da>:13: MatplotlibDeprecationWarning: shading='flat' when X and Y have the same dimensions as C is deprecated since 3.3.  Either specify the corners of the quadrilaterals with X and Y, or pass shading='auto', 'nearest' or 'gouraud', or set rcParams['pcolor.shading'].  This will become an error two minor releases later.\n",
      "  ax.pcolormesh(X, Y, f)\n"
     ]
    },
    {
     "data": {
      "image/png": "[encoded data removed]",
      "text/plain": [
       "<Figure size 432x288 with 1 Axes>"
      ]
     },
     "metadata": {
      "needs_background": "light"
     },
     "output_type": "display_data"
    }
   ],
   "source": [
    "import numpy as np\n",
    "# ploting 2d functions on regular meshes \n",
    "x = np.linspace(-1,1,100)   # start, end, how many\n",
    "X,Y = np.meshgrid(x, x)\n",
    "\n",
    "f = X**2 + Y**2  # f(x,y)\n",
    "\n",
    "# set up a canva to draw\n",
    "fig = plt.figure()\n",
    "ax = fig.add_subplot(111)\n",
    "\n",
    "# plot the 2D color plot\n",
    "ax.pcolormesh(X, Y, f)\n",
    "#ax.plot(x1, y1b)\n",
    "\n",
    "# set the aspect of the graph\n",
    "ax.set_aspect(\"equal\")\n",
    "\n",
    "# add a title \n",
    "ax.set_title(\"2D plot\")\n",
    "\n",
    "plt.show()"
   ]
  },
  {
   "cell_type": "markdown",
   "id": "a63fae14",
   "metadata": {},
   "source": [
    "### Exercise 10\n",
    "\n",
    "Plot a similar 2D graph for the function $f(x,y)=\\cos(\\pi x) \\cos(\\pi y)$ for $x \\in (-1, 1)$. \n",
    "1. This time let us use another colour map `cmap` to be \"winter\". Where can we set it?\n",
    "2. Add a color bar legend to let reader knows the mapping of value.\n",
    "\n",
    "Again, this is a good chance to practice using documentation and stackoverflow."
   ]
  },
  {
   "cell_type": "code",
   "execution_count": 78,
   "id": "67bcb01e",
   "metadata": {},
   "outputs": [
    {
     "name": "stderr",
     "output_type": "stream",
     "text": [
      "<ipython-input-78-0a2df768e693>:14: MatplotlibDeprecationWarning: shading='flat' when X and Y have the same dimensions as C is deprecated since 3.3.  Either specify the corners of the quadrilaterals with X and Y, or pass shading='auto', 'nearest' or 'gouraud', or set rcParams['pcolor.shading'].  This will become an error two minor releases later.\n",
      "  cb = ax.pcolormesh(X, Y, f, cmap=\"winter\")\n"
     ]
    },
    {
     "data": {
      "image/png": "[encoded data removed]",
      "text/plain": [
       "<Figure size 432x288 with 2 Axes>"
      ]
     },
     "metadata": {
      "needs_background": "light"
     },
     "output_type": "display_data"
    }
   ],
   "source": [
    "# define the range of x and y (two lines)\n",
    "x = np.linspace(-1, 1, 100)\n",
    "X, Y = np.meshgrid(x, x)\n",
    "\n",
    "# build up the map for f (one line)\n",
    "f = np.cos(np.pi * X) * np.cos(np.pi * Y)\n",
    "\n",
    "# create the figure object and then axis object (two lines)\n",
    "fig = plt.figure()\n",
    "ax = fig.add_subplot(111)\n",
    "\n",
    "# plot the 2D colour plot and also output the colour bar data\n",
    "# with the setting of colour map (one line)\n",
    "cb = ax.pcolormesh(X, Y, f, cmap=\"winter\")\n",
    "\n",
    "# use the colour data to add the colour bar legend (one line)\n",
    "plt.colorbar(cb)\n",
    "\n",
    "# output the graph (one line)\n",
    "plt.show()"
   ]
  },
  {
   "cell_type": "code",
   "execution_count": 79,
   "id": "2140e80f",
   "metadata": {},
   "outputs": [
    {
     "data": {
      "text/plain": [
       "(100, 100)"
      ]
     },
     "execution_count": 79,
     "metadata": {},
     "output_type": "execute_result"
    }
   ],
   "source": [
    "f.shape"
   ]
  },
  {
   "cell_type": "markdown",
   "id": "2c608f56",
   "metadata": {},
   "source": [
    "### Remark from Andrea\n",
    "\n",
    "#### <font color='purple'> Make sure that you feel comfortable with numpy, scipy, matplotlib. You should be able to work on the first homework set. \n",
    "\n",
    "> Find information about certain routines in the [numpy reference](https://docs.scipy.org/doc/numpy/reference/), the [numpy user guide](https://docs.scipy.org/doc/numpy/user/), and the [scipy reference](https://docs.scipy.org/doc/scipy/reference/).\n",
    "    \n",
    "> Chapter 1 of the [scipy-lectures](http://www.scipy-lectures.org/) is geared towards engineers.\n",
    "\n",
    "> Use the [matplotlob gallery](https://matplotlib.org/gallery/) as resource for images and source code.\n",
    "\n",
    "> Ask us or [stackoverflow](https://stackoverflow.com) if you have a question. </font>\n"
   ]
  },
  {
   "cell_type": "markdown",
   "id": "bf7b1e2c",
   "metadata": {},
   "source": [
    "## Scipy\n",
    "\n",
    "Finally we will briefly go through some useful library in Scipy.\n",
    "While it is not as fast as NumPy, it contains many useful functions such as regression or finding roots. Thus it can be a very helpful library when solving numerical problems or finding pattern in the numerical data. Here we demonstrate two of those. At this stage, we believe that you might have sufficient foundation to start exploration on your own. So we will only outline these capabilities. \n"
   ]
  },
  {
   "cell_type": "markdown",
   "id": "c34f198b",
   "metadata": {},
   "source": [
    "### Root finding\n",
    "\n",
    "When there is a numerical equation, where we want to find the root, we may use the *root_scalar* method. There is also *root* method for the vector function."
   ]
  },
  {
   "cell_type": "code",
   "execution_count": 15,
   "id": "e68ec8ba",
   "metadata": {},
   "outputs": [],
   "source": [
    "# first import the library\n",
    "\n",
    "from scipy import optimize"
   ]
  },
  {
   "cell_type": "code",
   "execution_count": 14,
   "id": "ddba3003",
   "metadata": {},
   "outputs": [],
   "source": [
    "# define the equation f(x)\n",
    "\n",
    "def func(x):\n",
    "    return x**2 + 2*x - 3\n"
   ]
  },
  {
   "cell_type": "markdown",
   "id": "576995af",
   "metadata": {},
   "source": [
    "We also need to pass the guess number such that the method can use the guess as the first 1/2 trials (depending on the method). Notice that it is important to put the initial guess not extremely far from the function (depending on the  gradient of the function).\n",
    "\n",
    "In order to make an informed guess, we plot the function (we also show how to plot the minor axis which adds more information to the figure)"
   ]
  },
  {
   "cell_type": "code",
   "execution_count": 25,
   "id": "79ecffb0",
   "metadata": {},
   "outputs": [
    {
     "data": {
      "image/png": "[encoded data removed]",
      "text/plain": [
       "<Figure size 432x288 with 1 Axes>"
      ]
     },
     "metadata": {
      "needs_background": "light"
     },
     "output_type": "display_data"
    }
   ],
   "source": [
    "import matplotlib.pyplot as plt\n",
    "from matplotlib.ticker import (MultipleLocator, LogLocator, AutoMinorLocator)\n",
    "\n",
    "fig, ax = plt.subplots(ncols=1, nrows=1)\n",
    "\n",
    "xs = [-5 + 0.1*i for i in range(101)]\n",
    "ys = [func(x) for x in xs]\n",
    "ax.plot(xs, ys)\n",
    "\n",
    "ax.set_xlabel(\"x\")\n",
    "ax.set_xlabel(\"y\")\n",
    "\n",
    "ax.hlines(0, xmin=-5, xmax=5, color=\"black\")\n",
    "\n",
    "ax.set_xlim(-5,5)\n",
    "\n",
    "ax.tick_params(which='major', length=8)\n",
    "ax.tick_params(which='minor', length=4)\n",
    "ax.xaxis.set_minor_locator(MultipleLocator(0.5))\n",
    "ax.yaxis.set_minor_locator(MultipleLocator(1))\n",
    "ax.xaxis.set_ticks_position('both')\n",
    "ax.yaxis.set_ticks_position('both')"
   ]
  },
  {
   "cell_type": "markdown",
   "id": "d177c1f9",
   "metadata": {},
   "source": [
    "From the figure we know that one root is between 0 and 2, and the other root between -4 and -2. "
   ]
  },
  {
   "cell_type": "code",
   "execution_count": 26,
   "id": "bf8b6a91",
   "metadata": {},
   "outputs": [
    {
     "name": "stdout",
     "output_type": "stream",
     "text": [
      "      converged: True\n",
      "           flag: 'converged'\n",
      " function_calls: 8\n",
      "     iterations: 7\n",
      "           root: 1.0\n"
     ]
    }
   ],
   "source": [
    "# we need to pass the function\n",
    "\n",
    "\n",
    "roots = optimize.root_scalar(func, x0 = 0, x1 = 2)\n",
    "print(roots)"
   ]
  },
  {
   "cell_type": "markdown",
   "id": "ca547c3a",
   "metadata": {},
   "source": [
    "To access the value, we can use \\__dict\\__ to check the variable.\n",
    "\n",
    "Or we may read the API to see how to access the information."
   ]
  },
  {
   "cell_type": "code",
   "execution_count": 28,
   "id": "de56ae5d",
   "metadata": {},
   "outputs": [
    {
     "data": {
      "text/plain": [
       "{'root': 1.0,\n",
       " 'iterations': 7,\n",
       " 'function_calls': 8,\n",
       " 'converged': True,\n",
       " 'flag': 'converged'}"
      ]
     },
     "execution_count": 28,
     "metadata": {},
     "output_type": "execute_result"
    }
   ],
   "source": [
    "roots.__dict__"
   ]
  },
  {
   "cell_type": "code",
   "execution_count": 30,
   "id": "7428a87f",
   "metadata": {},
   "outputs": [
    {
     "name": "stdout",
     "output_type": "stream",
     "text": [
      "roots =  1.0\n"
     ]
    }
   ],
   "source": [
    "# make pretty output is important for your code to be understandable by others\n",
    "print(\"roots = \", roots.root)"
   ]
  },
  {
   "cell_type": "markdown",
   "id": "c043b242",
   "metadata": {},
   "source": [
    "## Exercise 11\n",
    "\n",
    "Use the same method to find another roots. Then print the value.\n",
    "\n",
    "Then check analytically that your answer is true (i.e. solve the quadratic equation). "
   ]
  },
  {
   "cell_type": "code",
   "execution_count": null,
   "id": "302843fb",
   "metadata": {},
   "outputs": [],
   "source": [
    "# write your code here (one line)\n",
    "\n"
   ]
  },
  {
   "cell_type": "code",
   "execution_count": null,
   "id": "12b55c2a",
   "metadata": {},
   "outputs": [],
   "source": []
  },
  {
   "cell_type": "markdown",
   "id": "dd119c14",
   "metadata": {},
   "source": [
    "## Curve Fitting\n",
    "\n",
    "Another important functionality of Scipy is to fit a polynomial (or function with free parameters) to some given numerical data. For example, consider the following dataset which we assume to be some empirical data from the experiment. We artificially add some noise to the analytical function to make it more realistic."
   ]
  },
  {
   "cell_type": "code",
   "execution_count": 39,
   "id": "f258b408",
   "metadata": {},
   "outputs": [],
   "source": [
    "from random import random\n",
    "\n",
    "xs = [i*0.05 for i in range(20)]\n",
    "ys = [x**2 + 0.3*x + 1 + 0.3*(random()-0.5) for x in xs]"
   ]
  },
  {
   "cell_type": "code",
   "execution_count": 41,
   "id": "fab15489",
   "metadata": {},
   "outputs": [
    {
     "data": {
      "text/plain": [
       "Text(0.5, 0, 'y')"
      ]
     },
     "execution_count": 41,
     "metadata": {},
     "output_type": "execute_result"
    },
    {
     "data": {
      "image/png": "[encoded data removed]",
      "text/plain": [
       "<Figure size 432x288 with 1 Axes>"
      ]
     },
     "metadata": {
      "needs_background": "light"
     },
     "output_type": "display_data"
    }
   ],
   "source": [
    "import matplotlib.pyplot as plt\n",
    "\n",
    "fig, ax = plt.subplots(ncols=1, nrows=1)\n",
    "ax.plot(xs, ys, \"x\", linestyle=\"none\")\n",
    "\n",
    "ax.set_xlabel(\"x\")\n",
    "ax.set_xlabel(\"y\")\n"
   ]
  },
  {
   "cell_type": "markdown",
   "id": "0808adb8",
   "metadata": {},
   "source": [
    "A naive guess of this function (by observing the function, assume we do not know the original function that generates these data points) is that it fits a quadratic function. To start the procedure, we first define a parameterized quadratic function, and ask Scipy to fit the function for us (similar approach can be done for linear regression)"
   ]
  },
  {
   "cell_type": "code",
   "execution_count": 42,
   "id": "72821810",
   "metadata": {},
   "outputs": [],
   "source": [
    "def trial_func(x, a, b):\n",
    "    return x**2 + a*x + b"
   ]
  },
  {
   "cell_type": "code",
   "execution_count": 44,
   "id": "f76c9da4",
   "metadata": {},
   "outputs": [],
   "source": [
    "from scipy.optimize import curve_fit\n",
    "results = curve_fit(trial_func, xs, ys)"
   ]
  },
  {
   "cell_type": "code",
   "execution_count": 45,
   "id": "da72524b",
   "metadata": {},
   "outputs": [
    {
     "name": "stdout",
     "output_type": "stream",
     "text": [
      "(array([0.30903735, 0.97830864]), array([[ 0.0044886 , -0.00213209],\n",
      "       [-0.00213209,  0.00138586]]))\n"
     ]
    }
   ],
   "source": [
    "print(results)"
   ]
  },
  {
   "cell_type": "markdown",
   "id": "1446cb81",
   "metadata": {},
   "source": [
    "The fitted value is a = 0.309 and b = 0.978. Given we have introduced some noise to the original data, the fitted value is very close to the original function (a = 0.3 and b = 1) which we used for generating the data. "
   ]
  },
  {
   "cell_type": "markdown",
   "id": "f6802e83",
   "metadata": {},
   "source": [
    "Also refer to [Scipy API documentation](https://docs.scipy.org/doc/scipy/reference/generated/scipy.optimize.curve_fit.html) for the full description of this method. "
   ]
  },
  {
   "cell_type": "markdown",
   "id": "947f382c",
   "metadata": {},
   "source": [
    "## Exercise 12\n",
    "\n",
    "Now access the results variables and plot the fitted curve over the data point. "
   ]
  },
  {
   "cell_type": "code",
   "execution_count": 48,
   "id": "ecf901f6",
   "metadata": {},
   "outputs": [],
   "source": [
    "# write your code here (a few lines)\n",
    "\n",
    "# generate fig, ax objects first (one line)\n",
    "\n",
    "\n",
    "# make the list of the predicted function with the fitted parameter,\n",
    "# let's call it ys2, use the same set of xs for consistency (one line)\n",
    "\n",
    "\n",
    "# plot the xs and ys2 (one line)\n",
    "\n",
    "\n",
    "# plot the datapoint in scattered point (one line)\n",
    "\n",
    "\n",
    "# add the label to make your figure informative (one line)\n",
    "\n"
   ]
  },
  {
   "cell_type": "markdown",
   "id": "30c9b2a9",
   "metadata": {},
   "source": [
    "# This is the end of Lecture 3 :-)"
   ]
  },
  {
   "cell_type": "code",
   "execution_count": null,
   "id": "76e9466f",
   "metadata": {},
   "outputs": [],
   "source": []
  }
 ],
 "metadata": {
  "kernelspec": {
   "display_name": "Python 3",
   "language": "python",
   "name": "python3"
  },
  "language_info": {
   "codemirror_mode": {
    "name": "ipython",
    "version": 3
   },
   "file_extension": ".py",
   "mimetype": "text/x-python",
   "name": "python",
   "nbconvert_exporter": "python",
   "pygments_lexer": "ipython3",
   "version": "3.8.8"
  }
 },
 "nbformat": 4,
 "nbformat_minor": 5
}
