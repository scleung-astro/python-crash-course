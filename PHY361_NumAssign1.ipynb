{
 "cells": [
  {
   "cell_type": "markdown",
   "id": "866a63ba",
   "metadata": {},
   "source": [
    "## PHY 361 Numerical Exercise 1\n",
    "\n",
    "### Review in Basic Python Operations and Algorithms\n",
    "\n",
    "Written by Shing Chi Leung\n",
    "\n",
    "Copyright 2024\n",
    "\n",
    "**Instruction**: In each exercise, go through the guidance and learn/review about the numerical skills that are useful for solving physics problems. Complete the programming exercise where you find the instruction **write you code here** and **write your answer here**. For the code, it means write the Python code according to the instruction. You may directly run the code and see if you generate the correct results. Then send the completed Jupyter Notebook file when you have finished. For the answer, it encourages you to **think** without using the computer. Then write down what you think to be the answer there. In most cases the questions encourage you to think about the answer first. It is an important procedure because having a code designed mentally can greatly speed up your coding accuracy and speed. Most importantly, don't copy and paste the code result to the answer! I will not grade the part in **write your answer**. I only want to give a space for you to think as if you are a Python interpretor. \n",
    "\n",
    "Programming has never become so important nowadays. While the problems we solve are not directly related to very front-end skills like web design or machine learning, the way of thinking, how variables and data are managed and processed and the way to instruct the computer, are similar. \n",
    "\n",
    "I strongly encourage you to think and train the algorithmic thinking. I believe there are almost countless solution available on ChatGPT or StackOverflow if you search, but the clue to build a programming mind is to solve the puzzles by yourself. "
   ]
  },
  {
   "cell_type": "markdown",
   "id": "3722e657",
   "metadata": {},
   "source": [
    "## Table of Content\n",
    "\n",
    "[Part 1: Review in Basic Procedure and Variables](#Part-1:-Review-in-Basic-Procedure-and-Variables) <br>\n",
    "- [Exercise 1](#Exercise-1)\n",
    "- [Exercise 2](#Exercise-2)\n",
    "- [Exercise 3](#Exercise-3)\n",
    "- [Exercise 4](#Exercise-4)\n",
    "- [Exercise 5](#Exercise-5)\n",
    "\n",
    "[Part 2: Conditional](#Part-2:-Conditional) <br>\n",
    "- [Exercise 6-7](#Exercise-6-7)\n",
    "\n",
    "[Part 3: Iteration](#Part-3:-Iteration) <br>\n",
    "- [Exercise 8-9](#Exercise-8-9)\n",
    "- [Exercise 10-11](#Exercise-10-11)\n",
    "- [Exercise 12](#Exercise-12)\n",
    "\n",
    "[Part 4: Function](#Part-4:-Function) <br>\n",
    "- [Exercise 13](#Exercise-13)\n",
    "- [Exercise 14-15](#Exercise-14-15)"
   ]
  },
  {
   "cell_type": "markdown",
   "id": "5b73f581",
   "metadata": {},
   "source": [
    "## Part 1: Review in Basic Procedure and Variables\n",
    "\n",
    "Python is an interpreting language. Therefore it does not require the users to compile the code. Instead, Python \"interprets\" your code directly. One advantage is that the development time is very short. However, interpreted language is generally running slower and thus the code is better for building prototype or test model, rather than for doing large-scale operation runs. \n",
    "\n",
    "The very major differences in Python compared to other traditional languages come in 3 ways. (1) It does not require the declaration of variable. In this sense it is very similar to Javascript. You can casually declare `x=1` and Python will automatically recognize *x* is an integer variable and is storing the value 1. (2) Python inherently has the list and dictionary structure which can be readily used. These two flexible data structures are very important and widely applied data type in building complex algorithm. (3) There are essentially every libraries freely available in doing all sorts of computational tasks one can imagine. From building webpage, to maintaining server databse, or even building apps and machine learning, there are corresponding libraries. \n",
    "\n",
    "### Python as Calculator\n",
    "\n",
    "Because Python is an interpreted language, we can readily use Python to compute some simple numerical problems. (See Boot Camp for more details). We can directly type in the numbers and then press **shift**+**enter** to execute. Or we can use the print() function to output. \n",
    "\n",
    "For example: the following two expresses show the same result.\n"
   ]
  },
  {
   "cell_type": "code",
   "execution_count": 11,
   "id": "552f419f",
   "metadata": {},
   "outputs": [
    {
     "name": "stdout",
     "output_type": "stream",
     "text": [
      "5\n"
     ]
    },
    {
     "data": {
      "text/plain": [
       "5"
      ]
     },
     "execution_count": 11,
     "metadata": {},
     "output_type": "execute_result"
    }
   ],
   "source": [
    "print(2 + 3)\n",
    "\n",
    "2 + 3"
   ]
  },
  {
   "cell_type": "markdown",
   "id": "a61f6b1a",
   "metadata": {},
   "source": [
    "#### Exercise 1\n",
    "\n",
    "What is $(2 + 5) \\times 6 \\div 3$? Use the Python calculator to calculate for you. Do you get the same answer as expected?"
   ]
  },
  {
   "cell_type": "code",
   "execution_count": null,
   "id": "36adf1f7",
   "metadata": {},
   "outputs": [],
   "source": []
  },
  {
   "cell_type": "markdown",
   "id": "c587cdc5",
   "metadata": {},
   "source": [
    "### Writing comments\n",
    "\n",
    "In Python you can write comments in the box by using the hashtag `#` at the front of the line. We call comment it out because usually we use it to temporarily remove some lines to test the code. For example the box below will not do anything. \n"
   ]
  },
  {
   "cell_type": "code",
   "execution_count": 15,
   "id": "0d1310c1",
   "metadata": {},
   "outputs": [],
   "source": [
    "# This will not do anything no matter how you run this box!\n",
    "# I write a lot but it is nothing in the eyes of the interpretor.\n",
    "# Assume it has eyes. "
   ]
  },
  {
   "cell_type": "markdown",
   "id": "e74ce7cc",
   "metadata": {},
   "source": [
    "It is very important to write comments especially you are beginners or even intermediate in writing program. Because in the case you need to reuse the code again, it is very likely you forget what you are doing. And a poorly written code can be extremely hard to decipher its purpose without explicit documentation. The documentation will be useful when passing the code to others, so that the other user knows the following:\n",
    "\n",
    "0. Who write the code (!)\n",
    "1. What the code is for\n",
    "2. How it operates\n",
    "3. What is the expected output"
   ]
  },
  {
   "cell_type": "markdown",
   "id": "8260f1f3",
   "metadata": {},
   "source": [
    "### Assigning values\n",
    "\n",
    "In Python, we use the `=` to declare the values. \n",
    "\n",
    "`xxx = yyy` <br>\n",
    "means that the variable with a name `xxx` is assigned to stored the value given by the expression `yyy`. For example\n",
    "\n",
    "`a = 3` <br>\n",
    "`b = a + 2`\n",
    "\n",
    "\n",
    "#### Exercise 2\n",
    "What are the values of `a` and `b`?\n",
    "\n",
    "Try use mental math or paper to work out the answer. And then use the box below to check your answer! Remember to use hashtag to comment out your numerical answer (non-code)."
   ]
  },
  {
   "cell_type": "code",
   "execution_count": null,
   "id": "d7091201",
   "metadata": {},
   "outputs": [],
   "source": [
    "# Write your answer here\n",
    "#\n",
    "\n",
    "# Write your code here\n",
    "\n"
   ]
  },
  {
   "cell_type": "markdown",
   "id": "24c2d3de",
   "metadata": {},
   "source": [
    "### Declaring variables\n",
    "\n",
    "As described above, Python is convenient that the data type in Python is dynamical. Once we declare the value (can be a string) of that variable, the variable will be morph to store that data type. We can use `type` to check the attribute of the data type. There are in general five types of variables, including \n",
    "\n",
    "0. None\n",
    "1. boolean (True or False) \n",
    "2. integer (-2, -1, 0, 1, 2, ...)\n",
    "3. floating point (1.1, 3.14, ...)\n",
    "4. string ('c', 'dog', 'H2O')\n",
    "5. object (a list, an array, ..., to be introduced in next assignment)\n",
    "\n",
    "`None` is a special variable type in Python. It simply declares a variable name without assigning the data type. It does not mean zero. \n",
    "\n",
    "Any names can be used as variable name, such as `apple`, or `bee`, or `candle12_` as long as the following conditions are satisfied:\n",
    "\n",
    "1. It starts with an alphabetical letter or _\n",
    "2. It does not conflict with keywords (e.g., `type` as we introduced)\n",
    "3. It does not starts with a number (but it can contain number)\n",
    "4. It contains only _ for symbol \n",
    "\n",
    "Python is case-sensitive so `apple` and `Apple` and `aPPle` are different.\n",
    "\n",
    "Once we declared the variable, we use the keyword `print` to display it, or we can simply type the variable name in an isolated box to check its values. The` print` function is suitable to display all data types, even objects. We use the syntax `print(...)` to display the variables we want. If we have multiple variables or we want to make the output more meaningful, we can insert extra text, and separate with other variables by `,`.\n",
    "\n",
    "For example:"
   ]
  },
  {
   "cell_type": "code",
   "execution_count": 3,
   "id": "d1d20a56",
   "metadata": {},
   "outputs": [
    {
     "name": "stdout",
     "output_type": "stream",
     "text": [
      "<class 'int'>\n"
     ]
    }
   ],
   "source": [
    "a = 1\n",
    "\n",
    "print(type(a))"
   ]
  },
  {
   "cell_type": "code",
   "execution_count": 5,
   "id": "3389a828",
   "metadata": {},
   "outputs": [
    {
     "name": "stdout",
     "output_type": "stream",
     "text": [
      "<class 'float'>\n"
     ]
    }
   ],
   "source": [
    "a = 1.1\n",
    "\n",
    "print(type(a))"
   ]
  },
  {
   "cell_type": "code",
   "execution_count": 11,
   "id": "84a5634b",
   "metadata": {},
   "outputs": [
    {
     "name": "stdout",
     "output_type": "stream",
     "text": [
      "type of a is  <class 'int'>\n",
      "type of a is  <class 'float'>\n"
     ]
    }
   ],
   "source": [
    "a = 1\n",
    "print('type of a is ', type(a))\n",
    "\n",
    "a *= 1.5\n",
    "print('type of a is ', type(a))"
   ]
  },
  {
   "cell_type": "markdown",
   "id": "5f4821d2",
   "metadata": {},
   "source": [
    "In the last example, it suffcies to see that, if the data type is changed during operation, Python will change the data type of the variable so that the variable can fully store the values. It is known as the mixed type operation. In elementary Python program \n",
    "\n",
    "In some cases, we can temporarily change the 'type' of the variables. Assuming `a` is a floating point variable and `b` is an integer, then the following operations mean Python will treat the variables as an integer or floating point variable respectively. <br>\n",
    "`int(a)`\n",
    "`float(b)`\n"
   ]
  },
  {
   "cell_type": "markdown",
   "id": "6b529321",
   "metadata": {},
   "source": [
    "#### Exercise 3\n",
    "\n",
    "What is the value of the following operation of variable `c` and its type? Again try solve it on paper or mentally, then write down your answer and explanation and try to run it in the box.\n",
    "\n",
    "`c = 3.2` <br>\n",
    "`c = ((int(c) / 5) * 1.8) // 3`"
   ]
  },
  {
   "cell_type": "code",
   "execution_count": null,
   "id": "7b06df4e",
   "metadata": {},
   "outputs": [],
   "source": [
    "# Write your answer here\n",
    "#\n",
    "\n",
    "# Write your code here\n",
    "\n"
   ]
  },
  {
   "cell_type": "markdown",
   "id": "d466cbdf",
   "metadata": {},
   "source": [
    "### A short detour on Print\n",
    "\n",
    "The keyword `print` is very powerful because we always need to read the output in order to obtain the results (or we can output in file, but we will not cover it here) and to check the results. Thus knowing how to set up print format is very useful.\n",
    "\n",
    "By default, Python output the integer as the exact value (unless it is extremely large) and floating point variables by at most 15 decimals. "
   ]
  },
  {
   "cell_type": "code",
   "execution_count": 24,
   "id": "c07e43d6",
   "metadata": {},
   "outputs": [
    {
     "name": "stdout",
     "output_type": "stream",
     "text": [
      "speed of light =  299792458\n",
      "Planck constant =  6.62607015e-34\n",
      "non-edible pie =  3.141592653589793\n",
      "blah =  blah blah blah\n"
     ]
    }
   ],
   "source": [
    "c = 299792458\n",
    "h = 6.62607015e-34\n",
    "pie = 3.1415926535897932384626\n",
    "blah = 'blah blah blah'\n",
    "\n",
    "print('speed of light = ', c)\n",
    "print('Planck constant = ', h)\n",
    "print('non-edible pie = ', pie)\n",
    "print('blah = ', blah)"
   ]
  },
  {
   "cell_type": "markdown",
   "id": "b7c4f5c2",
   "metadata": {},
   "source": [
    "In most cases we do not need to check all 15 digits of the floating point variables. We use the keyword `format` to set up how many digits to be displayed.\n",
    "\n",
    "Again there are multiple ways to declare the output format because Python sets different syntax in different generations of Python. You are most welcomed to pick the style you like the most. Here I choose the one I use most frequenty.\n",
    "\n",
    "Different variable types have different symbols:\n",
    "\n",
    "`d`: integer <br>\n",
    "`f`: floating point <br>\n",
    "`e`: scientific notation <br>\n",
    "`a`: string <br>\n",
    "\n",
    "To use the format, we type the curly-bracket {} inside the quotation to *reserve* the space for the variable, inside the bracket we declare the output format. After the quotation, we type `.format` and pass the relevant variables. If you have more than one curly brackets in the quotation, we put the variables inside format, separated by `,`. "
   ]
  },
  {
   "cell_type": "code",
   "execution_count": 40,
   "id": "9d408a16",
   "metadata": {},
   "outputs": [
    {
     "name": "stdout",
     "output_type": "stream",
     "text": [
      "c    =    299792458\n",
      "pie  = 3.142\n",
      "h    = 6.626e-34\n",
      "blah = blah bl\n"
     ]
    }
   ],
   "source": [
    "print(\"c    = {:12d}\".format(c))\n",
    "print(\"pie  = {:5.3f}\".format(pie))\n",
    "print(\"h    = {:5.3e}\".format(h))\n",
    "print(\"blah = {:.7s}\".format(blah))"
   ]
  },
  {
   "cell_type": "markdown",
   "id": "42a3fcb5",
   "metadata": {},
   "source": [
    "The output is quite trivial to understand. \n",
    "\n",
    "For the speed of light, we ask Python to reserve 12 digit to print the number. But speed of light is only 9 digits, so the remaining 3 digits (space in this case) shows up on the left of the number. \n",
    "\n",
    "For the $\\pi$, we ask Python to reserve 5 space (one for `.`) with 3 decimal places. \n",
    "\n",
    "For the Planck constant, we ask Python to reserve 5 space (one for `.`) with (5 - 1 = 4) significant figure. Notice for negative numbers the negative sign also contribute one space. \n",
    "\n",
    "For string varaibles, we can only print a segment of the string by setting the length as the number after `.`. In this case we allows 7 character length to be printed. Remember that space is also counted as one character. \n"
   ]
  },
  {
   "cell_type": "markdown",
   "id": "92f3e968",
   "metadata": {},
   "source": [
    "### Basic Operations\n",
    "\n",
    "Python is built on C, and C++ thus many of the fundemental operations follows the same convention:\n",
    "\n",
    "+: plus <br>\n",
    "-: minus <br>\n",
    "\\*: multiply <br>\n",
    "/: divide <br>\n",
    "//: integer divide <br>\n",
    "%: modulus <br>\n",
    "\n",
    "+=, -=, *=, \\/=: Add/minus/multiply/divide the variable with the expression on the right\n",
    "\n"
   ]
  },
  {
   "cell_type": "code",
   "execution_count": 5,
   "id": "aafbb505",
   "metadata": {},
   "outputs": [
    {
     "name": "stdout",
     "output_type": "stream",
     "text": [
      "4\n"
     ]
    }
   ],
   "source": [
    "a = 1\n",
    "\n",
    "# do the expression a = a + 3\n",
    "a += 3 \n",
    "\n",
    "print(a)"
   ]
  },
  {
   "cell_type": "markdown",
   "id": "9b18911a",
   "metadata": {},
   "source": [
    "#### Exercise 4\n",
    "\n",
    "What is the value and type of `c` if `b = 3` in the following expression?<br>\n",
    "`c *= (b + 2) / 10`\n",
    "\n",
    "First calculate mentally and think about the data type operation. Then use the box below to check your answer!"
   ]
  },
  {
   "cell_type": "code",
   "execution_count": null,
   "id": "8f50931e",
   "metadata": {},
   "outputs": [],
   "source": [
    "# Write your answer here\n",
    "#\n",
    "\n",
    "# Write your code here\n",
    "\n"
   ]
  },
  {
   "cell_type": "markdown",
   "id": "adb6c455",
   "metadata": {},
   "source": [
    "### Python as Kernel and Jupyter Notebook\n",
    "\n",
    "One difference of Python, compared to C and Fortran is that the interpretor runs your commands in-time and stores all the variables in the Kernel until you close it. This means once you declare the variables, and when they are global (we are cover it when we move to the Function section), the variables are stored and can be accessed at any time until we close the interpreter or restart the kernel. We can think of the kernel as an executing robot. \n",
    "\n",
    "For example, we may access to the variable `a` above."
   ]
  },
  {
   "cell_type": "code",
   "execution_count": 6,
   "id": "83954c65",
   "metadata": {},
   "outputs": [
    {
     "name": "stdout",
     "output_type": "stream",
     "text": [
      "a =  4\n"
     ]
    }
   ],
   "source": [
    "print('a = ', a)"
   ]
  },
  {
   "cell_type": "markdown",
   "id": "28c43737",
   "metadata": {},
   "source": [
    "Because it is not a compiled language, we can use the variable anywhere in the code, even in the spatial position before `a` is declared (assuming we have compiled the code about `a` already somewhere else). Though we emphasize that it is not a good approach because if we restart the program and run the boxes sequentially, we will encounter error because in the new execution, `a` will be undeclared at the time we ask for its value. "
   ]
  },
  {
   "cell_type": "markdown",
   "id": "73c45b96",
   "metadata": {},
   "source": [
    "Another short remark on Jupyter Notebook is that there are two types of input: Code and Markdown. By default a new cell is always a Code type which allows you to type in Python. If you click a box and choose Cell -> Cell Type -> MarkDown (or on keyboard Esc -> m) you will change the box into a MarkDown box. MarkDown is a convenient language which translates your input into html language for display with pretty layout on the screen or as part of the webpage. All non-coding part of this document is done in MarkDown.\n",
    "\n",
    "If you by mistake made a box into MarkDown, assuming you write a code to print some value, when you run the code you will not get any input. Because interpreter will not recognize that box as Python code. "
   ]
  },
  {
   "cell_type": "markdown",
   "id": "a4ba30f5",
   "metadata": {},
   "source": [
    "### Learning from Errors\n",
    "\n",
    "In programming, it is inevitable, unless you are very very experienced in programming, to make bugs in the code. Python has very detailed feedback to help us resolve the problem and therefore reading the error message is an important skills. In general, there are three types of errors in ascending order of difficulty to discover and resolve the errors. \n",
    "\n",
    "1. syntax error\n",
    "2. run-time error\n",
    "3. logical error\n",
    "\n",
    "**Syntax error** is the lowest level of error which simply means you type the keywords or variable names wrong. For example:"
   ]
  },
  {
   "cell_type": "code",
   "execution_count": 7,
   "id": "0d4d9a98",
   "metadata": {},
   "outputs": [
    {
     "ename": "NameError",
     "evalue": "name 'prnt' is not defined",
     "output_type": "error",
     "traceback": [
      "\u001b[1;31m---------------------------------------------------------------------------\u001b[0m",
      "\u001b[1;31mNameError\u001b[0m                                 Traceback (most recent call last)",
      "\u001b[1;32m<ipython-input-7-12fb13919198>\u001b[0m in \u001b[0;36m<module>\u001b[1;34m\u001b[0m\n\u001b[1;32m----> 1\u001b[1;33m \u001b[0mprnt\u001b[0m\u001b[1;33m(\u001b[0m\u001b[0ma\u001b[0m\u001b[1;33m)\u001b[0m\u001b[1;33m\u001b[0m\u001b[1;33m\u001b[0m\u001b[0m\n\u001b[0m",
      "\u001b[1;31mNameError\u001b[0m: name 'prnt' is not defined"
     ]
    }
   ],
   "source": [
    "prnt(a)"
   ]
  },
  {
   "cell_type": "markdown",
   "id": "5de129fc",
   "metadata": {},
   "source": [
    "**Run-time error** is more advanced that and more often in compiled language. It means that the code fails during the run. There is no apparent error in the code until we substitute some test values and follow how the values are processed. "
   ]
  },
  {
   "cell_type": "code",
   "execution_count": 8,
   "id": "c3cda24c",
   "metadata": {},
   "outputs": [
    {
     "ename": "ZeroDivisionError",
     "evalue": "division by zero",
     "output_type": "error",
     "traceback": [
      "\u001b[1;31m---------------------------------------------------------------------------\u001b[0m",
      "\u001b[1;31mZeroDivisionError\u001b[0m                         Traceback (most recent call last)",
      "\u001b[1;32m<ipython-input-8-67ff1d7f6d85>\u001b[0m in \u001b[0;36m<module>\u001b[1;34m\u001b[0m\n\u001b[0;32m      1\u001b[0m \u001b[0mf\u001b[0m \u001b[1;33m=\u001b[0m \u001b[1;36m0\u001b[0m\u001b[1;33m\u001b[0m\u001b[1;33m\u001b[0m\u001b[0m\n\u001b[1;32m----> 2\u001b[1;33m \u001b[0mprint\u001b[0m\u001b[1;33m(\u001b[0m\u001b[1;36m1\u001b[0m\u001b[1;33m/\u001b[0m\u001b[0mf\u001b[0m\u001b[1;33m)\u001b[0m\u001b[1;33m\u001b[0m\u001b[1;33m\u001b[0m\u001b[0m\n\u001b[0m",
      "\u001b[1;31mZeroDivisionError\u001b[0m: division by zero"
     ]
    }
   ],
   "source": [
    "f = 0\n",
    "print(1/f)"
   ]
  },
  {
   "cell_type": "markdown",
   "id": "78a2b89f",
   "metadata": {},
   "source": [
    "Run-time error does not necessarily have to be Zero Division Error, but it is a common one. Another possibility is that we forget to declare the value of a variable before we use it. Thus there is no way Python can use the variable. The last common run-time error is that we are trying to combine two incompatible variables and do operations. "
   ]
  },
  {
   "cell_type": "code",
   "execution_count": 9,
   "id": "31fd4e7e",
   "metadata": {},
   "outputs": [
    {
     "ename": "TypeError",
     "evalue": "unsupported operand type(s) for +: 'NoneType' and 'int'",
     "output_type": "error",
     "traceback": [
      "\u001b[1;31m---------------------------------------------------------------------------\u001b[0m",
      "\u001b[1;31mTypeError\u001b[0m                                 Traceback (most recent call last)",
      "\u001b[1;32m<ipython-input-9-399f44287d74>\u001b[0m in \u001b[0;36m<module>\u001b[1;34m\u001b[0m\n\u001b[0;32m      1\u001b[0m \u001b[0mf\u001b[0m \u001b[1;33m=\u001b[0m \u001b[1;32mNone\u001b[0m\u001b[1;33m\u001b[0m\u001b[1;33m\u001b[0m\u001b[0m\n\u001b[0;32m      2\u001b[0m \u001b[0mg\u001b[0m \u001b[1;33m=\u001b[0m \u001b[1;36m3\u001b[0m\u001b[1;33m\u001b[0m\u001b[1;33m\u001b[0m\u001b[0m\n\u001b[1;32m----> 3\u001b[1;33m \u001b[0mprint\u001b[0m\u001b[1;33m(\u001b[0m\u001b[0mf\u001b[0m \u001b[1;33m+\u001b[0m \u001b[0mg\u001b[0m\u001b[1;33m)\u001b[0m\u001b[1;33m\u001b[0m\u001b[1;33m\u001b[0m\u001b[0m\n\u001b[0m",
      "\u001b[1;31mTypeError\u001b[0m: unsupported operand type(s) for +: 'NoneType' and 'int'"
     ]
    }
   ],
   "source": [
    "f = None\n",
    "g = 3\n",
    "print(f + g)"
   ]
  },
  {
   "cell_type": "markdown",
   "id": "835df7b8",
   "metadata": {},
   "source": [
    "**Logical error** is related to the mathematical or data processing level of the code. It refers to the code that is not running exactly what you expect the code should be calculating. There is no observed typos or error message during run. For example, let $a$, $b$ and $c$ be the opposite, adjacent side and hypotheuse of an right angled triangle. We know that the sine function is defined as: <br>\n",
    "$\\sin \\theta = a/c$. \n",
    "\n",
    "The interpretor will not complain, but we cannot get the correct if we declare the sine value to be <br>\n",
    "`sin_theta = b/c` <br>\n",
    "because it is simply not how sine function is defined mathematically. Yet, if we have declared the values of `a`, `b` and `c`, the code will run perfectly and gives you some result. "
   ]
  },
  {
   "cell_type": "markdown",
   "id": "c00734f6",
   "metadata": {},
   "source": [
    "### Calling libraries\n",
    "\n",
    "The baseline Python interpretor is light. It only comes with very little functions, especailly mathematical one. To use functions from other package, we use the keyword `import` such as \n",
    "\n",
    "`import math` <br>\n",
    "will import the \"Mathematics\" library and you can use the methods there. For example, we can use it to compute pi. We need to first call the library name, followed by a \".\", and then the method we need. Below we show the code piece. \n",
    "\n",
    "Note: Methods are the functions of an object. In Python the library behaves like an object where we call its method to do operation we need. "
   ]
  },
  {
   "cell_type": "code",
   "execution_count": 1,
   "id": "aad1e664",
   "metadata": {},
   "outputs": [
    {
     "data": {
      "text/plain": [
       "3.141592653589793"
      ]
     },
     "execution_count": 1,
     "metadata": {},
     "output_type": "execute_result"
    }
   ],
   "source": [
    "import math\n",
    "math.pi"
   ]
  },
  {
   "cell_type": "markdown",
   "id": "360dee87",
   "metadata": {},
   "source": [
    "Once we call the library, it will be stored in the interpretor until you restart the kernel. This means, you do not need to import again if you are calling some from the same library. "
   ]
  },
  {
   "cell_type": "code",
   "execution_count": 2,
   "id": "22a0714d",
   "metadata": {},
   "outputs": [
    {
     "data": {
      "text/plain": [
       "1.0"
      ]
     },
     "execution_count": 2,
     "metadata": {},
     "output_type": "execute_result"
    }
   ],
   "source": [
    "math.cos(0.0)"
   ]
  },
  {
   "cell_type": "markdown",
   "id": "d1e52603",
   "metadata": {},
   "source": [
    "We can use the \\__dict\\__ method to list all the relevant functions available in that library. It also tells you what input parameters are required for a valid call. Let us examine the `math` library. "
   ]
  },
  {
   "cell_type": "code",
   "execution_count": 10,
   "id": "63e1180d",
   "metadata": {},
   "outputs": [
    {
     "data": {
      "text/plain": [
       "{'__name__': 'math',\n",
       " '__doc__': 'This module provides access to the mathematical functions\\ndefined by the C standard.',\n",
       " '__package__': '',\n",
       " '__loader__': _frozen_importlib.BuiltinImporter,\n",
       " '__spec__': ModuleSpec(name='math', loader=<class '_frozen_importlib.BuiltinImporter'>, origin='built-in'),\n",
       " 'acos': <function math.acos(x, /)>,\n",
       " 'acosh': <function math.acosh(x, /)>,\n",
       " 'asin': <function math.asin(x, /)>,\n",
       " 'asinh': <function math.asinh(x, /)>,\n",
       " 'atan': <function math.atan(x, /)>,\n",
       " 'atan2': <function math.atan2(y, x, /)>,\n",
       " 'atanh': <function math.atanh(x, /)>,\n",
       " 'ceil': <function math.ceil(x, /)>,\n",
       " 'copysign': <function math.copysign(x, y, /)>,\n",
       " 'cos': <function math.cos(x, /)>,\n",
       " 'cosh': <function math.cosh(x, /)>,\n",
       " 'degrees': <function math.degrees(x, /)>,\n",
       " 'dist': <function math.dist(p, q, /)>,\n",
       " 'erf': <function math.erf(x, /)>,\n",
       " 'erfc': <function math.erfc(x, /)>,\n",
       " 'exp': <function math.exp(x, /)>,\n",
       " 'expm1': <function math.expm1(x, /)>,\n",
       " 'fabs': <function math.fabs(x, /)>,\n",
       " 'factorial': <function math.factorial(x, /)>,\n",
       " 'floor': <function math.floor(x, /)>,\n",
       " 'fmod': <function math.fmod(x, y, /)>,\n",
       " 'frexp': <function math.frexp(x, /)>,\n",
       " 'fsum': <function math.fsum(seq, /)>,\n",
       " 'gamma': <function math.gamma(x, /)>,\n",
       " 'gcd': <function math.gcd(x, y, /)>,\n",
       " 'hypot': <function math.hypot>,\n",
       " 'isclose': <function math.isclose(a, b, *, rel_tol=1e-09, abs_tol=0.0)>,\n",
       " 'isfinite': <function math.isfinite(x, /)>,\n",
       " 'isinf': <function math.isinf(x, /)>,\n",
       " 'isnan': <function math.isnan(x, /)>,\n",
       " 'isqrt': <function math.isqrt(n, /)>,\n",
       " 'ldexp': <function math.ldexp(x, i, /)>,\n",
       " 'lgamma': <function math.lgamma(x, /)>,\n",
       " 'log': <function math.log>,\n",
       " 'log1p': <function math.log1p(x, /)>,\n",
       " 'log10': <function math.log10(x, /)>,\n",
       " 'log2': <function math.log2(x, /)>,\n",
       " 'modf': <function math.modf(x, /)>,\n",
       " 'pow': <function math.pow(x, y, /)>,\n",
       " 'radians': <function math.radians(x, /)>,\n",
       " 'remainder': <function math.remainder(x, y, /)>,\n",
       " 'sin': <function math.sin(x, /)>,\n",
       " 'sinh': <function math.sinh(x, /)>,\n",
       " 'sqrt': <function math.sqrt(x, /)>,\n",
       " 'tan': <function math.tan(x, /)>,\n",
       " 'tanh': <function math.tanh(x, /)>,\n",
       " 'trunc': <function math.trunc(x, /)>,\n",
       " 'prod': <function math.prod(iterable, /, *, start=1)>,\n",
       " 'perm': <function math.perm(n, k=None, /)>,\n",
       " 'comb': <function math.comb(n, k, /)>,\n",
       " 'pi': 3.141592653589793,\n",
       " 'e': 2.718281828459045,\n",
       " 'tau': 6.283185307179586,\n",
       " 'inf': inf,\n",
       " 'nan': nan}"
      ]
     },
     "execution_count": 10,
     "metadata": {},
     "output_type": "execute_result"
    }
   ],
   "source": [
    "math.__dict__"
   ]
  },
  {
   "cell_type": "code",
   "execution_count": null,
   "id": "7ff1bbd8",
   "metadata": {},
   "outputs": [],
   "source": []
  },
  {
   "cell_type": "markdown",
   "id": "0e792e13",
   "metadata": {},
   "source": [
    "Some times we want to abbreviate the library name so that we do not type the full library name, which can be long. We use the keyword `as` to link to its alias. Below we will use `mt` as an alias of the math library:"
   ]
  },
  {
   "cell_type": "code",
   "execution_count": 12,
   "id": "6fbece43",
   "metadata": {},
   "outputs": [
    {
     "data": {
      "text/plain": [
       "2.718281828459045"
      ]
     },
     "execution_count": 12,
     "metadata": {},
     "output_type": "execute_result"
    }
   ],
   "source": [
    "import math as mt\n",
    "mt.e"
   ]
  },
  {
   "cell_type": "markdown",
   "id": "fb6bc165",
   "metadata": {},
   "source": [
    "In some cases, we do not want to call the entire library, when we only use specific functions repeatedly without naming the library. Then we use `from` to address the library, and `import` the necessary functions."
   ]
  },
  {
   "cell_type": "code",
   "execution_count": 14,
   "id": "ea75fccc",
   "metadata": {},
   "outputs": [
    {
     "name": "stdout",
     "output_type": "stream",
     "text": [
      "1.0\n"
     ]
    }
   ],
   "source": [
    "from math import pi, sin\n",
    "print(sin(pi/2))"
   ]
  },
  {
   "cell_type": "markdown",
   "id": "7144d85a",
   "metadata": {},
   "source": [
    "#### Exercise 5\n",
    "\n",
    "From the math library, find the value of arcsin 0.5. "
   ]
  },
  {
   "cell_type": "code",
   "execution_count": null,
   "id": "01429a45",
   "metadata": {},
   "outputs": [],
   "source": [
    "# Your numerical answer here\n",
    "# \n",
    "\n",
    "# Write your code here\n",
    "\n"
   ]
  },
  {
   "cell_type": "markdown",
   "id": "e98fcbfd",
   "metadata": {},
   "source": [
    "[top](#Table-of-Content)\n",
    "\n",
    "## Part 2: Conditional \n",
    "\n",
    "In Python we use `if`, `elif` and `else` to construct the conditional statement. In Python, the operation that should be executed when the 'if'-statement is satisfied required to be indented. Use tab to create an indent in the line opening. \n",
    "\n",
    "```\n",
    "x = 3\n",
    "if x == 1:\n",
    "    print(\"x = 1\")\n",
    "elif x == 3:\n",
    "    print(\"x = 1\")\n",
    "else:\n",
    "    print(\"x is not 1 or 3\")\n",
    "```\n",
    "\n",
    "You might notice an important feature here. To check whether two values are the same, we type `a == b`. It tells Python that we are not assigning the value of `b` into `a`. Instead we are asking Python to check if the values of `a` and `b` are identical. \n",
    "\n",
    "To combine multiple conditions, we use `and`, `or`, `not` to create combined conditions. For example, $0 < x < 3$ will be translated as: <br>\n",
    "`x > 0 and x < 3` \n",
    "\n",
    "Meanwhile $x \\ge 3$ or $x < 0$ will be translated as: <br>\n",
    "`x < 0 or x >= 3`\n",
    "\n",
    "Some more complex but possible conditions can be `x < 0 and not x == -2`. Though it is equivalent to `x < 0 and x != 2`. We emphasize that there are always more than one ways to write program. We can think of it as the artistic side of programming. However, the scientific side of programming is that whether others, besides you, can understand the code efficiently, and if the code can be efficiently implemented. \n",
    "\n",
    "If we want to provide nested conditions, let's say if we check the number `x` is an odd number, if so, we further check the number is greater than 3, we have <br>\n",
    "`if x%2 == 1:\n",
    "    if x > 3:\n",
    "        operation A \n",
    "    operation B \n",
    "`\n",
    "\n",
    "<br>\n",
    "Notice the double indent for the operation line. How many indents for the operation has a meaning in Python. In the above example, operation A will be executed if x is an odd number and is greater than 3. Operation B will be executed if x is an odd number, but no condition on its value. \n",
    "\n",
    "Below we give a simple if-condition example:"
   ]
  },
  {
   "cell_type": "code",
   "execution_count": 20,
   "id": "09944787",
   "metadata": {},
   "outputs": [
    {
     "name": "stdout",
     "output_type": "stream",
     "text": [
      "x is less than or equal to 6\n"
     ]
    }
   ],
   "source": [
    "x = 6\n",
    "if x > 6:\n",
    "    print('x is greater than 6')\n",
    "else:\n",
    "    print('x is less than or equal to 6')"
   ]
  },
  {
   "cell_type": "markdown",
   "id": "ad02c497",
   "metadata": {},
   "source": [
    "\n",
    "#### Exercise 6-7\n",
    "\n",
    "Define `a = 3` and `b = 7` first. Then in the following two boxes, write down the code segment. Again write down your mental math results first, and then write the code and see if it agrees with your thought. \n",
    "\n",
    "**Case 1**: If a and b are greater than 5, output the word 'Large!', if either one is less than 5, output the word 'Medium!', otherwise output the word 'Small!'\n",
    "\n",
    "**Case 2**: If a times b is an odd number, output the word 'Odd!', otherwise output the word 'Even!'. If a times b is an odd number, further check if they are mutually prime to each other, if so, further output the word 'Mutually Prime!' Hint: You will need to look for the correct function to help in math about. "
   ]
  },
  {
   "cell_type": "code",
   "execution_count": null,
   "id": "b7fb5c12",
   "metadata": {},
   "outputs": [],
   "source": [
    "# Your answer for Case 1 here\n",
    "\n",
    "\n",
    "# Write your code here\n",
    "\n"
   ]
  },
  {
   "cell_type": "code",
   "execution_count": null,
   "id": "d04aab51",
   "metadata": {},
   "outputs": [],
   "source": [
    "# Your answer for Case 2 here\n",
    "\n",
    "\n",
    "# Write your code here\n",
    "\n"
   ]
  },
  {
   "cell_type": "markdown",
   "id": "241486cb",
   "metadata": {},
   "source": [
    "[top](#Table-of-Content)\n",
    "\n",
    "## Part 3: Iteration\n",
    "\n",
    "Iteration is the most important part in numerical programming because it is the extremely heavy repetition that the computer can handle with ease reduce the manual operations required for solving equation numerically. Think about solving an equation by iteration, it might be achievable to solve the same equation 5 times. But certainly it will be daunting to thinking solving 100 equations 5 times manually in order to draw a line. Therefore, knowing how to make loops, especially efficient loops, are important in modern programming.\n",
    "\n",
    "In Python, we mostly use `for` to do the loop. There is `while` loop but we will not introduce or use it in this numerical part. \n",
    "\n",
    "For a simple loop, asking the code to repeat 5 times: <br>\n",
    "`for i in range(5):\n",
    "    your operation\n",
    "`\n",
    "\n",
    "The function `range()` is an iterable. It generate a list of values according to the parameter you input. And every time the code encounters this iterable, it returns you the next element in its list until it runs out of elements. If there is no element, the iteration will be stopped and the code proceeds outside the iteration. Using the above example, `for i in range(5)` generates a list (we wil discuss in much more detail in next talk the properties of a list), containing `[0, 1, 2, 3, 4]`, and it passes 0 as the value of `i`, then runs your operation. After running, Python returns to the `range` function and obtain the next value (1 this time) for `i`. It repeats the process until there is no next element in the list. \n",
    "\n",
    "Another point to notice is that the operation to be executed **must be indented**. If it is non-indented, Python treat that line and onward as outside the iteration. \n"
   ]
  },
  {
   "cell_type": "code",
   "execution_count": 17,
   "id": "7aacbf92",
   "metadata": {},
   "outputs": [
    {
     "name": "stdout",
     "output_type": "stream",
     "text": [
      "0\n",
      "1\n",
      "2\n",
      "3\n",
      "4\n"
     ]
    }
   ],
   "source": [
    "# doing non-consecutive number\n",
    "\n",
    "for i in range(5):\n",
    "    print(i)"
   ]
  },
  {
   "cell_type": "markdown",
   "id": "0e971c9a",
   "metadata": {},
   "source": [
    "The function `range()` can take multiple parameters but at minimum 1 parameter. If 1 parameter $n$ is given, it assumes the variable, `i` in this case, to starts from zero, and repeat `n` times. After one iteration is completed, `i` increases by 1. The process repeats until `i` is equal to `n`, then it will leave the loop. \n",
    "\n",
    "If the second parameter is included, let's say `for i in range(n,m):`, `n` stands for the starting number and `m` stands for the ending number (remember the loop does not run the case `i = m`. After each loop, `i` increases by 1. \n",
    "\n",
    "If the third parameter is included, let's say `for i in range(n,m,p):`, `n` stands for the starting number and `m` stands for the ending number (remember the loop does not run the case `i = m`. After each loop, `i` increases by `p`. "
   ]
  },
  {
   "cell_type": "code",
   "execution_count": 16,
   "id": "9c7a56e4",
   "metadata": {},
   "outputs": [
    {
     "name": "stdout",
     "output_type": "stream",
     "text": [
      "2\n",
      "5\n"
     ]
    }
   ],
   "source": [
    "# doing non-consecutive number\n",
    "\n",
    "for i in range(2,7,3):\n",
    "    print(i)"
   ]
  },
  {
   "cell_type": "markdown",
   "id": "0262c93f",
   "metadata": {},
   "source": [
    "One important application of the iteration is to sum the number, or do the factorial. For example, if we want to find the sum from 1 to 10, how do we apply the for-loop to achieve?\n",
    "\n",
    "`xsum = 0\n",
    "for x in range(11):\n",
    "    xsum += x`\n",
    "   \n",
    "The above code segment can do the job for us. But what is it doing? First, we set up a blank variale `xsum` which is used to store the sum. We *initialize* it to be zero. Then we loop over the integer and put it in the dummy variable `x`. The value is then added to `xsum`. Notice that the ending number in range is *11* because we want to include the final number *10* in the summation. "
   ]
  },
  {
   "cell_type": "markdown",
   "id": "a76860e7",
   "metadata": {},
   "source": [
    "#### Exercise 8-9\n",
    "\n",
    "What will be output in the following loops? Try think and write down your mental math result first, and then proceed to run it in the box. \n",
    "\n",
    "Case 1: \n",
    "`for i in range(6, 3, -1):\n",
    "    print(i)\n",
    "`\n",
    "\n",
    "Case 2: \n",
    "`for i in range(2, 5, 1):\n",
    "    print(5+2*i)\n",
    "`"
   ]
  },
  {
   "cell_type": "code",
   "execution_count": null,
   "id": "4f3d280b",
   "metadata": {},
   "outputs": [],
   "source": [
    "# Your answer here 1\n",
    "#\n",
    "\n",
    "# Write your code here\n",
    "\n"
   ]
  },
  {
   "cell_type": "code",
   "execution_count": null,
   "id": "2cd1d296",
   "metadata": {},
   "outputs": [],
   "source": [
    "# Your answer here 2\n",
    "#\n",
    "\n",
    "# Write your code here\n",
    "\n"
   ]
  },
  {
   "cell_type": "markdown",
   "id": "c653a32c",
   "metadata": {},
   "source": [
    "We can also build nested-loop for multiple variables, imagine we are dealing with elements in a 3x3 matrix, we want to loop through the columns, and then loop through the rows. Again, if multiple for-loops are called, we need to use the indent tell Python which one is in the inner loop which one is in the outer loop.\n",
    "\n",
    "In the below example we show how it can be used."
   ]
  },
  {
   "cell_type": "code",
   "execution_count": 18,
   "id": "04e055e7",
   "metadata": {},
   "outputs": [
    {
     "name": "stdout",
     "output_type": "stream",
     "text": [
      "1 0\n",
      "1 1\n",
      "1 2\n",
      "out of the j-loop\n",
      "2 0\n",
      "2 1\n",
      "2 2\n",
      "out of the j-loop\n"
     ]
    }
   ],
   "source": [
    "for i in range(1,3,1):\n",
    "    for j in range(3):\n",
    "        print(i, j)\n",
    "    print(\"out of the j-loop\")"
   ]
  },
  {
   "cell_type": "markdown",
   "id": "000964c2",
   "metadata": {},
   "source": [
    "#### Exercise 10-11\n",
    "In this exercise I want to use a for-loop to output the following.\n",
    "\n",
    "Case 1: (A triangle, due to technical reason the first circle should be on the fifth position)\n",
    "\n",
    "`\n",
    "    o \n",
    "   oo\n",
    "  ooo \n",
    " oooo\n",
    "ooooo`\n",
    "\n",
    "Case 2: (A diamond, due to technical reason the first circle should be on the fifth position) \n",
    "\n",
    "`    \n",
    "    o\n",
    "   ooo    \n",
    "  ooooo   \n",
    " ooooooo  \n",
    "ooooooooo \n",
    " ooooooo  \n",
    "  ooooo   \n",
    "   ooo    \n",
    "    o`\n",
    "\n",
    "You will need to use the syntax to output multiple `o` by <br>\n",
    "`print('o'*i)` <br>\n",
    "which will output $i$ counts of `o` in one line. \n"
   ]
  },
  {
   "cell_type": "code",
   "execution_count": null,
   "id": "346589ab",
   "metadata": {},
   "outputs": [],
   "source": [
    "# Write your code here for the triangle\n",
    "# remember to run it and see if you get the correct result!\n",
    "\n"
   ]
  },
  {
   "cell_type": "code",
   "execution_count": null,
   "id": "54307ed4",
   "metadata": {},
   "outputs": [],
   "source": [
    "# Write your code here for the diamond\n",
    "# remember to run it and see if you get the correct result!\n",
    "\n"
   ]
  },
  {
   "cell_type": "markdown",
   "id": "0531e40a",
   "metadata": {},
   "source": [
    "#### Exercise 12\n",
    "\n",
    "In this exercise I want to build a prime number finder. A prime number is a number where no positive integer can divide it without a remainder. We want to print all the prime numbers under 50. \n",
    "\n",
    "The algorithm is as follows:\n",
    "\n",
    "1. Loop the variable `i` through the number from 2 to 50:\n",
    "2. In the loop, declare the boolean variable `is_prime` to be True.\n",
    "3. Then we check if `i` is a prime number by entering the second loop `j`, where `j` is looped from 2 to i-1. \n",
    "4. If j can divide i, then set `is_prime` to be False.\n",
    "5. Outside the j-loop, if the `is_prime` is still True, then print the variable `i`. Otherwise do nothing. "
   ]
  },
  {
   "cell_type": "code",
   "execution_count": null,
   "id": "a302c0a1",
   "metadata": {},
   "outputs": [],
   "source": [
    "# Write your code here\n",
    "# remember to run it and see if you get the correct result!\n",
    "\n",
    "\n"
   ]
  },
  {
   "cell_type": "markdown",
   "id": "6a3ea06a",
   "metadata": {},
   "source": [
    "Python has the flexibility that one can loop not only on integer number, but on a given list of number or objects. This is very useful in more flexible data processing, let's say if we want to loop through a list of addresses of students and to search if anyone lives outside NY. We will come to the syntax in next assignment. "
   ]
  },
  {
   "cell_type": "markdown",
   "id": "93b68bd8",
   "metadata": {},
   "source": [
    "[top](#Table-of-Content)\n",
    "\n",
    "## Part 4: Function\n",
    "\n",
    "The last pillar of modern programming is the method (aka function if it is not affiliated to an object). It has the same contextual meaning in mathematics. It takes some input from the code, processes the values and output the values. Though in programming it does not limited to numerical value. A function can also process strings or objects. However, this Python talk aims at numerical Python so we will not go into details how to handle general strings and object operations. \n",
    "\n",
    "The syntax of declaring a function is: <br>\n",
    "`\n",
    "def my_func(input):\n",
    "    xxx\n",
    "    return yyy\n",
    "`\n",
    "\n",
    "A few things to notice here:\n",
    "1. use the keyword `def`\n",
    "2. the name of the function has the same rule as variable names\n",
    "3. the input parameter goes to inside the bracket\n",
    "4. the operation of the function is *indented*\n",
    "5. anything the function should give back is placed after `return`\n",
    "6. the keyword `return` also signifies the end of the function\n",
    "\n",
    "Below we define a simple function $y = 2x + 3$:"
   ]
  },
  {
   "cell_type": "code",
   "execution_count": 13,
   "id": "824e1780",
   "metadata": {},
   "outputs": [],
   "source": [
    "def my_func1(x):\n",
    "    y = 2*x + 3\n",
    "    return y\n",
    "    y = 2*x + 4"
   ]
  },
  {
   "cell_type": "code",
   "execution_count": 17,
   "id": "fbe905b3",
   "metadata": {},
   "outputs": [
    {
     "name": "stdout",
     "output_type": "stream",
     "text": [
      "9\n"
     ]
    }
   ],
   "source": [
    "y2 = my_func1(3)\n",
    "print(y2)"
   ]
  },
  {
   "cell_type": "markdown",
   "id": "bd5e152e",
   "metadata": {},
   "source": [
    "To call the function, we follow the above syntax, we type the function name and pass the variable value to the function. We may notice that for experiment purpose we type one more line `y = 2*x + 4` in the function. However, this line has no role in the function because once Python reads the line `return y`, Python returns the *current* value of `y` and leaves the function. \n",
    "\n",
    "#### Exercise 13\n",
    "\n",
    "Write a function that compute $f(x) = 3 e^x \\cos(x)$. And then get the value $f(0)$. Can you calculating mentally the value and see if you get the same results with your Python code?"
   ]
  },
  {
   "cell_type": "code",
   "execution_count": null,
   "id": "cb63f483",
   "metadata": {},
   "outputs": [],
   "source": [
    "# Write your code here (function)\n",
    "\n"
   ]
  },
  {
   "cell_type": "code",
   "execution_count": null,
   "id": "c5dcaaf0",
   "metadata": {},
   "outputs": [],
   "source": [
    "# Write your code here (call your function)\n",
    "\n"
   ]
  },
  {
   "cell_type": "markdown",
   "id": "4c354848",
   "metadata": {},
   "source": [
    "In the function, we may declare additional variables to assist us the calculation. As a rule of thumb, we do not want very lengthy lines of code which can be exhausting to read and to debug. However, variables declared inside the function is not accessible outside the function. "
   ]
  },
  {
   "cell_type": "code",
   "execution_count": 19,
   "id": "88b6f240",
   "metadata": {},
   "outputs": [],
   "source": [
    "def my_func2(x):\n",
    "    z1 = x + 3\n",
    "    z2 = z1 * 2\n",
    "    return z2"
   ]
  },
  {
   "cell_type": "code",
   "execution_count": 20,
   "id": "098126dd",
   "metadata": {},
   "outputs": [
    {
     "name": "stdout",
     "output_type": "stream",
     "text": [
      "12\n"
     ]
    },
    {
     "ename": "NameError",
     "evalue": "name 'z2' is not defined",
     "output_type": "error",
     "traceback": [
      "\u001b[1;31m---------------------------------------------------------------------------\u001b[0m",
      "\u001b[1;31mNameError\u001b[0m                                 Traceback (most recent call last)",
      "\u001b[1;32m<ipython-input-20-1ffa7411c372>\u001b[0m in \u001b[0;36m<module>\u001b[1;34m\u001b[0m\n\u001b[0;32m      1\u001b[0m \u001b[0mprint\u001b[0m\u001b[1;33m(\u001b[0m\u001b[0mmy_func2\u001b[0m\u001b[1;33m(\u001b[0m\u001b[1;36m3\u001b[0m\u001b[1;33m)\u001b[0m\u001b[1;33m)\u001b[0m\u001b[1;33m\u001b[0m\u001b[1;33m\u001b[0m\u001b[0m\n\u001b[1;32m----> 2\u001b[1;33m \u001b[0mprint\u001b[0m\u001b[1;33m(\u001b[0m\u001b[0mz2\u001b[0m\u001b[1;33m)\u001b[0m\u001b[1;33m\u001b[0m\u001b[1;33m\u001b[0m\u001b[0m\n\u001b[0m",
      "\u001b[1;31mNameError\u001b[0m: name 'z2' is not defined"
     ]
    }
   ],
   "source": [
    "print(my_func2(3))\n",
    "print(z2)"
   ]
  },
  {
   "cell_type": "markdown",
   "id": "7d4c034c",
   "metadata": {},
   "source": [
    "This leads to the concept of the local and global variables. A global variable is a variable which can be accessed anywhere in the code, while a local variable is a variable, generally, accessed inside a specific function. Any variables declared in the box *outside* the function are global. Variables declared *inside* the function are local. \n",
    "\n",
    "One exception is when you declare the same variable names exterior and interior of the function. Python always chooses the local value in the function. \n",
    "\n",
    "Below we show you one example how Python uses the value of a global variable and local variable."
   ]
  },
  {
   "cell_type": "code",
   "execution_count": 21,
   "id": "f90fef0f",
   "metadata": {},
   "outputs": [
    {
     "name": "stdout",
     "output_type": "stream",
     "text": [
      "10\n"
     ]
    }
   ],
   "source": [
    "x = 3\n",
    "y = 4\n",
    "\n",
    "def my_func3(x):\n",
    "    z = 3*x + y\n",
    "    return z\n",
    "\n",
    "print(my_func3(2))"
   ]
  },
  {
   "cell_type": "markdown",
   "id": "f2e50586",
   "metadata": {},
   "source": [
    "Clearly the value of the function can be understood to have evaluated as: <br>\n",
    "$z = 3x + y = 3(2) + 4 = 6 + 4 = 10$. \n",
    "\n",
    "Why isn't the calculation to be $z = 3x + y = 3(3) + 4 = 9 + 4 = 13$? Let us analyze the variables `x` and `y` separately. \n",
    "\n",
    "It is clear that $y = 4$ because it is only declared at the beginning and exterior to the function, thus this variable is global. \n",
    "\n",
    "But why isn't $x = 3$ being used in the function? That is the same argument for the repeated variable names inside/outside the function. In the function, `x` is also declared so there is a local version of this variable as the input parameter. When we call the function, we already pass the value $x = 2$ to the local version of `x`. Inside the function, it will not use the global value `x = 3`, instead the local value `x = 2` is used. \n",
    "\n",
    "Because of that, it is not ideal to declare many global variables because you may lose track of which variables have been declared and their current values, especially when the code is large. Some variables, such as physical constant should be declared as global variables because there is a consensus in the community what these variables stand for. Another use of global variables is the parameters used in the code. By the meaning of parameter, it means the code constantly refers to these values to set up the calculation. For convenience, we also prefer them as global. For example, it can be the size of your simulation box $nx \\times ny \\times nz$. It is obvious that we will constantly reuse the values of these variables so we do not want to pass these variables again and again For other variables specific to the local need in the code (e.g., dummy variables in the iteration), it is better to keep them local. "
   ]
  },
  {
   "cell_type": "markdown",
   "id": "b6d4bbab",
   "metadata": {},
   "source": [
    "#### Exercise 14-15\n",
    "\n",
    "Let us combine all the skills above and write a more complex function and test our understanding! You may want to recycle some of your older results. (in programming yes you don't want to keep reinventing the wheel when it comes to indutrial run. But sometimes repeating the code helps us, or me at least, to quickly recall the typical syntax so that I don't need to flip over pages to get the right code and am distracted.)\n",
    "\n",
    "In this exercise, we want to find the sum of all prime numbers within 1000. I set a large number because I do not want you to brute force to find by hand all prime number and add it out explicitly. Instead, I would like to recall your memory in iteration, condition and function. The (very simple) code will consists of the following:\n",
    "\n",
    "1. Set up the variable prime_sum to be zero. We will use it to store \n",
    "2. A loop for the first 1000 positive integer. \n",
    "3. For each number, the number is passed to a function is_prime, which checks if a number is prime or not. If the number is a prime number, the function returns a True value, or False otherwise. \n",
    "4. If a true value is returned, then we add that integer into prime_sum"
   ]
  },
  {
   "cell_type": "code",
   "execution_count": null,
   "id": "39546f13",
   "metadata": {},
   "outputs": [],
   "source": [
    "# Write your code here\n",
    "# Here write / modify the prime number segment into a function\n",
    "# Remember to remove ... below or Python will complain\n",
    "\n",
    "def is_prime(x):\n",
    "    ..."
   ]
  },
  {
   "cell_type": "code",
   "execution_count": null,
   "id": "95c6cb8d",
   "metadata": {},
   "outputs": [],
   "source": [
    "# Test your function here. Run it after you have run successfully the box above. \n",
    "# I believe you will know which case gives you a True which one gives you a False value\n",
    "# If you are uncertain please ask the instructor and/or assistant\n",
    "\n",
    "print('22 is a prime number', is_prime(22))\n",
    "print('23 is a prime number', is_prime(23))"
   ]
  },
  {
   "cell_type": "code",
   "execution_count": null,
   "id": "226f0cbe",
   "metadata": {},
   "outputs": [],
   "source": [
    "# Write your code here\n",
    "# Now write the iteration using for, range according to the code plan above\n",
    "\n"
   ]
  }
 ],
 "metadata": {
  "kernelspec": {
   "display_name": "Python 3",
   "language": "python",
   "name": "python3"
  },
  "language_info": {
   "codemirror_mode": {
    "name": "ipython",
    "version": 3
   },
   "file_extension": ".py",
   "mimetype": "text/x-python",
   "name": "python",
   "nbconvert_exporter": "python",
   "pygments_lexer": "ipython3",
   "version": "3.8.8"
  }
 },
 "nbformat": 4,
 "nbformat_minor": 5
}
