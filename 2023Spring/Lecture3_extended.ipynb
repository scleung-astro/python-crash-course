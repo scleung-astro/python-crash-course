{
 "cells": [
  {
   "cell_type": "markdown",
   "id": "cae11dfa",
   "metadata": {},
   "source": [
    "# Python Review Crash Course - Part III\n",
    "\n",
    "## Numpy, Scipy and Matplotlib\n",
    "\n",
    "Prepared by Shing Chi Leung in Jan 2023 😀\n",
    "\n",
    "Based on the course structure developed by Andrea Dziubek"
   ]
  },
  {
   "cell_type": "markdown",
   "id": "4a792f25",
   "metadata": {},
   "source": [
    "## Numpy\n",
    "\n",
    "Finally we come to the major topic in using Python for scientific computing. In this chapter we will look into greater details in some of the common methods for matrix operation. Numpy is useful because it is the counterpart of BLAS and LAPACK in Fortran. They include\n",
    "\n",
    "* a powerful N-dimensional array object\n",
    "* sophisticated (broadcasting) functions\n",
    "* basic linear algebra functions\n",
    "* basic Fourier transforms\n",
    "* sophisticated random number capabilities\n",
    "* tools for integrating Fortran code\n",
    "* tools for integrating C/C++ code\n",
    "\n",
    "> https://numpy.org/    \n",
    "> https://scipy.org/\n",
    "\n",
    "In the last lecture, we have discussed how to use it to make an array and how basic operations (e.g., matrix multiplication) are done. "
   ]
  },
  {
   "cell_type": "markdown",
   "id": "9a6ff1de",
   "metadata": {},
   "source": [
    "### Numpy array generation\n",
    "\n",
    "We need to import numpy so that we may call the specific functions directly."
   ]
  },
  {
   "cell_type": "code",
   "execution_count": 1,
   "id": "2eb08da0",
   "metadata": {},
   "outputs": [],
   "source": [
    "import numpy as np"
   ]
  },
  {
   "cell_type": "markdown",
   "id": "48513bf8",
   "metadata": {},
   "source": [
    "We have already talked about how basic array can be built, this includes:"
   ]
  },
  {
   "cell_type": "code",
   "execution_count": 15,
   "id": "94b163ef",
   "metadata": {},
   "outputs": [],
   "source": [
    "# Converting from a list\n",
    "a = np.array([[1, 2, 3], [4, 5, 6]])\n",
    "\n",
    "# Using the default methods\n",
    "b = np.zeros((2, 3))\n",
    "c = np.ones((2,3))\n",
    "\n",
    "# special method for an integer array \n",
    "# similar to range\n",
    "d = np.arange(2, 9, 2)\n",
    "e = np.arange(2, 9, 2, dtype=float)\n",
    "\n",
    "# special method for floating var array\n",
    "f = np.linspace(0,1,5)"
   ]
  },
  {
   "cell_type": "code",
   "execution_count": 16,
   "id": "93fe0709",
   "metadata": {},
   "outputs": [
    {
     "name": "stdout",
     "output_type": "stream",
     "text": [
      "[[1 2 3]\n",
      " [4 5 6]]\n",
      "\n",
      "[[0. 0. 0.]\n",
      " [0. 0. 0.]]\n",
      "\n",
      "[[1. 1. 1.]\n",
      " [1. 1. 1.]]\n",
      "\n",
      "[2 4 6 8]\n",
      "\n",
      "[2. 4. 6. 8.]\n",
      "\n",
      "[0.   0.25 0.5  0.75 1.  ]\n",
      "\n"
     ]
    }
   ],
   "source": [
    "print(\"{}\\n\".format(a))\n",
    "print(\"{}\\n\".format(b))\n",
    "print(\"{}\\n\".format(c))\n",
    "print(\"{}\\n\".format(d))\n",
    "print(\"{}\\n\".format(e))\n",
    "print(\"{}\\n\".format(f))"
   ]
  },
  {
   "cell_type": "markdown",
   "id": "1b75de59",
   "metadata": {},
   "source": [
    "Once we have an array, we can morph the shape of the array while keeping the total number of elements to be the same by the method *reshape*"
   ]
  },
  {
   "cell_type": "code",
   "execution_count": 13,
   "id": "2b65ac4e",
   "metadata": {},
   "outputs": [
    {
     "name": "stdout",
     "output_type": "stream",
     "text": [
      "[[1 2]\n",
      " [3 4]\n",
      " [5 6]]\n"
     ]
    }
   ],
   "source": [
    "# converting a 2-row-3-column array into a 3-row-2-column array\n",
    "a2 = a.reshape((3,2))\n",
    "print(a2)"
   ]
  },
  {
   "cell_type": "markdown",
   "id": "da7f769c",
   "metadata": {},
   "source": [
    "We may notice that the transpose is different from reshape in terms of the element order."
   ]
  },
  {
   "cell_type": "code",
   "execution_count": 14,
   "id": "8455ec9b",
   "metadata": {},
   "outputs": [
    {
     "name": "stdout",
     "output_type": "stream",
     "text": [
      "[[1 4]\n",
      " [2 5]\n",
      " [3 6]]\n"
     ]
    }
   ],
   "source": [
    "print(a.T)"
   ]
  },
  {
   "cell_type": "markdown",
   "id": "4e1a548d",
   "metadata": {},
   "source": [
    "**Reference**:\n",
    "> https://numpy.org/doc/stable/reference/routines.array-creation.html"
   ]
  },
  {
   "cell_type": "markdown",
   "id": "ac175051",
   "metadata": {},
   "source": [
    "### Shape of the array\n",
    "\n",
    "We recapitulate that we may use the attribute *shape* to check the dimension of the array, and *[i,j,...]* to refer to individual elements in a matrix"
   ]
  },
  {
   "cell_type": "code",
   "execution_count": 17,
   "id": "734b30a5",
   "metadata": {},
   "outputs": [
    {
     "name": "stdout",
     "output_type": "stream",
     "text": [
      "(2, 3)\n",
      "(4,)\n",
      "(5,)\n"
     ]
    }
   ],
   "source": [
    "# Shape of the array\n",
    "\n",
    "print(a.shape)\n",
    "print(e.shape)\n",
    "print(f.shape)"
   ]
  },
  {
   "cell_type": "markdown",
   "id": "b89eb1b4",
   "metadata": {},
   "source": [
    "We also emphasize that the matrices *e* and *f* are column vector."
   ]
  },
  {
   "cell_type": "code",
   "execution_count": 20,
   "id": "ffd03f07",
   "metadata": {},
   "outputs": [
    {
     "name": "stdout",
     "output_type": "stream",
     "text": [
      "3\n",
      "\n",
      "[[1 2]\n",
      " [4 5]]\n",
      "\n",
      "[[4 5 6]\n",
      " [1 2 3]]\n",
      "\n"
     ]
    }
   ],
   "source": [
    "# individual elements of the matrix\n",
    "\n",
    "# single elements\n",
    "print(\"{}\\n\".format(a[0,2]))\n",
    "\n",
    "# slices\n",
    "print(\"{}\\n\".format(a[:,0:2]))\n",
    "\n",
    "# slices with reversed order\n",
    "print(\"{}\\n\".format(a[::-1,:]))"
   ]
  },
  {
   "cell_type": "markdown",
   "id": "b5ea088f",
   "metadata": {},
   "source": [
    "### Dot (scalar) product and cross (vector) product\n",
    "\n",
    "We use the method `dot` and `cross` to do the two products."
   ]
  },
  {
   "cell_type": "code",
   "execution_count": 23,
   "id": "63a8808b",
   "metadata": {},
   "outputs": [
    {
     "name": "stdout",
     "output_type": "stream",
     "text": [
      "dot product: 14\n",
      "cross product: \n",
      "[[1 2 3]\n",
      " [2 4 6]\n",
      " [3 6 9]]\n"
     ]
    }
   ],
   "source": [
    "g = np.array([1,2,3])\n",
    "\n",
    "g_dot = np.dot(g, g)\n",
    "g_cross = np.outer(g, g)\n",
    "\n",
    "print(\"dot product: {}\".format(g_dot))\n",
    "print(\"cross product: \\n{}\".format(g_cross))"
   ]
  },
  {
   "cell_type": "code",
   "execution_count": null,
   "id": "293bf7ea",
   "metadata": {},
   "outputs": [],
   "source": []
  },
  {
   "cell_type": "markdown",
   "id": "37036b73",
   "metadata": {},
   "source": [
    "### Inverse of a matrix\n",
    "\n",
    "We use the package `linalg` inside Numpy and the `inv` method in that package to find the inverse of a matrix. "
   ]
  },
  {
   "cell_type": "code",
   "execution_count": 26,
   "id": "7d0df0eb",
   "metadata": {},
   "outputs": [
    {
     "name": "stdout",
     "output_type": "stream",
     "text": [
      "inverse of g: \n",
      "[[-2.   1. ]\n",
      " [ 1.5 -0.5]]\n"
     ]
    }
   ],
   "source": [
    "g = np.array([[1,2],[3,4]])\n",
    "\n",
    "g_inv = np.linalg.inv(g)\n",
    "print(\"inverse of g: \\n{}\".format(g_inv))"
   ]
  },
  {
   "cell_type": "markdown",
   "id": "8bff7b86",
   "metadata": {},
   "source": [
    "### Exercise 1\n",
    "\n",
    "Can you check if `g_inv` is indeed the inverse of `g`?"
   ]
  },
  {
   "cell_type": "markdown",
   "id": "1eba91eb",
   "metadata": {},
   "source": [
    "### Output a matrix in a text file\n",
    "\n",
    "From time to time we may want to output the results to a text file so that we may further present it or use it in other codes. To do so, we use the method  `savetxt` and `loadtxt`:"
   ]
  },
  {
   "cell_type": "code",
   "execution_count": 28,
   "id": "240af750",
   "metadata": {},
   "outputs": [
    {
     "name": "stdout",
     "output_type": "stream",
     "text": [
      "[[1. 2.]\n",
      " [3. 4.]]\n"
     ]
    }
   ],
   "source": [
    "g = np.array([[1,2],[3,4]])\n",
    "\n",
    "np.savetxt(\"g.txt\", g)\n",
    "g_loaded = np.loadtxt(\"g.txt\")\n",
    "\n",
    "print(g_loaded)"
   ]
  },
  {
   "cell_type": "markdown",
   "id": "dc6bfb75",
   "metadata": {},
   "source": [
    "### Exercise 2\n",
    "\n",
    "Create a matrix $B = [[5,6],[7,8]]$ and then output it to a file, and then read it to another matrix, let's call it $C$, and check if the matrices are the same."
   ]
  },
  {
   "cell_type": "code",
   "execution_count": null,
   "id": "cbb88c43",
   "metadata": {},
   "outputs": [],
   "source": []
  },
  {
   "cell_type": "markdown",
   "id": "a6195f2c",
   "metadata": {},
   "source": [
    "**Reference**: \n",
    "    \n",
    "- https://numpy.org/doc/stable/reference/routines.io.html"
   ]
  },
  {
   "cell_type": "markdown",
   "id": "0c85bb31",
   "metadata": {},
   "source": [
    "### Eigenvalue and Concatenuating row array\n",
    "\n",
    "In finding the eigenvector, we need to patch the eigenvectors side by side to form a matrix. For example, consider the matrix\n",
    "\n",
    "$ A = \n",
    "\\left(\\begin{array}{cc} \n",
    "1 & 2\\\\\n",
    "3 & 4\n",
    "\\end{array}\\right)\n",
    "$ \n",
    "\n",
    "We want to find the eigenvalue and eigenvectors. We may use the method `eig` in the `linalg` package to find. Then we can create the square array of eigenvectors."
   ]
  },
  {
   "cell_type": "code",
   "execution_count": 29,
   "id": "08a4a6fd",
   "metadata": {},
   "outputs": [
    {
     "name": "stdout",
     "output_type": "stream",
     "text": [
      "(array([-0.37228132,  5.37228132]), array([[-0.82456484, -0.41597356],\n",
      "       [ 0.56576746, -0.90937671]]))\n"
     ]
    }
   ],
   "source": [
    "A = np.array([[1,2],[3,4]])\n",
    "\n",
    "A_eig = np.linalg.eig(A)\n",
    "print(A_eig)"
   ]
  },
  {
   "cell_type": "markdown",
   "id": "f6e3dfe3",
   "metadata": {},
   "source": [
    "Apparently the variable `A_eig` stores the eigenvalues -0.3722 and 5.3723 and the two eigenvectors. How do we further use this results? Right now it looks like they are packed together. Indeed,"
   ]
  },
  {
   "cell_type": "code",
   "execution_count": 31,
   "id": "d2184376",
   "metadata": {},
   "outputs": [
    {
     "data": {
      "text/plain": [
       "tuple"
      ]
     },
     "execution_count": 31,
     "metadata": {},
     "output_type": "execute_result"
    }
   ],
   "source": [
    "type(A_eig)"
   ]
  },
  {
   "cell_type": "markdown",
   "id": "2938da53",
   "metadata": {},
   "source": [
    "We need to call their element by the index. By inspection, the first elements is the array of the eignevalues. Remember that calling the elements in a tuple is the same as a list. The only difference between a tuple and a list is that a tuple is immutable. Thus, once it is there, all elements and the size of the tuple remain the same. The use of tuple is very extensive, especially where many Numpy functions return a bunch of results in the form of tuple. Thus we have"
   ]
  },
  {
   "cell_type": "code",
   "execution_count": 33,
   "id": "720254ca",
   "metadata": {},
   "outputs": [
    {
     "name": "stdout",
     "output_type": "stream",
     "text": [
      "The two eigenvalues are -0.3722813232690143 and 5.372281323269014\n"
     ]
    }
   ],
   "source": [
    "eig_val1 = A_eig[0][0]\n",
    "eig_val2 = A_eig[0][1]\n",
    "print(\"The two eigenvalues are {} and {}\".format(eig_val1, eig_val2))"
   ]
  },
  {
   "cell_type": "markdown",
   "id": "ecc45faa",
   "metadata": {},
   "source": [
    "By the same method we can use it to extract the eigenvectors. We will use the method `hstack` and `vstack` (depending on how we have defined the eigenvectors) to *stack* the vectors to form the transformation matrix. "
   ]
  },
  {
   "cell_type": "code",
   "execution_count": 34,
   "id": "f8fbd821",
   "metadata": {},
   "outputs": [
    {
     "name": "stdout",
     "output_type": "stream",
     "text": [
      "[-0.82456484 -0.41597356] [ 0.56576746 -0.90937671]\n"
     ]
    }
   ],
   "source": [
    "eig_vec1 = A_eig[1][0]\n",
    "eig_vec2 = A_eig[1][1]\n",
    "print(eig_vec1, eig_vec2)"
   ]
  },
  {
   "cell_type": "code",
   "execution_count": 45,
   "id": "9b791344",
   "metadata": {},
   "outputs": [
    {
     "data": {
      "text/plain": [
       "array([[-0.82456484,  0.56576746],\n",
       "       [-0.41597356, -0.90937671]])"
      ]
     },
     "execution_count": 45,
     "metadata": {},
     "output_type": "execute_result"
    }
   ],
   "source": [
    "Q = np.hstack((eig_vec1.reshape((2,1)), eig_vec2.T.reshape(2,1)))\n",
    "Q"
   ]
  },
  {
   "cell_type": "code",
   "execution_count": 46,
   "id": "38a50dca",
   "metadata": {},
   "outputs": [
    {
     "data": {
      "text/plain": [
       "array([[-0.92305231, -0.57427572],\n",
       "       [ 0.42222915, -0.83696501]])"
      ]
     },
     "execution_count": 46,
     "metadata": {},
     "output_type": "execute_result"
    }
   ],
   "source": [
    "Q_inv = np.linalg.inv(Q)\n",
    "Q_inv"
   ]
  },
  {
   "cell_type": "code",
   "execution_count": null,
   "id": "0a616c4c",
   "metadata": {},
   "outputs": [],
   "source": []
  },
  {
   "cell_type": "code",
   "execution_count": null,
   "id": "c6aa5ddf",
   "metadata": {},
   "outputs": [],
   "source": [
    "np.matmul(np.matmul(Q_inv, Q)"
   ]
  },
  {
   "cell_type": "markdown",
   "id": "9392583a",
   "metadata": {},
   "source": [
    "### Exercise 3\n",
    "\n",
    "Solve by hand the eigenvalue and eigenvector to double check the results. "
   ]
  },
  {
   "cell_type": "markdown",
   "id": "669dfe82",
   "metadata": {},
   "source": [
    "### Exercise 4\n",
    "\n",
    "Now it is your turn to find the eigenvalues of the matrix \n",
    "\n",
    "$ B = \n",
    "\\left(\\begin{array}{cc} \n",
    "1 & 2\\\\\n",
    "3 & 1\n",
    "\\end{array}\\right)\n",
    "$ \n",
    "\n",
    "Find the eigenvalues and eivenvectors. And then construct the diagonal matrix where the elements are the eigenvalues of $B$. Try not to directly copy and paste the code we have shown. "
   ]
  },
  {
   "cell_type": "markdown",
   "id": "3acb4bc5",
   "metadata": {},
   "source": [
    "### Documentation\n",
    "\n",
    "It is impossible to cover all the methods in Numpy because it is such an extensive library which contains all basic operations in linear algebra, function transforms, data regression and so on. We refer interested readers to the official documents to explore other possibilities. \n",
    "\n",
    "> https://numpy.org/doc/stable/reference/index.html"
   ]
  },
  {
   "cell_type": "markdown",
   "id": "46685c46",
   "metadata": {},
   "source": [
    "### Exercise 5\n",
    "\n",
    "By searching the documentation, find the determinant of the matrix $B$ defined above. "
   ]
  },
  {
   "cell_type": "code",
   "execution_count": null,
   "id": "6a8901c7",
   "metadata": {},
   "outputs": [],
   "source": []
  },
  {
   "cell_type": "markdown",
   "id": "4afcbf6d",
   "metadata": {},
   "source": [
    "## Difference between Numpy and Scipy\n",
    "\n",
    "The two libraries have actually different functionality in the latest versions. The Numpy library is more aimed at solving and handling arrays in an efficient way, while Scipy aims at providing the algorithms for many operation beyond matrix, such as algebraic function, regression, solving polynomial and so on. Below we list the three major differences:\n",
    "\n",
    "1. Numpy is written with C subroutines and Scipy is written in Python. Thus, for overlapping methods in both libraries, Numpy has a higher efficiency. \n",
    "2. Operation in Scipy does not limit to arrays. The data can be inhomogeneous (though not advised).\n",
    "3. The definition and design of function in Scipy is more detailed than Numpy\n",
    "\n",
    "**Reference**:\n",
    "\n",
    "NumPy contains array data and basic operations such as sorting, indexing, etc whereas, SciPy consists of all the numerical code.\n",
    "- https://www.scipy.org/scipylib/faq.html\n",
    "- https://stackoverflow.com/questions/6200910/relationship-between-scipy-and-numpy"
   ]
  },
  {
   "cell_type": "markdown",
   "id": "4e8d13dd",
   "metadata": {},
   "source": [
    "### Example, using linalg package for solving matrix (by Andrea)\n",
    "\n",
    "Below we create a small $2 \\times 2$ matrix $A$ and a column vector $b$ we solve for the root $x$ where $Ax = b$. "
   ]
  },
  {
   "cell_type": "code",
   "execution_count": 49,
   "id": "60354865",
   "metadata": {},
   "outputs": [
    {
     "name": "stdout",
     "output_type": "stream",
     "text": [
      "A =\n",
      " [[1 2]\n",
      " [0 1]] \n",
      "\n",
      "x =\n",
      " [-2.  1.] \n",
      "\n",
      "A @ x =\n",
      " [0. 1.] \n",
      "\n",
      "A.dot(x) =\n",
      " [0. 1.] \n",
      "\n"
     ]
    }
   ],
   "source": [
    "import numpy as np\n",
    "import scipy.linalg as la\n",
    "\n",
    "A = np.array([[ 1, 2],\n",
    "              [0,  1]])\n",
    "b = np.array([0,1])\n",
    "\n",
    "x = la.solve(A,b)\n",
    "\n",
    "\n",
    "for i in ['A','x','A @ x','A.dot(x)']: \n",
    "    print(i,\"=\\n\", eval(i),\"\\n\")"
   ]
  },
  {
   "cell_type": "markdown",
   "id": "f0acc16c",
   "metadata": {},
   "source": [
    "### Exercise 6\n",
    "\n",
    "Check. Remember, b is a liner combination of the columns of A"
   ]
  },
  {
   "cell_type": "markdown",
   "id": "5440b338",
   "metadata": {},
   "source": [
    "### Performance comparison of Numpy and Scipy\n",
    "\n",
    "Below we ask Numpy and Scipy to do the same task, i.e. to solve for the root. From this we try to demonstrate the difference in their computational time. \n",
    "\n",
    "What we do is to generate a large matrix $C$ and the column vector $y$, we try to solve $C x  = y$."
   ]
  },
  {
   "cell_type": "code",
   "execution_count": 80,
   "id": "472bf6ac",
   "metadata": {},
   "outputs": [],
   "source": [
    "# Numpy's turn\n",
    "\n",
    "# create a random square matrix C\n",
    "C = np.random.randint(0, 10, (5000, 5000))\n",
    "\n",
    "# create a random column matrix y\n",
    "y = np.random.randint(-10, 10, (5000, 1))"
   ]
  },
  {
   "cell_type": "code",
   "execution_count": 81,
   "id": "bd8c60a2",
   "metadata": {},
   "outputs": [
    {
     "name": "stdout",
     "output_type": "stream",
     "text": [
      "Numpy takes 0.945504903793335 s\n"
     ]
    }
   ],
   "source": [
    "import time\n",
    "\n",
    "start_time = time.time()\n",
    "C_np = np.linalg.solve(C, y)\n",
    "print(\"Numpy takes {} s\".format(time.time() - start_time))"
   ]
  },
  {
   "cell_type": "code",
   "execution_count": 82,
   "id": "3b5a3357",
   "metadata": {},
   "outputs": [
    {
     "name": "stdout",
     "output_type": "stream",
     "text": [
      "Scipy takes 1.208235740661621 s\n"
     ]
    }
   ],
   "source": [
    "start_time = time.time()\n",
    "C_sp = la.solve(C, y)\n",
    "print(\"Scipy takes {} s\".format(time.time() - start_time))"
   ]
  },
  {
   "cell_type": "markdown",
   "id": "1859550c",
   "metadata": {},
   "source": [
    "If you are using very large matrix or need to repeat processes many times, if there is an option in using Numpy, Numpy is more preferred. "
   ]
  },
  {
   "cell_type": "markdown",
   "id": "c070da9d",
   "metadata": {},
   "source": [
    "### Exercise 7 (Code study by Andrea)\n",
    "\n",
    "Study the code below. Why does Python raise the error? Do you know what goes wrong?"
   ]
  },
  {
   "cell_type": "code",
   "execution_count": 48,
   "id": "a8a85888",
   "metadata": {},
   "outputs": [
    {
     "name": "stdout",
     "output_type": "stream",
     "text": [
      "[[1. 1. 1.]\n",
      " [1. 1. 1.]\n",
      " [1. 1. 1.]]\n"
     ]
    },
    {
     "ename": "LinAlgError",
     "evalue": "2-th leading minor of the array is not positive definite",
     "output_type": "error",
     "traceback": [
      "\u001b[1;31m---------------------------------------------------------------------------\u001b[0m",
      "\u001b[1;31mLinAlgError\u001b[0m                               Traceback (most recent call last)",
      "\u001b[1;32m<ipython-input-48-2416e30aded3>\u001b[0m in \u001b[0;36m<module>\u001b[1;34m\u001b[0m\n\u001b[0;32m      1\u001b[0m \u001b[1;32mimport\u001b[0m \u001b[0mscipy\u001b[0m\u001b[1;33m.\u001b[0m\u001b[0mlinalg\u001b[0m \u001b[1;32mas\u001b[0m \u001b[0mla\u001b[0m\u001b[1;33m\u001b[0m\u001b[1;33m\u001b[0m\u001b[0m\n\u001b[0;32m      2\u001b[0m \u001b[0mprint\u001b[0m\u001b[1;33m(\u001b[0m\u001b[0mnp\u001b[0m\u001b[1;33m.\u001b[0m\u001b[0mones\u001b[0m\u001b[1;33m(\u001b[0m\u001b[1;33m(\u001b[0m\u001b[1;36m3\u001b[0m\u001b[1;33m,\u001b[0m\u001b[1;36m3\u001b[0m\u001b[1;33m)\u001b[0m\u001b[1;33m)\u001b[0m\u001b[1;33m)\u001b[0m\u001b[1;33m\u001b[0m\u001b[1;33m\u001b[0m\u001b[0m\n\u001b[1;32m----> 3\u001b[1;33m \u001b[0mL\u001b[0m \u001b[1;33m=\u001b[0m \u001b[0mla\u001b[0m\u001b[1;33m.\u001b[0m\u001b[0mcholesky\u001b[0m\u001b[1;33m(\u001b[0m\u001b[0mnp\u001b[0m\u001b[1;33m.\u001b[0m\u001b[0mones\u001b[0m\u001b[1;33m(\u001b[0m\u001b[1;33m(\u001b[0m\u001b[1;36m3\u001b[0m\u001b[1;33m,\u001b[0m\u001b[1;36m3\u001b[0m\u001b[1;33m)\u001b[0m\u001b[1;33m)\u001b[0m\u001b[1;33m)\u001b[0m\u001b[1;33m\u001b[0m\u001b[1;33m\u001b[0m\u001b[0m\n\u001b[0m\u001b[0;32m      4\u001b[0m \u001b[0mprint\u001b[0m\u001b[1;33m(\u001b[0m\u001b[0mL\u001b[0m\u001b[1;33m)\u001b[0m\u001b[1;33m\u001b[0m\u001b[1;33m\u001b[0m\u001b[0m\n",
      "\u001b[1;32m~\\anaconda3\\lib\\site-packages\\scipy\\linalg\\decomp_cholesky.py\u001b[0m in \u001b[0;36mcholesky\u001b[1;34m(a, lower, overwrite_a, check_finite)\u001b[0m\n\u001b[0;32m     86\u001b[0m \u001b[1;33m\u001b[0m\u001b[0m\n\u001b[0;32m     87\u001b[0m     \"\"\"\n\u001b[1;32m---> 88\u001b[1;33m     c, lower = _cholesky(a, lower=lower, overwrite_a=overwrite_a, clean=True,\n\u001b[0m\u001b[0;32m     89\u001b[0m                          check_finite=check_finite)\n\u001b[0;32m     90\u001b[0m     \u001b[1;32mreturn\u001b[0m \u001b[0mc\u001b[0m\u001b[1;33m\u001b[0m\u001b[1;33m\u001b[0m\u001b[0m\n",
      "\u001b[1;32m~\\anaconda3\\lib\\site-packages\\scipy\\linalg\\decomp_cholesky.py\u001b[0m in \u001b[0;36m_cholesky\u001b[1;34m(a, lower, overwrite_a, clean, check_finite)\u001b[0m\n\u001b[0;32m     35\u001b[0m     \u001b[0mc\u001b[0m\u001b[1;33m,\u001b[0m \u001b[0minfo\u001b[0m \u001b[1;33m=\u001b[0m \u001b[0mpotrf\u001b[0m\u001b[1;33m(\u001b[0m\u001b[0ma1\u001b[0m\u001b[1;33m,\u001b[0m \u001b[0mlower\u001b[0m\u001b[1;33m=\u001b[0m\u001b[0mlower\u001b[0m\u001b[1;33m,\u001b[0m \u001b[0moverwrite_a\u001b[0m\u001b[1;33m=\u001b[0m\u001b[0moverwrite_a\u001b[0m\u001b[1;33m,\u001b[0m \u001b[0mclean\u001b[0m\u001b[1;33m=\u001b[0m\u001b[0mclean\u001b[0m\u001b[1;33m)\u001b[0m\u001b[1;33m\u001b[0m\u001b[1;33m\u001b[0m\u001b[0m\n\u001b[0;32m     36\u001b[0m     \u001b[1;32mif\u001b[0m \u001b[0minfo\u001b[0m \u001b[1;33m>\u001b[0m \u001b[1;36m0\u001b[0m\u001b[1;33m:\u001b[0m\u001b[1;33m\u001b[0m\u001b[1;33m\u001b[0m\u001b[0m\n\u001b[1;32m---> 37\u001b[1;33m         raise LinAlgError(\"%d-th leading minor of the array is not positive \"\n\u001b[0m\u001b[0;32m     38\u001b[0m                           \"definite\" % info)\n\u001b[0;32m     39\u001b[0m     \u001b[1;32mif\u001b[0m \u001b[0minfo\u001b[0m \u001b[1;33m<\u001b[0m \u001b[1;36m0\u001b[0m\u001b[1;33m:\u001b[0m\u001b[1;33m\u001b[0m\u001b[1;33m\u001b[0m\u001b[0m\n",
      "\u001b[1;31mLinAlgError\u001b[0m: 2-th leading minor of the array is not positive definite"
     ]
    }
   ],
   "source": [
    "import scipy.linalg as la\n",
    "print(np.ones((3,3)))\n",
    "L = la.cholesky(np.ones((3,3)))\n",
    "print(L)"
   ]
  },
  {
   "cell_type": "markdown",
   "id": "bd3a43d6",
   "metadata": {},
   "source": [
    "## Matplotlib\n",
    "\n",
    "The final topic we want to cover, so that you may do the first set of homework is the data visualization library, or the plotting library `matplotlib`. This library has a very long heritage which can be traced back to Python 2.0 (2003). There are also other new visualization tool like `seaborn`, or `express`. But Matpliblib is still the standard in terms of the coverage in the scientific publication (but less coverage if it goes to webpage development due to its lack of interactive graph). It has very rich customization which can respond to very different scenarios. \n",
    "\n",
    "We will focus on the `matplotlib.pyplot` package in this lecture. "
   ]
  },
  {
   "cell_type": "markdown",
   "id": "94f9bb64",
   "metadata": {},
   "source": [
    "*Only for first time*\n",
    "\n",
    "In case if your Python is very new, your Python library might not have installed the Matplotlib, then you may need to type\n",
    "```\n",
    "!pip install matplitlib\n",
    "```\n",
    "and execute it first. It might take some time because it is not a small library. "
   ]
  },
  {
   "cell_type": "code",
   "execution_count": null,
   "id": "2d5a4294",
   "metadata": {},
   "outputs": [],
   "source": []
  },
  {
   "cell_type": "code",
   "execution_count": 1,
   "id": "a5c16fe3",
   "metadata": {},
   "outputs": [],
   "source": [
    "# import the library as follows\n",
    "\n",
    "import matplotlib.pyplot as plt"
   ]
  },
  {
   "cell_type": "markdown",
   "id": "6c77b534",
   "metadata": {},
   "source": [
    "To plot some simple $x-y$ plot, we can simply use the `plot` method and pass the data of $x$ and $y$ accordingly. Let's try to plot the $y = 2x$ function from $x=1$ to 3. "
   ]
  },
  {
   "cell_type": "code",
   "execution_count": 2,
   "id": "06c77c42",
   "metadata": {},
   "outputs": [
    {
     "data": {
      "text/plain": [
       "[<matplotlib.lines.Line2D at 0x1eb1304fa00>]"
      ]
     },
     "execution_count": 2,
     "metadata": {},
     "output_type": "execute_result"
    },
    {
     "data": {
      "image/png": "[encoded data removed]",
      "text/plain": [
       "<Figure size 432x288 with 1 Axes>"
      ]
     },
     "metadata": {
      "needs_background": "light"
     },
     "output_type": "display_data"
    }
   ],
   "source": [
    "plt.plot([1,2,3], [2,4,6])"
   ]
  },
  {
   "cell_type": "markdown",
   "id": "b481c1b3",
   "metadata": {},
   "source": [
    "As long as we pass data structure like a 1D array or list, Matplotlib will align the data and show it in a graph. Certainly the above figure is very rough which we may need to decorate before we can publish it. Below we show more steps demonstrating how these can be done. "
   ]
  },
  {
   "cell_type": "code",
   "execution_count": 18,
   "id": "3f98ac2b",
   "metadata": {},
   "outputs": [
    {
     "data": {
      "image/png": "[encoded data removed]",
      "text/plain": [
       "<Figure size 432x288 with 1 Axes>"
      ]
     },
     "metadata": {
      "needs_background": "light"
     },
     "output_type": "display_data"
    }
   ],
   "source": [
    "# plot the figure with dashed line and with circle to mark the data point\n",
    "plt.plot([1,2,3], [2,4,6], \"--o\", c=\"black\")\n",
    "\n",
    "# change the axis label\n",
    "plt.xlabel(\"x\")\n",
    "plt.ylabel(\"y\")\n",
    "\n",
    "# add the axis in the graph\n",
    "plt.title(\"My first plot\")\n",
    "\n",
    "# change the ticks on the x-axis\n",
    "plt.xticks([1,2,3])\n",
    "\n",
    "# change the font size of the graph\n",
    "plt.rcParams.update({\"font.size\":14})"
   ]
  },
  {
   "cell_type": "markdown",
   "id": "a4096cc4",
   "metadata": {},
   "source": [
    "Here we briefly summarize the common plotting style:\n",
    "- solid line: \"-\"\n",
    "- dashed line: \"--\"\n",
    "- dotted line: \":\"\n",
    "- dot dashed line: \"-.\"\n",
    "\n",
    "The data point can be plotted in:\n",
    "- circle: \"o\"\n",
    "- square: \"s\"\n",
    "- pentagon: \"p\"\n",
    "- hexagon: \"h\"\n",
    "\n",
    "You might notice that in the first line of the above example, we use `c=\"black\"` to ask Matplotlib to plot the figure in black. This is because Python has a option as optional parameters, if you do not give any, Matplotlib will use the default value. In the above example, we see that the default colour is something blue. But if we pass any value into that function (method), our value will override the default value and it will be shown in the figure. "
   ]
  },
  {
   "cell_type": "markdown",
   "id": "130b24d4",
   "metadata": {},
   "source": [
    "### Exercise 8\n",
    "\n",
    "Try to copy the above code to the block below and experiment with different plotting style. "
   ]
  },
  {
   "cell_type": "code",
   "execution_count": null,
   "id": "4ea38f8c",
   "metadata": {},
   "outputs": [],
   "source": []
  },
  {
   "cell_type": "markdown",
   "id": "1a824194",
   "metadata": {},
   "source": [
    "### Exercise 9\n",
    "\n",
    "1. Use list comprehension to create two lists (or arrays if you want) of data that represents two functions $y_1 = x^2 + 2x + 3$, $y_2 = 2 \\sin(x)$. In the domain $x \\in (1,5)$\n",
    "2. Plot the $y_1$ in red solid line, use the parameter \"label\" to pass the name of the line as $y_1$. \n",
    "3. Plot the $y_2$ in green dashed line, with data point shown as upper triangle. Again, use the parameter \"label\" to pass the name of the line as $y_2$, \n",
    "4. Add the x- and y-axis labels accordingly\n",
    "5. Add a legend in the graph.\n",
    "\n",
    "Certainly there are parts that are not fully covered in our examples. You may want to search in the documentation or stackoverflow to get some hints. "
   ]
  },
  {
   "cell_type": "code",
   "execution_count": null,
   "id": "f8a93792",
   "metadata": {},
   "outputs": [],
   "source": [
    "# create the data points for x (one line)\n",
    "\n",
    "\n",
    "# create the data points for y1 (one line)\n",
    "\n",
    "\n",
    "# create the data points for y2 (one line)\n",
    "\n",
    "\n",
    "# plot y1 and y2 (two line), remember to add the line properties (two lines)\n",
    "\n",
    "\n",
    "\n",
    "# update the x- and y-label (two lines)\n",
    "\n",
    "\n",
    "\n",
    "# add the legend (one line)\n"
   ]
  },
  {
   "cell_type": "markdown",
   "id": "ff996657",
   "metadata": {},
   "source": [
    "The last example (by Andrea) and exercise to show in this lecture is the two-dimensinal colour plot, which is very useful to visualize the flow of the different equations. \n",
    "\n",
    "To do so, we need to use the concept of `figure` and `ax`. The class `figure` is the plotting space in general, and `ax` is the axis object which defined the plotting area. By doing so it gives us more flexibility to control the graph, especially the general outlook of the graph and when the graph has multiple plots. "
   ]
  },
  {
   "cell_type": "code",
   "execution_count": 27,
   "id": "58dd3f93",
   "metadata": {},
   "outputs": [
    {
     "name": "stderr",
     "output_type": "stream",
     "text": [
      "<ipython-input-27-136ba6f55ff7>:13: MatplotlibDeprecationWarning: shading='flat' when X and Y have the same dimensions as C is deprecated since 3.3.  Either specify the corners of the quadrilaterals with X and Y, or pass shading='auto', 'nearest' or 'gouraud', or set rcParams['pcolor.shading'].  This will become an error two minor releases later.\n",
      "  cb = ax.pcolormesh(X, Y, f)\n"
     ]
    },
    {
     "data": {
      "image/png": "[encoded data removed]",
      "text/plain": [
       "<Figure size 432x288 with 2 Axes>"
      ]
     },
     "metadata": {
      "needs_background": "light"
     },
     "output_type": "display_data"
    }
   ],
   "source": [
    "import numpy as np\n",
    "# ploting 2d functions on regular meshes \n",
    "x = np.linspace(-1,1,100)   # start, end, how many\n",
    "X,Y = np.meshgrid(x, x)\n",
    "\n",
    "f = X**2 + Y**2  # f(x,y)\n",
    "\n",
    "# set up a canva to draw\n",
    "fig = plt.figure()\n",
    "ax = fig.add_subplot(111)\n",
    "\n",
    "# plot the 2D color plot\n",
    "ax.pcolormesh(X, Y, f)\n",
    "\n",
    "# set the aspect of the graph\n",
    "ax.set_aspect(\"equal\")\n",
    "\n",
    "# add a title \n",
    "ax.set_title(\"2D plot\")\n",
    "\n",
    "plt.show()"
   ]
  },
  {
   "cell_type": "markdown",
   "id": "d756a425",
   "metadata": {},
   "source": [
    "### Exercise 10\n",
    "\n",
    "Plot a similar 2D graph for the function $f(x,y)=\\cos(\\pi x) \\cos(\\pi y)$ for $x \\in (-1, 1)$. \n",
    "1. This time let us use another colour map `cmap` to be \"winter\". Where can we set it?\n",
    "2. Add a color bar legend to let reader knows the mapping of value.\n",
    "\n",
    "Again, this is a good chance to practice using documentation and stackoverflow."
   ]
  },
  {
   "cell_type": "code",
   "execution_count": null,
   "id": "2ca2966a",
   "metadata": {},
   "outputs": [],
   "source": [
    "# define the range of x and y (two lines)\n",
    "\n",
    "\n",
    "\n",
    "# build up the map for f (one line)\n",
    "\n",
    "\n",
    "\n",
    "# create the figure object and then axis object (two lines)\n",
    "\n",
    "\n",
    "\n",
    "# plot the 2D colour plot and also output the colour bar data\n",
    "# with the setting of colour map (one line)\n",
    "\n",
    "\n",
    "# use the colour data to add the colour bar legend (one line)\n",
    "\n",
    "\n",
    "# output the graph (one line)\n"
   ]
  },
  {
   "cell_type": "markdown",
   "id": "729bb1a1",
   "metadata": {},
   "source": [
    "### Remark from Andrea\n",
    "\n",
    "#### <font color='purple'> Make sure that you feel comfortable with numpy, scipy, matplotlib. You should be able to work on the first homework set. \n",
    "\n",
    "> Find information about certain routines in the [numpy reference](https://docs.scipy.org/doc/numpy/reference/), the [numpy user guide](https://docs.scipy.org/doc/numpy/user/), and the [scipy reference](https://docs.scipy.org/doc/scipy/reference/).\n",
    "    \n",
    "> Chapter 1 of the [scipy-lectures](http://www.scipy-lectures.org/) is geared towards engineers.\n",
    "\n",
    "> Use the [matplotlob gallery](https://matplotlib.org/gallery/) as resource for images and source code.\n",
    "\n",
    "> Ask us or [stackoverflow](https://stackoverflow.com) if you have a question. </font>\n"
   ]
  },
  {
   "cell_type": "markdown",
   "id": "4f8106d0",
   "metadata": {},
   "source": [
    "# This is the end of Lecture 3 :-)"
   ]
  },
  {
   "cell_type": "code",
   "execution_count": null,
   "id": "e648b411",
   "metadata": {},
   "outputs": [],
   "source": []
  }
 ],
 "metadata": {
  "kernelspec": {
   "display_name": "Python 3",
   "language": "python",
   "name": "python3"
  },
  "language_info": {
   "codemirror_mode": {
    "name": "ipython",
    "version": 3
   },
   "file_extension": ".py",
   "mimetype": "text/x-python",
   "name": "python",
   "nbconvert_exporter": "python",
   "pygments_lexer": "ipython3",
   "version": "3.8.8"
  }
 },
 "nbformat": 4,
 "nbformat_minor": 5
}
