{
 "cells": [
  {
   "cell_type": "markdown",
   "id": "3f25dbe5",
   "metadata": {},
   "source": [
    "# Python Review Crash Course - Part II\n",
    "\n",
    "## Data Structures (Lists and other Sequences), Numpy Arrays, Functions, PEPs\n",
    "\n",
    "Developed by Shing Chi Leung in Jan 2023 &#128512;\t\n",
    "\n",
    "Based on the course structure developed by Andrea Dziubek"
   ]
  },
  {
   "cell_type": "markdown",
   "id": "143d69ea",
   "metadata": {},
   "source": [
    "## List object, operation and iterable\n",
    "\n",
    "In Lecture 1 we have touched on the concept of a list, which is an object. This is an important and flexible data structure which has extremely wide use. There are other important data structures we will not have time to explore the fundamental use of, for example `dict`, `tuple`, and `set`. These will be useful for data science use or development of software beyond mathematics. \n",
    "\n",
    "In Python when we construct a list, we are creating a list *object* to work on. To declare a list object, we type\n",
    "```\n",
    "# it generates an empty list\n",
    "a = [] \n",
    "\n",
    "# it generates a list with 4 elements\n",
    "b = [1, 2.1, 'a', True] \n",
    "```\n",
    "\n",
    "It suffices to observe two features in a Python list. (Notice: the exact properties of a (linked) list depends on the language. For example the linked list in Java does not necessarily have all the attribute that a Python linked list has.)\n",
    "\n",
    "1. A list can contain from zero to literally infinitely amount of elements upon definition\n",
    "2. A list does not necessarily contain a single data type, we can use it to store different data. \n",
    "\n",
    "Therefore, the list is more general than a matrix.\n",
    "\n",
    "There are multiple important attributes we should learn to view and change a list object:\n",
    "```\n",
    "# show how many elements in a list\n",
    "len(b)\n",
    "\n",
    "# To access the n-th element in a list\n",
    "b[2] # to get the 3rd element (Python starts from 0)\n",
    "\n",
    "# Add an extra element at the end of a list\n",
    "b.append(3)\n",
    "\n",
    "# Insert an extra element at the n-th position with a value p\n",
    "b.insert(n, p)\n",
    "\n",
    "# remove the last element \n",
    "b.pop()\n",
    "\n",
    "# remove the n-th element in a list\n",
    "b.pop(2)\n",
    "\n",
    "# find the index of the element with the same value\n",
    "# note only the first encounter is shown\n",
    "b.index(2.1)\n",
    "\n",
    "```"
   ]
  },
  {
   "cell_type": "markdown",
   "id": "106175a6",
   "metadata": {},
   "source": [
    "### Exercise 1: \n",
    "\n",
    "Try using the above attributes and work on the list `b` by doing the following:\n",
    "1. Declare a list b with the same set of element as above\n",
    "2. Remove the last element \n",
    "3. Insert the element \"apple\" at the 3rd position\n",
    "4. Find the index of the element with value 2.1\n",
    "5. Find the total number of elements\n",
    "\n",
    "If it is new to you, you should use the `print` function to output the updated list to see if it really works out correctly. "
   ]
  },
  {
   "cell_type": "code",
   "execution_count": null,
   "id": "69819cc8",
   "metadata": {},
   "outputs": [],
   "source": [
    "# Declare the list b with the same set of element as above (one line)\n",
    "\n",
    "\n",
    "# Remove the last element (one line)\n",
    "\n",
    "\n",
    "# Insert the element \"apple\" at the 1st position (one line)\n",
    "\n",
    "\n",
    "# Find the index of the element with a value 2.1 (one line)\n",
    "\n",
    "\n",
    "# Find the total number of elements (one line)\n",
    "\n",
    "\n"
   ]
  },
  {
   "cell_type": "markdown",
   "id": "b4dbb9bd-2185-43ab-99e5-51df242dc772",
   "metadata": {},
   "source": [
    "> https://docs.python.org/3/tutorial/datastructures.html     \n",
    "> In Python list (and array) indices start with 0, in Matlab they start with 1"
   ]
  },
  {
   "cell_type": "markdown",
   "id": "405f4ef7",
   "metadata": {},
   "source": [
    "# List slicing\n",
    "\n",
    "How about accessing more than one elements? In that case, we call it slicing the list. To do so, similar to how we use the range object, we define the starting value, stopping value, and the step (if necessary).\n",
    "\n",
    "For example, let's construct an integer list\n",
    "`c = [0, 1, 2, 3, 4, 5, 6, 7, 8, 9, 10, 11]`\n",
    "\n",
    "If we want to generate a subset of that list, which contains only elements 3 to 8 (without creating a new one), then we can type\n",
    "```\n",
    "c[3:9]\n",
    "```\n",
    "Again, Python does not return the last element, so we set the ending value as 9 so that the last element is 8, which is what we want.\n",
    "\n",
    "Then how about if we only want the even number elements (i.e. 0, 2, 4, ...) from the list *c*? To get them, we type\n",
    "```\n",
    "c[::2]\n",
    "```\n",
    "\n",
    "When there is no parameter supplied to the required position, Python assumes the default value, i.e. as starting value 0, as ending value the last element in the list, and a step of value 1.\n",
    "\n",
    "In Python, the negative index is defined to be counting backward from the end of the list. For example, `c[-1]` refers to the last element. "
   ]
  },
  {
   "cell_type": "code",
   "execution_count": 40,
   "id": "7a11713a",
   "metadata": {},
   "outputs": [
    {
     "name": "stdout",
     "output_type": "stream",
     "text": [
      "[3, 4, 5, 6, 7, 8]\n",
      "\n",
      "[0, 2, 4, 6, 8, 10]\n"
     ]
    }
   ],
   "source": [
    "c = [0, 1, 2, 3, 4, 5, 6, 7, 8, 9, 10, 11]\n",
    "print(c[3:9])\n",
    "print(c[::2])"
   ]
  },
  {
   "cell_type": "code",
   "execution_count": 41,
   "id": "40177bba",
   "metadata": {},
   "outputs": [
    {
     "data": {
      "text/plain": [
       "[11, 10]"
      ]
     },
     "execution_count": 41,
     "metadata": {},
     "output_type": "execute_result"
    }
   ],
   "source": [
    "# a tricky example\n",
    "c[-1:-3:-1]"
   ]
  },
  {
   "cell_type": "code",
   "execution_count": 42,
   "id": "4bd864ec",
   "metadata": {},
   "outputs": [
    {
     "data": {
      "text/plain": [
       "[11, 10, 9, 8, 7, 6, 5, 4, 3, 2, 1, 0]"
      ]
     },
     "execution_count": 42,
     "metadata": {},
     "output_type": "execute_result"
    }
   ],
   "source": [
    "# reversing the array\n",
    "c[::-1]"
   ]
  },
  {
   "cell_type": "markdown",
   "id": "029c9507",
   "metadata": {},
   "source": [
    "Using list slicing, we can construct more complicated subsets of a list, by concatenate multiple lists by the '+' operation. \n",
    "\n",
    "For example\n",
    "```\n",
    "a1 = [0, 2, 4]\n",
    "a2 = [1, 3, 5]\n",
    "```\n",
    "then \n",
    "```\n",
    "a = a1 + a2\n",
    "```\n",
    "will generate a new list *a* so that `a = [0, 2, 4, 1, 3, 5]`. Notice that the order of the elements matters during concatenate operation. "
   ]
  },
  {
   "cell_type": "markdown",
   "id": "44e69df3",
   "metadata": {},
   "source": [
    "### Exercise 2\n",
    "\n",
    "Below we declare two subsets of the original big list and then join them. Run this block to see the new list d. Before running it, just count in your mind, how many elements will be in the new list? "
   ]
  },
  {
   "cell_type": "code",
   "execution_count": 17,
   "id": "05aa1a79",
   "metadata": {},
   "outputs": [],
   "source": [
    "d1 = c[:2]\n",
    "d2 = c[7:10]\n",
    "\n",
    "d = d1 + d2\n",
    "print(d)"
   ]
  },
  {
   "cell_type": "markdown",
   "id": "b35154ed",
   "metadata": {},
   "source": [
    "### Exercise 3\n",
    "\n",
    "Consider the list `e = [0, 1, 2, 3, 4, 5, 6, 7, 8, 9, 10, 11, 12]`. Build a new list based on the following operations:\n",
    "\n",
    "1. Add the element 13 to the end of the list\n",
    "2. Remove the element 0 from the list\n",
    "3. Generate a subset list e1 which contains all the multiples of 3\n",
    "4. Generate another subset list `e2` which contains all the multiples of 4\n",
    "5. Combine the two lists `e1` and `e2` and form a new list `f`\n",
    "\n",
    "Again you might want to output the list after each step to make sure you are on the right track."
   ]
  },
  {
   "cell_type": "code",
   "execution_count": 1,
   "id": "488e813d",
   "metadata": {},
   "outputs": [],
   "source": [
    "# declare the list e (one line)\n",
    "\n",
    "\n",
    "# Add the element 13 to the end of the list (one line)\n",
    "\n",
    "\n",
    "# Remove the element 0 from the list (one line)\n",
    "\n",
    "\n",
    "# Generate a subset list e1 which contains all the multiples of 3 (one line)\n",
    "\n",
    "\n",
    "# Generate another subset list e2 which contains all the multiples of 4 (one line)\n",
    "\n",
    "\n",
    "# Combine the two lists e1 and e2 and form a new list f (one line)\n",
    "\n",
    "\n"
   ]
  },
  {
   "cell_type": "markdown",
   "id": "96745926",
   "metadata": {},
   "source": [
    "### Nested List\n",
    "\n",
    "If a list can contain different data types, you might wonder if a list can contain some elements that are itself list objects, then we are forming literally a multi-dimensional array (aka matrix). The answer is yes and no. **Yes**, because if we look at the data stored, that final object indeed looks like a matrix. **No**, because there is no correspondence bewtween many matrix operations and operatinos for nested lists. What's worse is that in terms of computation efficiency, lists are slow. This is because it allocates memory dynamically, and therefore does not aim at storing data efficiently to begin with. You may continue to extend the size of each row or column element. Numpy arrays assume a fixed size, so memory access can be done much more efficienctly. Unless we only use a list once and for all, we encourage you to use Numpy arrays when your main operations are matrix manipulation. \n",
    "\n",
    "For completeness we briefly explain the structre of a 2D list (3D lists can be extended similarly)\n",
    "```\n",
    "a = [[0, 1, 2], [3, 4, 5], [6, 7, 8]]\n",
    "```\n",
    "\n",
    "To address an element, we call from the outer list, to the inner list. For example, the element \n",
    "`a[2][1]` is 7, because `a[2]` corresponds to the element `[6,7,8]` and among which the position 1 stands for the second element, i.e. 7. "
   ]
  },
  {
   "cell_type": "markdown",
   "id": "739abc32",
   "metadata": {},
   "source": [
    "### Exercise 4\n",
    "\n",
    "For the same array, what is the location of the elements '5' and '1'? Check your results in the block below. "
   ]
  },
  {
   "cell_type": "code",
   "execution_count": null,
   "id": "d83f65bd",
   "metadata": {},
   "outputs": [],
   "source": []
  },
  {
   "cell_type": "markdown",
   "id": "e606ce92",
   "metadata": {},
   "source": [
    "An important use of lists is list comprehension. We can construct a list by a single command, the concept is the same as using a function. Based on a list of input values, we output another list of vaues. This provides much convenience as we will not want to type the entire array by hand which contains, for example, the first 1000 integer numbers. \n",
    "\n",
    "There are multiple ways to do so.\n",
    "1. By using iterables\n",
    "2. By implicitly using a list\n",
    "\n",
    "I assume you are familiar with the first method because of the `range` method. It is one of the examples of an iterable. An iterable is an object which can return you one element, sequentially, from its \"bag\". To construct, for example, a simple integer list, we can type\n",
    "```\n",
    "a = [i for i in range(1000)]\n",
    "```\n",
    "\n",
    "Then we generate a list containing all integer from 0 to 999 in one line. But how to intepret the syntax? Let's read it from the right to the left. \n",
    "\n",
    "The command `range(1000)` creates a bag of integers from 0 to 999. In this bag, Python takes the numbers one by one in ascending order and stores it as *i* (the middle *i*). Then Python forms a list by using all these output numbers directly (the left *i*).  "
   ]
  },
  {
   "cell_type": "markdown",
   "id": "4741a5d9",
   "metadata": {},
   "source": [
    "### Exercise 5:\n",
    "\n",
    "Create an integer list where it stores the first 1000 odd numbers with the smallest one being 3. What is the 385th element?"
   ]
  },
  {
   "cell_type": "code",
   "execution_count": null,
   "id": "277f7d37",
   "metadata": {},
   "outputs": [],
   "source": []
  },
  {
   "cell_type": "markdown",
   "id": "ed64a573",
   "metadata": {},
   "source": [
    "The second way is to generate a new list from an existing list. Let us define a similar array `bs`. We can use it to map to another list `cs` which are the first 1000 multiples of 3. \n",
    "\n",
    "```\n",
    "bs = [i for i in range(1,1001)]\n",
    "cs = [3*b for b in bs]\n",
    "```\n",
    "\n",
    "The first declaration for `bs` is the same as above, so we do not explain it again. How about the second declaration? Again we read it from right to left. This time we used the list `bs` as the template, and Python takes out each element one by one and stores as `b`. Then Python constructs a new list where each element has exaclty the value *3b*. \n",
    "\n",
    "We remind that a good habit in naming variables in Python is that we use the plural form to represent list object variables and singular form for other ordinary type variables."
   ]
  },
  {
   "cell_type": "code",
   "execution_count": 20,
   "id": "9fdd9d88",
   "metadata": {},
   "outputs": [
    {
     "data": {
      "text/plain": [
       "[3, 6, 9, 12, 15]"
      ]
     },
     "execution_count": 20,
     "metadata": {},
     "output_type": "execute_result"
    }
   ],
   "source": [
    "bs = [i for i in range(1,1001)]\n",
    "cs = [3*b for b in bs]\n",
    "\n",
    "# show the first 5 elements in cs\n",
    "cs[:5]"
   ]
  },
  {
   "cell_type": "markdown",
   "id": "1c63dbd8",
   "metadata": {},
   "source": [
    "### Exercise 6:\n",
    "\n",
    "By using list comprehension, create a list with 100 elements where each element is the square of integers, starting from 1. What is the 25th element?"
   ]
  },
  {
   "cell_type": "code",
   "execution_count": null,
   "id": "f6bf6c49",
   "metadata": {},
   "outputs": [],
   "source": []
  },
  {
   "cell_type": "markdown",
   "id": "875341fb",
   "metadata": {},
   "source": [
    "### Lists and for-loops\n",
    "\n",
    "A list can have the same functionality as an iterable when it comes to a for-loop. Recall that the `range` method is good for creating integer list with fixed interval. How about a list with non-fixed interval? What can we do to ask Python to loop through elements we specifically want? Let us for example, create a list of prime numbers: `primes = [2, 3, 5, 7, 11, 13, 17, 19, 23, 29, 31, 37]`\n",
    "\n",
    "We can loop through all these elements by replacing the \"bags\" of numbers from range, namely\n",
    "```\n",
    "for i in primes:\n",
    "    print(i)\n",
    "```\n",
    "\n",
    "This is useful if we have to do site-specific operations in a matrix. "
   ]
  },
  {
   "cell_type": "markdown",
   "id": "5404d177",
   "metadata": {},
   "source": [
    "### Exercise 7\n",
    "\n",
    "Construct a list `c1` with positive odd number integers, starting from 1, with 100 elements. Then construct the following lists by using the list `c1`:\n",
    "\n",
    "1. A list `c2` which contains squared numbers \n",
    "2. Construct a list `c3` of 5 elements which comes from the i-th element in `c2`, where *i* is the first five elements in `c1`\n",
    "i.e. `c3 = [c2[1], c2[3], c2[5], c2[7], c2[9]]`\n",
    "\n",
    "Of course you should not explicitly define the list like I show here. Use list comprehension. "
   ]
  },
  {
   "cell_type": "code",
   "execution_count": null,
   "id": "6f6195aa",
   "metadata": {},
   "outputs": [],
   "source": [
    "# Declare c1 (one line)\n",
    "\n",
    "\n",
    "# Declare c2 (one line)\n",
    "\n",
    "\n",
    "# Declare c3 (one line)\n",
    "\n",
    "\n",
    "# check c3 is indeed the elements we need (one line)\n"
   ]
  },
  {
   "cell_type": "markdown",
   "id": "21d34d1b-aa9d-4bb8-a33a-36f1e64c7336",
   "metadata": {},
   "source": [
    "> [https://stackoverflow.com/questions/509211/understanding-slice-notation](https://stackoverflow.com/questions/509211/understanding-slice-notation)"
   ]
  },
  {
   "cell_type": "markdown",
   "id": "57a700b9",
   "metadata": {},
   "source": [
    "## From lists to Numpy arrays\n",
    "\n",
    "Numpy (Numerical Python) is one of the core infrastructure in the ecosphere of Python libraries. Many upper-level libraries, such as Pandas, Matplotlib, are built on top of it, that means they use the functions and methods for operations in these libraries. Therefore, mastering basic operations in Numpy can help us appreciate the more advanced operations in these libraries. \n",
    "\n",
    "In Numpy, specific for this course, the main focus is on the Numpy array, which is essentially the matrix. A Numpy array is different from the nested list by the following.\n",
    "\n",
    "1. A Numpy array has a fixed size. We cannot directly append or remove an element to change the array size.\n",
    "2. A Numpy array expects all data has the same data type for maximum efficiency. \n",
    "3. A Numpy array has operations such as transpose, matrix multiplication to use. \n",
    "4. A Numpy array supports broadcasting where we can add / multiply a scalar or a vector to an entire matrix (with the array size correctly matched).\n",
    "5. A Numpy array supports slicing along row and column. "
   ]
  },
  {
   "cell_type": "markdown",
   "id": "b1eab6a9",
   "metadata": {},
   "source": [
    "To build a Numpy array, we can directly change a list into an array by the method `numpy.array([...])` which converts the passing parameters into an array. For example, \n",
    "```\n",
    "import numpy as np\n",
    "a = [0, 1, 2, 3, 4]\n",
    "a_array = np.array(a)\n",
    "```\n",
    "\n",
    "We can check that `a` and `a_array` are of different data type:"
   ]
  },
  {
   "cell_type": "code",
   "execution_count": 3,
   "id": "69082cb3",
   "metadata": {},
   "outputs": [
    {
     "name": "stdout",
     "output_type": "stream",
     "text": [
      "<class 'list'> <class 'numpy.ndarray'>\n"
     ]
    }
   ],
   "source": [
    "import numpy as np\n",
    "\n",
    "a = [0, 1, 2, 3, 4]\n",
    "a_array = np.array(a)\n",
    "\n",
    "print(type(a), type(a_array))"
   ]
  },
  {
   "cell_type": "code",
   "execution_count": 26,
   "id": "d2c61387",
   "metadata": {},
   "outputs": [
    {
     "name": "stdout",
     "output_type": "stream",
     "text": [
      "[0, 1, 2, 3, 4]\n",
      "\n",
      "[0 1 2 3 4]\n"
     ]
    }
   ],
   "source": [
    "print(a)\n",
    "print(a_array)"
   ]
  },
  {
   "cell_type": "markdown",
   "id": "e5dbc41b",
   "metadata": {},
   "source": [
    "We may notice that the output format in a list and an array is different. \n",
    "\n",
    "We can also directly allocate a zero or unity array and populate it by other means. \n",
    "\n",
    "```\n",
    "a_zeros = np.zeros((2,3))\n",
    "a_ones = np.ones((2,3))\n",
    "```\n",
    "\n",
    "The array `a_zeros` gives you an array of 2 rows and 3 columns, with all elements zero. Similar `a_ones` is an array with all elements one. It sufficies to say that the first index is the row number and the second index is the column number.  "
   ]
  },
  {
   "cell_type": "code",
   "execution_count": 4,
   "id": "a332962a",
   "metadata": {},
   "outputs": [
    {
     "data": {
      "text/plain": [
       "array([[1., 1., 1.],\n",
       "       [1., 1., 1.]])"
      ]
     },
     "execution_count": 4,
     "metadata": {},
     "output_type": "execute_result"
    }
   ],
   "source": [
    "a_z = np.ones((2,3))\n",
    "a_z"
   ]
  },
  {
   "cell_type": "markdown",
   "id": "802392a7",
   "metadata": {},
   "source": [
    "To call an element in a numpy array, we need to use the double index, instead of two separate indices as in a list. For example\n",
    "\n",
    "```\n",
    "a = [[1,2,3], [4,5,6], [7,8,9]]\n",
    "a_array = np.array(a)\n",
    "```\n",
    "\n",
    "To call one of the element, let's say the element 7, we use `a_array[2,0]`.\n",
    "\n",
    "We can also slice a matrix to get a row or column vector by using the colon (:) to indicate an entire dimension. We can also plug in specific numbers similar to how we slice a list. "
   ]
  },
  {
   "cell_type": "code",
   "execution_count": 6,
   "id": "7319adae",
   "metadata": {},
   "outputs": [
    {
     "name": "stdout",
     "output_type": "stream",
     "text": [
      "[1 2 3]\n",
      "[2 5 8]\n"
     ]
    }
   ],
   "source": [
    "# note that you don't have to import the numpy library again if you have done already\n",
    "# I provide it in case you start from this part of the notes\n",
    "import numpy as np\n",
    "\n",
    "a = [[1,2,3], [4,5,6], [7,8,9]]\n",
    "a_array = np.array(a)\n",
    "\n",
    "a_row = a_array[0,:]\n",
    "a_col = a_array[:,1]\n",
    "\n",
    "print(a_row)\n",
    "print(a_col)"
   ]
  },
  {
   "cell_type": "markdown",
   "id": "5d2bbd04-9b82-4dc8-801c-a41da18cd0fa",
   "metadata": {},
   "source": [
    ">https://numpy.org/doc/stable/reference/arrays.indexing.html"
   ]
  },
  {
   "cell_type": "markdown",
   "id": "5c762a79",
   "metadata": {},
   "source": [
    "We observe that Numpy converts the slice into a row vector. \n",
    "\n",
    "Numpy array is a class. So, similar to Java, we use methods to extract the properties of the array. For example, we use the attribute `shape` to extract the dimension of the matrix"
   ]
  },
  {
   "cell_type": "code",
   "execution_count": 32,
   "id": "d8844685",
   "metadata": {},
   "outputs": [
    {
     "name": "stdout",
     "output_type": "stream",
     "text": [
      "(3, 3)\n",
      "\n",
      "(3,)\n"
     ]
    }
   ],
   "source": [
    "print(a_array.shape)\n",
    "print(a_row.shape)"
   ]
  },
  {
   "cell_type": "markdown",
   "id": "0c16d442",
   "metadata": {},
   "source": [
    "Side note: You may notice that in both cases Numpy returns a *tuple* instead of a single number. We can retrieve the size of row or column of a matrix by its index as in a list.\n",
    "\n",
    "For example: `a_array.shape[0]` gives the row number of `a_array`."
   ]
  },
  {
   "cell_type": "markdown",
   "id": "82deb5b5",
   "metadata": {},
   "source": [
    "In order to form a column vector, we use the attribute transpose `T` or `transpose` to transpose a matrix or to convert a row (column) vector into a column (row) vector."
   ]
  },
  {
   "cell_type": "code",
   "execution_count": 7,
   "id": "829ea941",
   "metadata": {},
   "outputs": [
    {
     "name": "stdout",
     "output_type": "stream",
     "text": [
      "[[1 4 7]\n",
      " [2 5 8]\n",
      " [3 6 9]]\n"
     ]
    }
   ],
   "source": [
    "a_array_T = a_array.T\n",
    "\n",
    "print(a_array_T)"
   ]
  },
  {
   "cell_type": "markdown",
   "id": "fdab05cd",
   "metadata": {},
   "source": [
    "We can directly do arithmatic operations by adding / subtracting / multiplying all elements with another matrix.\n",
    "\n",
    "Notice that the multiplication here *is different* from matrix multiplcation (we will cover matrix multiplication below). When you use * to multiply two matrices, Numpy does an element-wise multiplication. \n"
   ]
  },
  {
   "cell_type": "code",
   "execution_count": 8,
   "id": "a69ab4a3",
   "metadata": {},
   "outputs": [
    {
     "name": "stdout",
     "output_type": "stream",
     "text": [
      "[[ 2  3  4]\n",
      " [ 5  6  7]\n",
      " [ 8  9 10]]\n",
      "[[ 2  4  6]\n",
      " [ 5  7  9]\n",
      " [ 8 10 12]]\n"
     ]
    }
   ],
   "source": [
    "# Numpy broadcasts the constant to all elements\n",
    "b1 = a_array + 1\n",
    "print(b1)\n",
    "\n",
    "# Numpy broadcasts the row vector to all rows \n",
    "b2 = a_array + a_row\n",
    "print(b2)"
   ]
  },
  {
   "cell_type": "code",
   "execution_count": 9,
   "id": "8915ebe3",
   "metadata": {},
   "outputs": [
    {
     "name": "stdout",
     "output_type": "stream",
     "text": [
      "[[ 2 10 24]\n",
      " [ 8 25 48]\n",
      " [14 40 72]]\n",
      "[[ 1  8 21]\n",
      " [ 8 25 48]\n",
      " [21 48 81]]\n"
     ]
    }
   ],
   "source": [
    "# Numpy broadcasts the columns vector to all columns\n",
    "b3 = a_array * a_col\n",
    "print(b3)\n",
    "\n",
    "# Numpy does an element-wise multiplication\n",
    "b4 = a_array * a_array_T\n",
    "print(b4)"
   ]
  },
  {
   "cell_type": "markdown",
   "id": "74989864",
   "metadata": {},
   "source": [
    "We need to use the Numpy method `mat_mul` to perform the matrix multiplication. For example\n"
   ]
  },
  {
   "cell_type": "code",
   "execution_count": 10,
   "id": "f60f3f1c",
   "metadata": {},
   "outputs": [
    {
     "name": "stdout",
     "output_type": "stream",
     "text": [
      "[[ 14  32  50]\n",
      " [ 32  77 122]\n",
      " [ 50 122 194]]\n"
     ]
    }
   ],
   "source": [
    "a_mat_mul = np.matmul(a_array, a_array_T)\n",
    "print(a_mat_mul)"
   ]
  },
  {
   "cell_type": "markdown",
   "id": "a358a6ec",
   "metadata": {},
   "source": [
    "### Exercise 8\n",
    "Verify by directly doing the multiplcation by hand to persuade yourself that Numpy is indeed doing  the proper matrix multiplication."
   ]
  },
  {
   "cell_type": "markdown",
   "id": "1726d751",
   "metadata": {},
   "source": [
    "### Exercise 9\n",
    "\n",
    "Define the following matrices\n",
    "```\n",
    "d1 = [[1,2],[3,2]]\n",
    "d_row = [3,1]\n",
    "```\n",
    "\n",
    "Use Numpy and then calculate by pen: d_row$^T \\cdot$ d1 $\\cdot$ d_row"
   ]
  },
  {
   "cell_type": "code",
   "execution_count": null,
   "id": "f0601c1e",
   "metadata": {},
   "outputs": [],
   "source": []
  },
  {
   "cell_type": "markdown",
   "id": "3f9550a5",
   "metadata": {},
   "source": [
    "## Functions\n",
    "\n",
    "The discussion of a programming language cannot be complete without mentioning how to define a function. Similar to mathematics, a function is a callable method that operates on some input parameters, and then returns the result. Using functions properly can largely simplify our code structure by putting repetitive processes into a separate place, and call them when we need to. It also specifies clearly (by good documentation) the logical flow of the code without displaying all details at once. A good function is when we can reuse the function not only in the same code, but also in other codes. \n",
    "\n",
    "There are also functions that do not return anything (aka subroutine) and there are also functions which do not need input parameters. \n",
    "\n",
    "To define a function, we use `def` to declare, and then the function name, and the parameter. For example:\n",
    "\n",
    "```\n",
    "def get_square(x):\n",
    "    return x*x\n",
    "```"
   ]
  },
  {
   "cell_type": "code",
   "execution_count": 48,
   "id": "b6d6a5cf",
   "metadata": {},
   "outputs": [
    {
     "name": "stdout",
     "output_type": "stream",
     "text": [
      "The square of 3 is  9\n"
     ]
    }
   ],
   "source": [
    "def get_square(x):\n",
    "    return x*x\n",
    "\n",
    "print(\"The square of 3 is \", get_square(3))"
   ]
  },
  {
   "cell_type": "markdown",
   "id": "06a6402c",
   "metadata": {},
   "source": [
    "A function (unique in Python) can accept more than one input parameter and/or return more than one results. In the following example, the code takes a number (an ideal case is that the code should check the input for its validity), and then returns the next odd and even number. "
   ]
  },
  {
   "cell_type": "code",
   "execution_count": 11,
   "id": "608eae2a",
   "metadata": {},
   "outputs": [
    {
     "name": "stdout",
     "output_type": "stream",
     "text": [
      "the input number is  3\n",
      "the next odd is  5\n",
      "the next even is  4\n"
     ]
    }
   ],
   "source": [
    "def next_odd_and_even(n):\n",
    "    \n",
    "    # case 1: n is even\n",
    "    if n%2==0:\n",
    "        return n+1, n+2\n",
    "        \n",
    "    else:\n",
    "        return n+2, n+1\n",
    "        \n",
    "# test the function\n",
    "m = 3\n",
    "next_odd, next_even = next_odd_and_even(m)\n",
    "\n",
    "# output results in pretty format\n",
    "print('the input number is ', m)\n",
    "print('the next odd is ', next_odd)\n",
    "print('the next even is ', next_even)"
   ]
  },
  {
   "cell_type": "markdown",
   "id": "3cef026c",
   "metadata": {},
   "source": [
    "Note that once the method reaches the line with `return`, Python will leave the method and return to the place from where the method is called. The later part of the method, no matter how long, will not be used. \n",
    "\n",
    "**Side note**: \n",
    "    \n",
    "We emphasize that in Python the data structure is flexible, so that we can treat the output of a function as a tuple, and then decompress it when we need. This may reduce the number of variables for debugging."
   ]
  },
  {
   "cell_type": "code",
   "execution_count": 12,
   "id": "e67b07e2",
   "metadata": {},
   "outputs": [
    {
     "name": "stdout",
     "output_type": "stream",
     "text": [
      "the input number is  3\n",
      "the compact output is  (5, 4)\n",
      "the next odd is  5\n",
      "the next even is  4\n"
     ]
    }
   ],
   "source": [
    "m = 3\n",
    "next_numbers = next_odd_and_even(m)\n",
    "\n",
    "# output results in pretty format\n",
    "print('the input number is ', m)\n",
    "print('the compact output is ', next_numbers)\n",
    "print('the next odd is ', next_numbers[0])\n",
    "print('the next even is ', next_numbers[1])"
   ]
  },
  {
   "cell_type": "markdown",
   "id": "7a2667bb",
   "metadata": {},
   "source": [
    "### Exercise 10 (Fibonacci number 1)\n",
    "\n",
    "Let us build our Fibonacci number generator. It can be tough if it is the first time to code. So we break down the problem into two parts. First, by definition, the Fibonacci number is the sum of the two previous numbers in the series, with the first two number in the series being 0 and 1. So the sequence is (I assume you know it very well) $[0, 1, 1, 2, 3, 5, ...]$.\n",
    "\n",
    "Our first step is to write a function so that we get the next Fibonacci number when we provide two numbers. \n",
    "\n",
    "**Note**: You cannot compile the next block right away without replace `[...]` first, otherwise it will yield error. "
   ]
  },
  {
   "cell_type": "code",
   "execution_count": 13,
   "id": "163ede9d",
   "metadata": {},
   "outputs": [],
   "source": [
    "def next_fibo(x1, x2):\n",
    "    return [...]"
   ]
  },
  {
   "cell_type": "code",
   "execution_count": 14,
   "id": "871ffd32",
   "metadata": {},
   "outputs": [],
   "source": [
    "# test your results here\n"
   ]
  },
  {
   "cell_type": "markdown",
   "id": "fbbce486",
   "metadata": {},
   "source": [
    "### Exercise 11 (Fibonacci number 2)\n",
    "\n",
    "Now we can find the next Fibonacci number by your new method! The next step is that, if we want to find the n-th Fibonacci number, the next method will use your new method repeatedly. \n",
    "\n",
    "Notice that there are special cases in finding the Fibonacci number $F$ (or known as the boundary case), namely when $n = 1$ and $n = 2$. $F(1) = 0$ and $F(2) = 1$ are by definition and cannot be found by your method. Otherwise, if $n > 3$, your method should do the iteration until you get the right $n$. In the method, we define `fibo_1` and `fibo_2` to be the previous two Fibonacci numbers, we use it to find the next Fibonacci number. \n",
    "\n",
    "Again, fill in the part with `[...]` to make the code really works the way we designed. \n",
    "\n",
    "Note: It can be more compactly done in a recursion but it requires very clear concept in variable management, data flow and boundary case so that the code does not fall into an infinite loop. Therefore, we omit the discussion here and leave for some more advanced course. "
   ]
  },
  {
   "cell_type": "code",
   "execution_count": 16,
   "id": "dc1d5f64",
   "metadata": {},
   "outputs": [],
   "source": [
    "def find_fibo(n):\n",
    "    \n",
    "    if [...]: # limit case n = 1\n",
    "        return [...]\n",
    "    \n",
    "    elif [...] # limit case n = 2\n",
    "        return [...]\n",
    "    \n",
    "    else: # if n > 2, do the iteration\n",
    "        \n",
    "        fibo_1 = 0\n",
    "        fibo_2 = 1\n",
    "        \n",
    "        # think carefully if we are doing the n-th case\n",
    "        # how many iteration do we need?\n",
    "        for i in range([...]): \n",
    "            fibo_new = [...]\n",
    "            \n",
    "            # now we get the new Fibonacci number\n",
    "            # So we want to replace the previous \n",
    "            # fibo_1 and fibo_2 to the appropriate \n",
    "            # values \n",
    "            [...]\n",
    "        \n",
    "        return fibo_new"
   ]
  },
  {
   "cell_type": "code",
   "execution_count": null,
   "id": "fc8d3c6e",
   "metadata": {},
   "outputs": [],
   "source": [
    "# test your results here\n",
    "# The 10th Fibonacci number is 34\n",
    "\n",
    "find_fibo(10)"
   ]
  },
  {
   "cell_type": "markdown",
   "id": "5c010e9e",
   "metadata": {},
   "source": [
    "### Exercise 12 (practice makes perfect)\n",
    "\n",
    "In the last exercise we gave a very detailed guide on building a method to find the Fibonacci numbers. However, your programming skills cannot grow if you have not gone through the code design and thinking process by yourself. \n",
    "\n",
    "This time, based on the idea we have described, try your best not to copy or peep the previous methods, and fill in the method below to build your own Fibonacci number finder. "
   ]
  },
  {
   "cell_type": "code",
   "execution_count": null,
   "id": "91d221ba",
   "metadata": {},
   "outputs": [],
   "source": [
    "def my_next_fibo(x1, x2):\n",
    "    [...]\n",
    "    \n",
    "def my_find_fibo(n):\n",
    "    [...]\n",
    "    "
   ]
  },
  {
   "cell_type": "code",
   "execution_count": null,
   "id": "2488fc35",
   "metadata": {},
   "outputs": [],
   "source": [
    "# test your own version\n",
    "# do you get the same results as the guided one?\n",
    "\n",
    "my_find_fibo(10)"
   ]
  },
  {
   "cell_type": "markdown",
   "id": "528b418c",
   "metadata": {},
   "source": [
    "### Exercise 13 (prime number search)\n",
    "\n",
    "Let us write a method to identify if a particular number is a prime number. By definition, a prime number is that the number is not divisible by any positive integer smaller than it except 1. And therefore, 7 is a prime number and 10 is not a prime number because it is divisible by 2 and 5. \n",
    "\n",
    "Again, fill in the `[...]` below to make the method working as designed. \n",
    "\n",
    "This method directly uses iteration to loop over relevant numbers to check if the input number has any divisible numbers. "
   ]
  },
  {
   "cell_type": "code",
   "execution_count": null,
   "id": "d181f2b2",
   "metadata": {},
   "outputs": [],
   "source": [
    "def is_prime(n):\n",
    "    \n",
    "    # we by default assume a number is a prime \n",
    "    result = True\n",
    "    \n",
    "    # then check the input number by integer\n",
    "    # smaller than it. How small should it be? (1 line)\n",
    "    for i in [...]:\n",
    "    \n",
    "        # which operator should you use to find if\n",
    "        # is divisible? (1 line)\n",
    "        if [...]:\n",
    "            \n",
    "            # what will you do if you know the \n",
    "            # number is divisible? (1-2 line)\n",
    "            [...]\n",
    "    \n",
    "    \n",
    "    # return your decision to the code that calls it\n",
    "    return result    "
   ]
  },
  {
   "cell_type": "code",
   "execution_count": null,
   "id": "382d0634",
   "metadata": {},
   "outputs": [],
   "source": [
    "# test your method here\n",
    "\n",
    "print(\"100 is a prime\", is_prime(100))\n",
    "print(\"101 is a prime\", is_prime(101))"
   ]
  },
  {
   "cell_type": "markdown",
   "id": "29dd5f45",
   "metadata": {},
   "source": [
    "### Scope of a function\n",
    "\n",
    "In Python, there are two types of variables, global variables and local variables. Global variables, as its name defines, can be accessed anywhere in the code. For example, all the variables, like `a_array` we saw earlier in this chapter, once they are defined outside a function, its value can be used until we close the Python kernel. We call these variables global variables. \n",
    "\n",
    "On the other hand, when a variable is defined inside a method, we will not be able to access it after Python leaves the method. We call these variables local variables.\n",
    "\n",
    "Therefore, when you build a large code without using functions to manage the variables, there is a chance that you accidentially reuse some variable names, and may overwrite what you defined before. This could be a problem if those numbers are essential ones, for example, some mathematical or physical constants.\n",
    "\n",
    "In the example below, we show how these variables are accessed. The code computes the quadratic equation $y = ax^2 + bx + c$."
   ]
  },
  {
   "cell_type": "code",
   "execution_count": 17,
   "id": "1b0226df",
   "metadata": {},
   "outputs": [],
   "source": [
    "a = 3\n",
    "b = 2\n",
    "c = 1\n",
    "\n",
    "def quad_eq(x):   \n",
    "    y = a*x**2 + b*x + c\n",
    "    return y"
   ]
  },
  {
   "cell_type": "code",
   "execution_count": 18,
   "id": "076255cd",
   "metadata": {},
   "outputs": [
    {
     "name": "stdout",
     "output_type": "stream",
     "text": [
      "34\n"
     ]
    }
   ],
   "source": [
    "print(quad_eq(3))"
   ]
  },
  {
   "cell_type": "code",
   "execution_count": 19,
   "id": "9f0a2230",
   "metadata": {},
   "outputs": [
    {
     "ename": "<class 'NameError'>",
     "evalue": "name 'y' is not defined",
     "output_type": "error",
     "traceback": [
      "\u001b[0;31m---------------------------------------------------------------------------\u001b[0m",
      "\u001b[0;31mNameError\u001b[0m                                 Traceback (most recent call last)",
      "Cell \u001b[0;32mIn[19], line 1\u001b[0m\n\u001b[0;32m----> 1\u001b[0m \u001b[38;5;28mprint\u001b[39m(\u001b[43my\u001b[49m)\n",
      "\u001b[0;31mNameError\u001b[0m: name 'y' is not defined"
     ]
    }
   ],
   "source": [
    "print(y)"
   ]
  },
  {
   "cell_type": "markdown",
   "id": "8cd4bd3e",
   "metadata": {},
   "source": [
    "Now we see that variable `y` cannot be accessed from outside the method because it is valid only *in* the method. \n",
    "\n",
    "Another possible scenario is that if you use the same variable names outside and inside of a method, Python chooses the value that the varaible has inside the method (override). For new programmer, we do not encourage this unless you have a clear code map of how the data flow takes place. "
   ]
  },
  {
   "cell_type": "markdown",
   "id": "829f0a55-11b4-415f-b85a-8297803026ac",
   "metadata": {},
   "source": [
    "> [https://docs.python.org/3/library/__main__.html](https://docs.python.org/3/library/__main__.html)"
   ]
  },
  {
   "cell_type": "markdown",
   "id": "d1e67e87",
   "metadata": {},
   "source": [
    "### Passing by Reference and Passing by Value\n",
    "\n",
    "An important concept in function is that Python distinguishes the two types of passing into a function or a method. This distinction is common in other languages, including C and C++, but not so for some langunages, such as Fortran. Python, by default, assumes both types of passing depending on the data type. \n",
    "\n",
    "- Passing by **value**: Only the **value** of the variable is passed intto a method. \n",
    "- Passing by **reference**: The **address** of the object is passed into a method. \n",
    "\n",
    "\n",
    "But why the address or the value important in passing the variables? The answer is, sometimes in the function, we might, intentionally or inadvertently, modify the variables coming from the main program. If the variables is passed by reference, the modification remains there after Python finishes the function. On the other hand, the modification is only valid for passing by value. \n",
    "\n",
    "The exact passing method depends on the data type:\n",
    "- Passing by **value**: Boolean, integer, floating point\n",
    "- Passing by **reference**: String, other objects\n",
    "\n",
    "Let us take a look at the example below to see why it is important:"
   ]
  },
  {
   "cell_type": "code",
   "execution_count": 3,
   "id": "49edef1d",
   "metadata": {},
   "outputs": [],
   "source": [
    "int_var = 1\n",
    "list_var = [1, 2, 3]\n",
    "\n",
    "def operation(int_var, list_var):\n",
    "    int_var = 5\n",
    "    list_var[0] = 5\n",
    "    \n",
    "    print(\"Inside the function, a = \", int_var)\n",
    "    print(\"Inside the function, c = \", list_var)"
   ]
  },
  {
   "cell_type": "code",
   "execution_count": 4,
   "id": "5d5e13fe",
   "metadata": {},
   "outputs": [
    {
     "name": "stdout",
     "output_type": "stream",
     "text": [
      "Inside the function, a =  5\n",
      "Inside the function, c =  [5, 2, 3]\n",
      "After operation: \n",
      "Outside the function, a =  1\n",
      "Outside the function, c =  [5, 2, 3]\n"
     ]
    }
   ],
   "source": [
    "operation(int_var, list_var)\n",
    "print(\"After operation: \")\n",
    "print(\"Outside the function, a = \", int_var)\n",
    "print(\"Outside the function, c = \", list_var)"
   ]
  },
  {
   "cell_type": "markdown",
   "id": "d2a005ef",
   "metadata": {},
   "source": [
    "### Exercise 14 (code study)\n",
    "\n",
    "In the code below, if you run it, the result is different from what we expect. We want to calculate $y=f(x)=3x^2 + 2x + 1$ and then double the coefficients, so that the next time we will have $y=f(x)=6x^2 + 4x + 2$. But it seems it is not done. \n",
    "\n",
    "Can you fix it?"
   ]
  },
  {
   "cell_type": "code",
   "execution_count": 7,
   "id": "f51d2d59",
   "metadata": {},
   "outputs": [],
   "source": [
    "a = 3\n",
    "b = 2\n",
    "c = 1\n",
    "\n",
    "def quad_eq2(a, b, c, x):   \n",
    "    \n",
    "    # get the product (c, bx and ax^2)\n",
    "    y = a*x**2 + b*x + c\n",
    "    \n",
    "    # modify the coefficient\n",
    "    a *= 2\n",
    "    b *= 2\n",
    "    c *= 2\n",
    "    \n",
    "    return y"
   ]
  },
  {
   "cell_type": "code",
   "execution_count": 13,
   "id": "a339ff19",
   "metadata": {},
   "outputs": [
    {
     "name": "stdout",
     "output_type": "stream",
     "text": [
      "The modified coefficients are a = 3, b = 2, c = 1\n"
     ]
    }
   ],
   "source": [
    "quad_eq2(a, b, c, 1)\n",
    "print(\"The modified coefficients are a = {}, b = {}, c = {}\".format(a,b,c))"
   ]
  },
  {
   "cell_type": "markdown",
   "id": "a38a0168",
   "metadata": {},
   "source": [
    "## Case study: LU decomposition (By Andrea)\n",
    "\n",
    "Homework 1 asks you to solve a system of linear equations Ax=b, using the LU decomposition.\n",
    "\n",
    "In the code below, we build two methods. The *main* method which we use to test the LU decomposition method, and the LU decomposition method itself. \n"
   ]
  },
  {
   "cell_type": "code",
   "execution_count": null,
   "id": "e656155e",
   "metadata": {},
   "outputs": [],
   "source": [
    "''' \n",
    "MAT 460, HW 1ab, Author, Date\n",
    "\n",
    "Solve Ax=b using LU decomposition\n",
    "(1) A=LU, (2) solve Ly=b, (3) solve Ux=y\n",
    "\n",
    "Testcase: Ax=b has solution x = [1,2,3]^T \n",
    "for\n",
    "L = np.array([[1,0,0],[-2,1,0],[4,5,1]])\n",
    "U = np.array([[2,-1,6],[0,3,9],[0,0,-2]])\n",
    "b = np.array([18,-3,231])\n",
    "'''\n",
    "\n",
    "import numpy as np \n",
    "import scipy.linalg as la     # what is this?\n",
    "\n",
    "def main(): \n",
    "\n",
    "    # (2) solve Ly=b\n",
    "    L = np.array([[1,0,0],[-2,1,0],[4,5,1]])\n",
    "    b = np.array([18,-3,231])\n",
    "    y = my_forward(L,b)\n",
    "    # compare with python linear algebra library solver\n",
    "    print(y,\"=?=\",la.solve(L,b))\n",
    "    \n",
    "    # example from hwset 1 \n",
    "    U = np.array([[2,-1,6],[0,3,9],[0,0,-2]])\n",
    "    A = np.dot(L,U)\n",
    "    print(A)\n",
    "    \n",
    "    x = la.solve(A,b)\n",
    "    print(x)\n",
    "    \n",
    "    \n",
    "# function definitions start  \n",
    "def my_forward(L,b):\n",
    "    ''' solve lower triangular system: Ly = b\n",
    "    for k = 0...n-1         \n",
    "       b_k = y_k\n",
    "       for j = 0...k \n",
    "          y_k = y_k - l_kj y_j\n",
    "    '''\n",
    "    n = L.shape[0]\n",
    "    y = np.zeros(n)        \n",
    "    for k in range(n):         \n",
    "        y[k] = b[k]\n",
    "        for j in range(k):      \n",
    "            y[k] = y[k] - L[k,j]*y[j]             \n",
    "    return y\n",
    "\n",
    "\n",
    "if __name__ == \"__main__\":\n",
    "    main()     "
   ]
  },
  {
   "cell_type": "markdown",
   "id": "6599b0cd",
   "metadata": {},
   "source": [
    "Develop the algorithm for the backward solver. Over which index pairs do we have to loop? Write the pseudo-code for this function.\n",
    "Change the following piece of code so that these 2 for-loops give the number pairs (k,j) = (2,2), (1,1), (1,2), (0,0), (0,1), (0,2)."
   ]
  },
  {
   "cell_type": "code",
   "execution_count": 64,
   "id": "41e3c24c",
   "metadata": {},
   "outputs": [],
   "source": [
    "n = 3\n",
    "for k in range(n,-1,1):\n",
    "    for j in range(k+1,n):\n",
    "        print(k,j)"
   ]
  },
  {
   "cell_type": "markdown",
   "id": "045d0ab4",
   "metadata": {},
   "source": [
    "### Exercise 15 (backward decomposition)\n",
    "\n",
    "```\n",
    "# TODO\n",
    "#def backward(U,y):\n",
    "#    return x\n",
    "\n",
    "# make hw easier, we allow using python to do the A=LU\n",
    "#def myLU(A):\n",
    "#    return L,U\n",
    "```\n",
    "\n",
    "The remaining task is to fill in the two methods so that we complete the diagonalization. Please refer to your homework assignment. "
   ]
  },
  {
   "cell_type": "code",
   "execution_count": null,
   "id": "260da14b",
   "metadata": {},
   "outputs": [],
   "source": []
  },
  {
   "cell_type": "markdown",
   "id": "e7f063a4",
   "metadata": {},
   "source": [
    "## PEPs and more in-depth Python tutorials\n",
    "\n",
    "> The [Zen of Python](https://www.python.org/dev/peps/pep-0020/) and [Style Guide for Python Code](https://www.python.org/dev/peps/pep-0008/#other-recommendations)\n",
    "\n",
    "> [https://docs.python-guide.org/](https://docs.python-guide.org/)\n",
    "\n",
    "> [https://docs.python-guide.org/intro/learning/](https://docs.python-guide.org/intro/learning/)\n",
    "\n",
    "> [http://www.davekuhlman.org/python_book_01.html](http://www.davekuhlman.org/python_book_01.html)"
   ]
  },
  {
   "cell_type": "markdown",
   "id": "aa8b58a5",
   "metadata": {},
   "source": [
    "<font color='purple'> What are PEPs? Give 3 examples for good coding style.  \n",
    "I liked Kuhlman's book. It has 3 parts: Beginning, Advanced, and Exercises with Solutions (''for those who feel a need for less explanation and more practical exercises'').</font>"
   ]
  },
  {
   "cell_type": "code",
   "execution_count": null,
   "id": "5423076c",
   "metadata": {},
   "outputs": [],
   "source": []
  }
 ],
 "metadata": {
  "kernelspec": {
   "display_name": "Python 3",
   "language": "python",
   "name": "python3"
  },
  "language_info": {
   "codemirror_mode": {
    "name": "ipython",
    "version": 3
   },
   "file_extension": ".py",
   "mimetype": "text/x-python",
   "name": "python",
   "nbconvert_exporter": "python",
   "pygments_lexer": "ipython3",
   "version": "3.8.8"
  }
 },
 "nbformat": 4,
 "nbformat_minor": 5
}
