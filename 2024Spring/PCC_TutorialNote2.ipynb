{
 "cells": [
  {
   "cell_type": "markdown",
   "id": "e830e341",
   "metadata": {},
   "source": [
    "## PHY 361 Numerical Exercise 2\n",
    "\n",
    "### Review in List, Dictionary, Numpy and Matplotlib\n",
    "\n",
    "Written by Shing Chi Leung\n",
    "\n",
    "Copyright 2024\n",
    "\n",
    "**Instruction**: In each exercise, go through the guidance and learn/review about the numerical skills that are useful for solving physics problems. Complete the programming exercise where you find the instruction **write you code here** and **write your answer here**. For the code, it means write the Python code according to the instruction. You may directly run the code and see if you generate the correct results. Then send the completed Jupyter Notebook file when you have finished. For the answer, it encourages you to **think** without using the computer. Then write down what you think to be the answer there. In most cases the questions encourage you to think about the answer first. It is an important procedure because having a code designed mentally can greatly speed up your coding accuracy and speed. Most importantly, don't copy and paste the code result to the answer! I will not grade the part in **write your answer**. I only want to give a space for you to think as if you are a Python interpretor. \n",
    "\n",
    "In this exercise we will have our review on list, dictionary, NumPy and Matplotlib. List is a versatile list-like data structure which can store any types of content. Knowing the flexibility of list allows us to write fully Pythonic code. Dictionary is another efficient tools that allow efficient indexing of data for storing and reference. NumPy is one of the low level library which contains most functions for algebra operation, especially linear algebra. Matplotlib is the most common plotting tools for creating article quality figure for presenting your data. By having a decent understanding in these four tools, it is sufficient to perform basically most scientific computation and presentations."
   ]
  },
  {
   "cell_type": "markdown",
   "id": "a527dcee",
   "metadata": {},
   "source": [
    "## Table of Content\n",
    "    \n",
    "[Part 1: List](#Part-1:-List) <br>\n",
    "- [Exercise 1](#Exercise-1) (*List Slicing*)\n",
    "- [Exercise 2](#Exercise-2) (*List Operation*)\n",
    "- [Exercise 3](#Exercise-3) (*List Comprehension*)\n",
    "- [Exercise 4](#Exercise-4) (*List and Zip*)\n",
    "- [Exercise 5](#Exercise-5) (*Nexted List*)\n",
    "\n",
    "[Part 2: Dictionary](#Part-2:-Dictionary) <br>\n",
    "- [Exercise 6](#Exercise-6) (*Basic Dictionary*)\n",
    "    \n",
    "[Part 3: NumPy](#Part-3:-NumPy) <br>\n",
    "- [Exercise 7](#Exercise-7) (*NumPy slicing*)\n",
    "- [Exercise 8](#Exercise-8) (*API and eigenvalue*)\n",
    "- [Exercise 9](#Exercise-9) (*Matrix operation*)\n",
    "- [Exercise 10](#Exercise-10) (*Gaussian Elimination*)\n",
    "    \n",
    "[Part 4: Matplotlib](#Part-4:-Matplotlib) <br>\n",
    "- [Exercise 11](#Exercise-11) (*First Graph*)\n",
    "- [Exercise 12](#Exercise-12) (*Beautiful Graph*)\n",
    "    \n"
   ]
  },
  {
   "cell_type": "markdown",
   "id": "0aba71fd",
   "metadata": {},
   "source": [
    "## Part 1: List\n",
    "\n",
    "I believe you may have already some understand about an array. An array is a matrix like structure where one can refer to individual elements by its index. Thus one can store and manage a large number of data elements with ease. In this part we will introduce and practice on the declaration, modification and operation. We will also briefly go through list comprehension. \n",
    "\n",
    "### List as a Flexible Storage System\n",
    "\n",
    "The most important feature of list is that it does not assume a specific datatype and size. In language such as Java and C, an array can only be used to store one type of data, integer, floating point or chacacters. In Python, a list can store multiple types of data. \n",
    "\n",
    "Another feature is that one can flexibly insert and remove elements for the own need. This is particularly useful when the data is dynamical. However, one should notice that, because of the same convenience, the \n",
    "\n",
    "To declare an empty list, let's call it a1, we type: <br>\n",
    "`a1 = []`\n",
    "\n",
    "To put in initial elements, we can simply set the elements inside the square bracket: <br>\n",
    "`a2 = [1, 2, 3, 4, 5]`\n",
    "\n",
    "Below I show some common queries:"
   ]
  },
  {
   "cell_type": "code",
   "execution_count": 5,
   "id": "9d7e9d18",
   "metadata": {},
   "outputs": [
    {
     "name": "stdout",
     "output_type": "stream",
     "text": [
      "type(a2) =  <class 'list'>\n",
      "\n",
      "Print the entire list\n",
      "a2 =  [1, 2, 3, 4, 5]\n",
      "\n",
      "Print individual elements\n",
      "a2[1] =  2\n",
      "a2[3] =  4\n",
      "\n",
      "Print list slice\n",
      "a2[2:5] =  [3, 4, 5]\n",
      "\n",
      "Print reverse list\n",
      "a2[-1] =  5\n"
     ]
    }
   ],
   "source": [
    "# The element can be accessed in multiple ways\n",
    "\n",
    "a2 = [1, 2, 3, 4, 5]\n",
    "print(\"type(a2) = \", type(a2))\n",
    "print()\n",
    "\n",
    "\n",
    "# print the entire \n",
    "print(\"Print the entire list\")\n",
    "print(\"a2 = \", a2)\n",
    "print(\"\")\n",
    "\n",
    "\n",
    "# print the selected elements\n",
    "print(\"Print individual elements\")\n",
    "print(\"a2[1] = \", a2[1])\n",
    "print(\"a2[3] = \", a2[3])\n",
    "print(\"\")\n",
    "\n",
    "# getting a slice of elements\n",
    "print(\"Print list slice\")\n",
    "print(\"a2[2:5] = \", a2[2:5])\n",
    "print()\n",
    "\n",
    "# getting elements in reverse order\n",
    "print(\"Print reverse list\")\n",
    "print(\"a2[-1] = \", a2[-1])"
   ]
  },
  {
   "cell_type": "markdown",
   "id": "a7425f0c",
   "metadata": {},
   "source": [
    "The above short code demonstration shows how to get the entire list and the individual elements. We remind that for elements we always use **square** bracket. And we can call multiple elements by the colon (same pattern as range in previous assignment).\n",
    "\n",
    "One important difference in the index is that Python **starts with zero**. The first element has an index 0. Therefore, when there are 5 elements, the last element has the index (5-1) = 4. \n",
    "\n",
    "To call multiple elements, we use the notation `a2[2:5]`, which means we are asking Python to return from the 2nd element up to (5-1)=4th element in the list. The last index is not included in the return. Similar to the `range` function, it accepts three parameters: the starting element, the ending (non-inclusive) element, and the increment. By default the increment in the slice is 1. If we want the slice of every other element, we may type something like: <br>\n",
    "`a2[::2]`\n",
    "\n",
    "We can also count the elements backward by using negative number. As a rule of thumb, the -1 th element corresponds to the last element in the list. \n",
    "\n",
    "### List as a Mixed Type Storage\n",
    "\n",
    "As noted above, the elements can be of different data type: <br>\n",
    "`a3 = [1, 2.0, True, 'c']`\n",
    "\n",
    "We will examine the individual element type in the following code piece:"
   ]
  },
  {
   "cell_type": "code",
   "execution_count": 6,
   "id": "0cf59636",
   "metadata": {},
   "outputs": [
    {
     "name": "stdout",
     "output_type": "stream",
     "text": [
      "The original list:  [1, 2.0, True, 'c']\n",
      "Type of 1st element:  <class 'int'>\n",
      "Type of 2nd element:  <class 'float'>\n",
      "Type of 3rd element:  <class 'bool'>\n",
      "Type of 4th element:  <class 'str'>\n"
     ]
    }
   ],
   "source": [
    "a3 = [1, 2.0, True, 'c']\n",
    "\n",
    "print('The original list: ', a3)\n",
    "print('Type of 1st element: ', type(a3[0]))\n",
    "print('Type of 2nd element: ', type(a3[1]))\n",
    "print('Type of 3rd element: ', type(a3[2]))\n",
    "print('Type of 4th element: ', type(a3[3]))"
   ]
  },
  {
   "cell_type": "markdown",
   "id": "4a0ec8ad",
   "metadata": {},
   "source": [
    "It suffices to see from the above example that the list can be very general to its data element. Therefore, unlike traditional language which has a single data type for array, we need to pay attention if some elements could have different data types. A mixed data type list could be hard to debug. Some trivial data type like string will yield an error immediately when we process it with some numerical functions. However, for Boolean variable, Python can render it as 1 or 0, which means it can be processed by some numerical functions while it has no actual meaning. \n",
    "\n",
    "\n",
    "#### Exercise 1\n",
    "\n",
    "If I declare a list: `a3 = [1, 2, 3, 4, 5, 6, 7, 8, 9, 10]`, what commands should we input to get the following results? (Notice that in some cases there are multiple ways, therefore you are free to pick the one you are most comfortable with. In the below five problems, I list the output results, what code should you type in order to get the required results?\n",
    "\n",
    "1) `3, 5` <br>\n",
    "2) `[5, 6, 7, 8]` <br>\n",
    "3) `[1, 5, 9]` <br>\n",
    "4) `[10, 8, 6]` <br>\n"
   ]
  },
  {
   "cell_type": "code",
   "execution_count": null,
   "id": "66c15e01",
   "metadata": {},
   "outputs": [],
   "source": [
    "# Type your code here. Run it and see if you get the results required\n",
    "\n",
    "# 1. To print `3, 5`\n",
    "\n",
    "\n",
    "# 2. To print `[5, 6, 7, 8]`\n",
    "\n",
    "\n",
    "# 3. To print `[1, 5, 9]`\n",
    "\n",
    "\n",
    "# 4. To print `[10, 8, 6]`\n",
    "\n"
   ]
  },
  {
   "cell_type": "markdown",
   "id": "ec3a1c53",
   "metadata": {},
   "source": [
    "### Common Operations for List\n",
    "\n",
    "Since a list can be very long or can be dynamical, we introduce some common operation that can be very useful:\n",
    "\n",
    "Consider the same list `a2 = [1, 2, 3, 4, 5]`, the following operation means:\n",
    "\n",
    "`len(a2)`: Return the length of the list <br>\n",
    "`a2.append(6)`: Add the element (integer type) 6 at the end of the list. <br>\n",
    "`a2.remove(4)`: Remove the 4th element in the list <br>\n",
    "`a2.insert(3, 10)`: Insert the element (integer type) 10 at the 3rd index of the list.\n",
    "`a2.index(2)`: Return the index (first occurence) of the variable 3 (if exist) <br>\n",
    "`a2.pop()`: Return the last item of the list, and also remove it from the list. In some case we only need to remove the last element, then we do not need to store it to any variable and simple call the command. \n",
    "\n",
    "One notice of the syntax is that the `len` method is inhenrent in Python, while `append`, `index`, `remove` are the methods specific to the list **object**. It means the `len` function can be applied to other types of data. While `append` and others only apply to a list or a list-derived type data. This difference leads to the order in the syntax.  \n",
    "\n",
    "Below we show how it actually works:"
   ]
  },
  {
   "cell_type": "code",
   "execution_count": 30,
   "id": "3c7a4084",
   "metadata": {},
   "outputs": [
    {
     "name": "stdout",
     "output_type": "stream",
     "text": [
      "the original list [1, 2, 3, 4, 5]\n",
      "\n",
      "Output the length of the list\n",
      "`len(a2)` =  5\n",
      "\n",
      "Append an element to the list\n",
      "After `a2.append(6)`:  [1, 2, 3, 4, 5, 6]\n",
      "\n",
      "Remove an element in the list\n",
      "After `a2.remove(4)`:  [1, 2, 3, 5, 6]\n",
      "\n",
      "Insert an element in the list\n",
      "After `a2.insert(3, 10)`:  [1, 2, 3, 10, 5, 6]\n",
      "\n",
      "Query the element index in the list\n",
      "`a2.index(2)`:  1\n",
      "\n",
      "Pop the last element of the list\n",
      "a2.pop() =  6\n",
      "After `a2.insert(3, 10)`:  [1, 2, 3, 10, 5]\n",
      "\n"
     ]
    }
   ],
   "source": [
    "a2 = [1, 2, 3, 4, 5]\n",
    "print('the original list', a2)\n",
    "print('')\n",
    "\n",
    "print('Output the length of the list')\n",
    "print('`len(a2)` = ', len(a2))\n",
    "print('')\n",
    "\n",
    "print('Append an element to the list')\n",
    "a2.append(6)\n",
    "print('After `a2.append(6)`: ', a2)\n",
    "print('')\n",
    "\n",
    "print('Remove an element in the list')\n",
    "a2.remove(4)\n",
    "print('After `a2.remove(4)`: ', a2)\n",
    "print('')\n",
    "\n",
    "print('Insert an element in the list')\n",
    "a2.insert(3, 10)\n",
    "print('After `a2.insert(3, 10)`: ', a2)\n",
    "print('')\n",
    "\n",
    "print('Query the element index in the list')\n",
    "print('`a2.index(2)`: ', a2.index(2))\n",
    "print('')\n",
    "\n",
    "print('Pop the last element of the list')\n",
    "print('a2.pop() = ', a2.pop())\n",
    "print('After `a2.insert(3, 10)`: ', a2)\n",
    "print('')\n",
    "\n"
   ]
  },
  {
   "cell_type": "markdown",
   "id": "88e8b7df",
   "metadata": {},
   "source": [
    "#### Exercise 2\n",
    "\n",
    "In the below exercise, practice the above operations. After each operation, make an informed guess what the list becomes, then compare with the actual output. Do the following steps. And write your prediction in the commented line below:\n",
    "\n",
    "1. Declare the list `a3 = [1, 3, 5, 7, 8]\n",
    "2. Add the element 11 at the last position\n",
    "3. Add the element 12 at the 2nd position\n",
    "4. Remove the element 1 in the list\n",
    "5. Ask Python to return the index of element 7\n",
    "6. Ask Python to return the length of list a3"
   ]
  },
  {
   "cell_type": "code",
   "execution_count": null,
   "id": "65ad646c",
   "metadata": {},
   "outputs": [],
   "source": [
    "# Type your code here\n",
    "\n",
    "# 1. Declare the list `a3 = [1, 3, 5, 7, 8]\n",
    "\n",
    "\n",
    "# 2. Add the element 11 at the last position\n",
    "\n",
    "# Check: Your prediction of a2 after operation is:\n",
    "print('After operation a2 = ', a2)\n",
    "\n",
    "# 3. Add the element 12 at the 2nd position\n",
    "\n",
    "\n",
    "# Check: Your prediction of a2 after operation is:\n",
    "print('After operation a2 = ', a2)\n",
    "\n",
    "# 4. Remove the element 1 in the list\n",
    "\n",
    "\n",
    "# Check: Your prediction of a2 after operation is:\n",
    "print('After operation a2 = ', a2)\n",
    "\n",
    "# 5. Ask Python to return the index of element 7\n",
    "\n",
    "\n",
    "# Check: Your prediction of the value:\n",
    "\n",
    "# 6. Ask Python to return the length of list a3\n",
    "\n",
    "\n",
    "# Check: Your prediction of the value:"
   ]
  },
  {
   "cell_type": "markdown",
   "id": "efcf8001",
   "metadata": {},
   "source": [
    "### Looping of list elements in a function\n",
    "\n",
    "In the last talk we have described how to do an iteration by using the `for` keyword combined with the `range` method. In fact, Python allows you to loop over any list-type object, or objects derived from a list. We can replace the `range` method by our defined `list`, then Python will loop over the elements in the list just like the integer in the `range`. For example:\n"
   ]
  },
  {
   "cell_type": "code",
   "execution_count": 13,
   "id": "8acc54ea",
   "metadata": {},
   "outputs": [
    {
     "name": "stdout",
     "output_type": "stream",
     "text": [
      "1 <class 'int'>\n",
      "3 <class 'int'>\n",
      "5 <class 'int'>\n",
      "6.6 <class 'float'>\n",
      "c <class 'str'>\n"
     ]
    }
   ],
   "source": [
    "y1 = [1, 3, 5, 6.6, 'c']\n",
    "for y in y1:\n",
    "    print(y, type(y))"
   ]
  },
  {
   "cell_type": "markdown",
   "id": "d9b00629",
   "metadata": {},
   "source": [
    "A short reminder that `y` is used as the *dummy* variable in the iteration. In each loop, `y` takes one element in the list, and is used in the operation. It is possible that we can write an operation and we never use the value of the dummy variable -- though it is unusual. \n",
    "\n",
    "In a similar token, we may also loop through the index and call each element one by one. This can be done by combining `len` and `range` together and write\n",
    "\n",
    "`for i in range(len(y1)):\n",
    "    print(y1[i], type(y1[i]))`\n",
    "\n",
    "In this construction, we first ask Python to find the length of the list `y1`, which is 5 in this case. The `range` function generates an iterable which contains `[0,1,2,3,4]`, and it is passed to the dummy variable `i`. In the print method, we ask Python to output the value of the *i*-th element and its type in the list. "
   ]
  },
  {
   "cell_type": "markdown",
   "id": "16e5ed84",
   "metadata": {},
   "source": [
    "### Short Excursion of Enumerate\n",
    "\n",
    "One shortcoming of the looping-by-element is that it does not inform the user which element by index of the element. There are situations where the location of the element is important -- for example if we are comparing adjacent cells in the list. \n",
    "\n",
    "If we need to get the index, we may use the syntax above. However, this is not perfectly Pythonic. Python includes the method `enumerate()` which label elements from an iterable with integer number, 0, 1, 2, and so on. The above code can be recast as\n",
    "\n",
    "`for i, y in enumerate(y1):\n",
    "    print(y, type(y))`\n",
    "    \n",
    "and the code gives identical result as above. The enumerate takes input of an iteratble or a list, and then attach each element with an increasing number, 0, 1, 2, .... In this example, because we do not use the index i explicitly so it looks redundant. But if the operation also involves picking the index of the element and the value, this notation is more concise. "
   ]
  },
  {
   "cell_type": "markdown",
   "id": "109558b7",
   "metadata": {},
   "source": [
    "### List Comprehension \n",
    "\n",
    "One of most fundamental breakthrough in Python is that the list comprehension. It allows you to construct a list based on another list and the rules to modify the list element. \n",
    "\n",
    "For example, if I have `a1 = [1, 2, 3, 4, 5]` and `a2 = [3, 5, 7, 9, 11]`, clearly there is a one-one mapping for each element in the list `a1` to that in `a2`. For simple list, one can construct the list by hand. However, it is unmanageable if there are more than 10 elements. And it is not the spirit of programming to do the repeatable process by hand. In that case, if we notice the pattern in how to generate the other list from the existing list, we use list comprehension. For example, the two code lines produce identical lists. \n",
    "\n",
    "`\n",
    "a1a = [1, 2, 3, 4, 5]\n",
    "a1b = [i for i in range(1,6)]\n",
    "`\n",
    "\n",
    "In the above example, the segment `for i in range(1,6)` is the same structure as the for-loop. It tells Python to produce an iterable, and passes the value in `i`, and it starts from 1 and ends at 5 (be careful!). The value**s** of i are then processed by the identical function $f(x)=x$, so that all values in the iterable are stored in the list. Below we explicitly check it. "
   ]
  },
  {
   "cell_type": "code",
   "execution_count": 14,
   "id": "f8e29333",
   "metadata": {},
   "outputs": [
    {
     "name": "stdout",
     "output_type": "stream",
     "text": [
      "a1a =  [1, 2, 3, 4, 5] a1b =  [1, 2, 3, 4, 5]\n"
     ]
    }
   ],
   "source": [
    "# By brute-force\n",
    "a1a = [1, 2, 3, 4, 5]\n",
    "\n",
    "# By list comprehension\n",
    "a1b = [i for i in range(1,6)]\n",
    "\n",
    "print('a1a = ', a1a, 'a1b = ', a1b)"
   ]
  },
  {
   "cell_type": "code",
   "execution_count": 18,
   "id": "a05eca65",
   "metadata": {},
   "outputs": [
    {
     "name": "stdout",
     "output_type": "stream",
     "text": [
      "a2a =  [3, 5, 7, 9, 11] a2b =  [3, 5, 7, 9, 11]\n"
     ]
    }
   ],
   "source": [
    "# Generate by brute-force\n",
    "a2a = [3, 5, 7, 9, 11]\n",
    "\n",
    "# Generate by list comprehension\n",
    "a2b = [2*i+1 for i in a1a]\n",
    "\n",
    "print('a2a = ', a2a, 'a2b = ', a2b)"
   ]
  },
  {
   "cell_type": "markdown",
   "id": "ea596e8c",
   "metadata": {},
   "source": [
    "Since we notice the mapping pattern is $f(x) = 2x+1$ in order to map `1,2,3,4,5` into `3,5,7,9,11`, in the list `a2b`, we put the mapping function in the bracket, and Python will store the *processed* values from the list `a1a`. We also remind that the `i` is a dummy variable, so we get the same result if we type `a2b = [2*x+1 for x in a1a]`.\n",
    "\n",
    "In some situations the mapping function can be complicated. Then we advise to define an external function, and call the function inside the list comprehension"
   ]
  },
  {
   "cell_type": "code",
   "execution_count": 19,
   "id": "3b6557e8",
   "metadata": {},
   "outputs": [
    {
     "name": "stdout",
     "output_type": "stream",
     "text": [
      "[3, 5, 7, 9, 11]\n"
     ]
    }
   ],
   "source": [
    "def my_func4(x):\n",
    "    return 2*x+1\n",
    "\n",
    "a2c = [my_func4(x) for x in a1a]\n",
    "\n",
    "print(a2c)"
   ]
  },
  {
   "cell_type": "markdown",
   "id": "9b949da4",
   "metadata": {},
   "source": [
    "#### Exercise 3\n",
    "\n",
    "List comprehension is hard to learn at the beginning because its syntax is very complex. One needs to be clear about looping elements in the list, the function, and the iterable in order to deploy this tools. But once they are mastered, the code looks *Pythonic* and compact which facilitates effective reading. Being Pythonic is important because it helps to simplify the code structure and increase the readability of the code. \n",
    "\n",
    "Below write the code segment that fulfills the following tasks.\n",
    "\n",
    "1. Use list comprehension to generate a list from 0 to 99\n",
    "2. Use list comprehension to generate a list $2^n$ for $n = 1, 3, 5, ..., 11$\n",
    "\n",
    "Note: They really can be done in one line of code!"
   ]
  },
  {
   "cell_type": "code",
   "execution_count": null,
   "id": "2406e035",
   "metadata": {},
   "outputs": [],
   "source": [
    "# Write your code here (You can print your result to check)\n",
    "# Task 1:\n",
    "\n",
    "\n",
    "# Task 2:"
   ]
  },
  {
   "cell_type": "markdown",
   "id": "ed1727e9",
   "metadata": {},
   "source": [
    "### Short Excursion on Zip\n",
    "\n",
    "In some cases we need to take inputs from two lists simultaneously. For example, consider `a1 = [0, 1, 2, 3, 4]` and `a2 = [3, 5, 7, 9, 11]`, if we want to construct a new list such that `a3 = a1 + a2` in the list, we need to ask Python to return each element from the list `a1` and `a2` one by one, and then add them and put the results in a new list. Below we use three ways to do the same tasks.\n",
    "\n",
    "1. **By direct construction** <br>\n",
    "`a3 = []\n",
    "for i in range(len(a1)):\n",
    "    x = a1[i] + a2[i]\n",
    "    a3.append(x)\n",
    "`\n",
    "We remind that modification is required when the two lists are of different length. \n",
    "\n",
    "2. **By List comprehension** <br>\n",
    "`a3 = [a1[i] + a2[i] for i in range(len(a1))]`\n",
    "\n",
    "3. **By zip** <br>\n",
    "`a3 = [x, y for x, y in zip(a1, a2)]`\n",
    "The `zip(a,b)` is a new method to be introduced. It gets multiple lists or iterable as inputs, and then in each iteration, it gets one element from each of the inputted lists and passed the element to the dummy variables (x and y in this case). Once any list runs out of element, the iteration is terminated. \n",
    "\n",
    "\n",
    "#### Exercise 4\n",
    "\n",
    "Use the above three methods, to construct first the list <br>\n",
    "`thetas = `(0, $\\pi$/10, 2$\\pi$/10, ... 9$\\pi$/10) (How many elements are there?)\n",
    "\n",
    "Then construct the list `sin_sq_thetas`, which contains the function $\\sin^2 \\theta$ for all elements in thetas. Then also construct the list `cos_sq_thetas`, which contains the function $\\cos^2 \\theta$ for all elements in thetas. Finally make the fourth list `iden_sums` which consists of the sum of elements in pair taken from `sin_sq_thetas` and `cos_sq_thetas`. Try your best to use the `zip` method to speed up the coding.\n",
    "\n",
    "Think: Without doing the calculation explicitly, what will be the values for all elements in the list `iden_sums`?\n",
    "\n",
    "Remark: In Python, we frequently use the plural form for list to indicate it is store multiple values of that object"
   ]
  },
  {
   "cell_type": "code",
   "execution_count": null,
   "id": "62276168",
   "metadata": {},
   "outputs": [],
   "source": [
    "# Type your code here\n",
    "# 1. Build the thetas list\n",
    "\n",
    "\n",
    "# 2. Build the sin_sq_thetas by list_comprehension\n",
    "\n",
    "\n",
    "# 3. Build the cos_sq_thetas by list_comprehension\n",
    "\n",
    "\n",
    "# 4. Build the iden_sums by zip\n",
    "\n",
    "\n"
   ]
  },
  {
   "cell_type": "markdown",
   "id": "03acf224",
   "metadata": {},
   "source": [
    "### Nested List\n",
    "\n",
    "The last important topic about list is the nested list. We shall not introduce nested list in great details because for linear algebra or matrix purpose, such manipulations should rely on the NumPy array. Nested list could be regarded as the prototype if you need to store multiple layers of data. However, important functionality of matrices does not operate in nested-list unlike Numpy array, such as matrix manipulation or linear algebra. \n",
    "\n",
    "As it is important, I repeat three times: <br>\n",
    "*A nested list is not a multi-dimension matrix.* <br>\n",
    "*A nested list is not a multi-dimension matrix.* <br>\n",
    "*A nested list is not a multi-dimension matrix.* <br> \n",
    "\n",
    "Below we show a simple example: <br>\n",
    "`my_nested_list = [1, 2, [3, 4], 5]`\n",
    "\n",
    "In this example, the 3rd element is not a number, but a list. Because it is a list, it can append, pop, index and so on. \n",
    "\n",
    "To call the element inside the list-list, we use multiple square brackets. For example: "
   ]
  },
  {
   "cell_type": "code",
   "execution_count": 32,
   "id": "db1da8ff",
   "metadata": {},
   "outputs": [
    {
     "name": "stdout",
     "output_type": "stream",
     "text": [
      "my_nested_list[2][1] =  4\n",
      "len(my_nested_list) =  4\n",
      "\n",
      "[1, 2, [3, 4, 6], 5]\n",
      "len(my_nested_list) =  4\n"
     ]
    }
   ],
   "source": [
    "my_nested_list = [1, 2, [3, 4], 5]\n",
    "print('my_nested_list[2][1] = ', my_nested_list[2][1])\n",
    "print('len(my_nested_list) = ', len(my_nested_list))\n",
    "print('')\n",
    "\n",
    "my_nested_list[2].append(6)\n",
    "print(my_nested_list)\n",
    "print('len(my_nested_list) = ', len(my_nested_list))"
   ]
  },
  {
   "cell_type": "markdown",
   "id": "195930b2",
   "metadata": {},
   "source": [
    "You might wonder why there are only 4 elements after we append '6' into the list. It is because the list-list is an element to the original list. How many elements are stored in the list-list is irrelevant. Python only counts the entire list-list as one object. Therefore Python returns 4 to your `len` query. "
   ]
  },
  {
   "cell_type": "markdown",
   "id": "b911fd28",
   "metadata": {},
   "source": [
    "#### Exercise 5\n",
    "\n",
    "Construct a 6x6 multiplication table using nested list. In the cell at the $i$-th row and $j$-th column, it represents the product $(i+1) \\times (j+1)$. Then use a nested loop to print \n",
    "\n",
    "The output will look like <br>\n",
    "```\n",
    "1  2  3  4  5  6\n",
    "2  4  6  8 10 12\n",
    "3  6  9 12 15 18\n",
    "4  8 12 16 20 24\n",
    "5 10 15 20 25 30\n",
    "6 12 18 24 30 36\n",
    "```"
   ]
  },
  {
   "cell_type": "code",
   "execution_count": null,
   "id": "4779d9f3",
   "metadata": {},
   "outputs": [],
   "source": [
    "# Type your code here \n",
    "\n"
   ]
  },
  {
   "cell_type": "markdown",
   "id": "1409b961",
   "metadata": {},
   "source": [
    "[top](#Table-of-Content)\n",
    "\n",
    "## Part 2: Dictionary\n",
    "\n",
    "Also refer to documenation: [https://docs.python.org/3/tutorial/datastructures.html#dictionaries]\n",
    "\n",
    "A dictionary is not really a book for the word meaning. In Python, it refers to a data type which consists of *keys* and *values*. It is similar to a list that each element contains an index for identification. Recall that in a list, the element is labeled by 0, 1, 2 and we can use the index the retrieve individual elements. In a dictionary, each element (can be any data type including list) contains a key. The key needs not to be an integer. A string can also be the key just like a physical dictionary. This allows contextually more flexibility to label the stored items with meaningful labels. However, because of that, there is no sequential relation among keys. \n",
    "\n",
    "To declare an empty dictionary, we use a curly bracket: <br>\n",
    "`my_dict = {}`"
   ]
  },
  {
   "cell_type": "code",
   "execution_count": 9,
   "id": "1057b81c",
   "metadata": {},
   "outputs": [
    {
     "data": {
      "text/plain": [
       "dict"
      ]
     },
     "execution_count": 9,
     "metadata": {},
     "output_type": "execute_result"
    }
   ],
   "source": [
    "my_dict = {}\n",
    "type(my_dict)"
   ]
  },
  {
   "cell_type": "markdown",
   "id": "5a81647e",
   "metadata": {},
   "source": [
    "We can also declare a dictionary with prefilled items. For example <br>\n",
    "`my_dict = {'a' : apple}` <br>\n",
    "We remind that in a dictionary, the key-value pair uses colon to separate. \n",
    "\n",
    "To insert an item in the dictionary, for example the number 35 with the key 'age', we type: <br>\n",
    "`my_dict['age'] = 35`\n",
    "\n",
    "We use the square bracket to define the key, and on the other side we put the item we want to store. Similar to a list, there is no restriction on the datatype to be stored. However, there is restriction on the choice of key, it can be a number, a string or a tuple (We will not include tuple in this tutorial due to its limited applications, but it acts as a unchangeable list.). \n",
    "\n",
    "When we type the command `my_dict['age'] = 35`, Python first check if the dictionary has such a key `age`, if so, then Python replace the original content with the new data (35 in this case). If not, Python creates a new key for this dictionary, and store it. "
   ]
  },
  {
   "cell_type": "code",
   "execution_count": 2,
   "id": "a5def7f3",
   "metadata": {},
   "outputs": [
    {
     "name": "stdout",
     "output_type": "stream",
     "text": [
      "35\n"
     ]
    }
   ],
   "source": [
    "my_dict['age'] = 35\n",
    "print(my_dict['age'])"
   ]
  },
  {
   "cell_type": "markdown",
   "id": "c1707765",
   "metadata": {},
   "source": [
    "We may also stored value by using the `pop` method. The syntax is <br>\n",
    "`my_dict.pop(key, None)`\n",
    "\n",
    "The second parameter is a buffer in case there is no such key. By typing `None`, this means if Python cannot find the required key, Python will not do anything. We may only put in the key in the `pop` command, however, if the search of the key failed, Python will raise a key error. We show both cases below.  "
   ]
  },
  {
   "cell_type": "code",
   "execution_count": 3,
   "id": "f04ef43c",
   "metadata": {},
   "outputs": [
    {
     "data": {
      "text/plain": [
       "{}"
      ]
     },
     "execution_count": 3,
     "metadata": {},
     "output_type": "execute_result"
    }
   ],
   "source": [
    "my_dict.pop(\"age\", None)\n",
    "my_dict"
   ]
  },
  {
   "cell_type": "code",
   "execution_count": 4,
   "id": "3fe6d2f4",
   "metadata": {},
   "outputs": [
    {
     "ename": "KeyError",
     "evalue": "'age'",
     "output_type": "error",
     "traceback": [
      "\u001b[1;31m---------------------------------------------------------------------------\u001b[0m",
      "\u001b[1;31mKeyError\u001b[0m                                  Traceback (most recent call last)",
      "\u001b[1;32m<ipython-input-4-4bffa48af623>\u001b[0m in \u001b[0;36m<module>\u001b[1;34m\u001b[0m\n\u001b[1;32m----> 1\u001b[1;33m \u001b[0mmy_dict\u001b[0m\u001b[1;33m.\u001b[0m\u001b[0mpop\u001b[0m\u001b[1;33m(\u001b[0m\u001b[1;34m\"age\"\u001b[0m\u001b[1;33m)\u001b[0m\u001b[1;33m\u001b[0m\u001b[1;33m\u001b[0m\u001b[0m\n\u001b[0m",
      "\u001b[1;31mKeyError\u001b[0m: 'age'"
     ]
    }
   ],
   "source": [
    "my_dict.pop(\"age\")"
   ]
  },
  {
   "cell_type": "markdown",
   "id": "bf4d2971",
   "metadata": {},
   "source": [
    "While dictionary has limited usages in the numerical differential equations or physics, it will show its importance when it comes to storing a lot of data from different sources. For example, we can imagine a contact book where we store the name of a person as the key, and the phone number as the value. Consider another example: we want to store the summary data (e.g., number of files or their size) from each directory in a folder. Then the key can be the name of the folder, and the value is the data we want to store. By using the key, we can recall efficiently and extract its meaning. \n",
    "\n",
    "A few common commands are frequently used to manipulate data in the dictionary. They include\n",
    "\n",
    "1. `len(my_dict)`: The same for list that it outputs the number of key-value pairs in the dictionary\n",
    "2. `my_dict.keys()`: Output all keys in the dictionary. It also acts as an iterable in the for-loop and release the key one by one.\n",
    "3. `my_dict.values()`: Similar to `keys`, but for the values stored in the dictionary. Also an iterable for the for-loop.\n",
    "4. `my_dict.items()`: Similar to `keys`, but for the key-value pairs stored in the dictionary. Also an iterable for the for-loop.\n",
    "\n",
    "Below we refresh the dictionary and insert 5 distinctive keys and then demonstrate how these methods can be used. "
   ]
  },
  {
   "cell_type": "code",
   "execution_count": 11,
   "id": "edcff695",
   "metadata": {},
   "outputs": [],
   "source": [
    "my_dict = {}\n",
    "my_dict['a'] = 'apple'\n",
    "my_dict['false'] = False\n",
    "my_dict['pi'] = 3.14\n",
    "my_dict['d'] = 3\n",
    "my_dict['none'] = None"
   ]
  },
  {
   "cell_type": "code",
   "execution_count": 17,
   "id": "c134d6aa",
   "metadata": {},
   "outputs": [
    {
     "name": "stdout",
     "output_type": "stream",
     "text": [
      "len(my_dict)\n",
      "5\n",
      "\n",
      "my_dict.keys():\n",
      "dict_keys(['a', 'false', 'pi', 'd', 'none'])\n",
      "\n",
      "my_dict.values():\n",
      "dict_values(['apple', False, 3.14, 3, None])\n",
      "\n",
      "my_dict.items():\n",
      "dict_items([('a', 'apple'), ('false', False), ('pi', 3.14), ('d', 3), ('none', None)])\n",
      "\n"
     ]
    }
   ],
   "source": [
    "### Dictionary of List and Dictionary\n",
    "\n",
    "print('len(my_dict)')\n",
    "print(len(my_dict))\n",
    "print('')\n",
    "\n",
    "print('my_dict.keys():')\n",
    "print(my_dict.keys())\n",
    "print('')\n",
    "\n",
    "print('my_dict.values():')\n",
    "print(my_dict.values())\n",
    "print('')\n",
    "\n",
    "print('my_dict.items():')\n",
    "print(my_dict.items())\n",
    "print('')\n"
   ]
  },
  {
   "cell_type": "markdown",
   "id": "2f10032a",
   "metadata": {},
   "source": [
    "We may also query if the key is stored in the dictionary using `in`, such as\n",
    "\n",
    "`\n",
    "if 'a' in my_dict:\n",
    "    xxx\n",
    "` "
   ]
  },
  {
   "cell_type": "code",
   "execution_count": 22,
   "id": "362695cf",
   "metadata": {},
   "outputs": [
    {
     "name": "stdout",
     "output_type": "stream",
     "text": [
      "There is the key \"a\" in my_dict\n"
     ]
    }
   ],
   "source": [
    "if 'a' in my_dict:\n",
    "    print('There is the key \"a\" in my_dict')"
   ]
  },
  {
   "cell_type": "markdown",
   "id": "bd4f133e",
   "metadata": {},
   "source": [
    "Another point worth discussing before concluding this section is the use of method `items()` in the dictionary, because this method returns a tuple containing the (key, value) pair, in order to extract the two values, we need to set up two dummy variables to store the pair."
   ]
  },
  {
   "cell_type": "code",
   "execution_count": 27,
   "id": "6ff5ab98",
   "metadata": {},
   "outputs": [
    {
     "name": "stdout",
     "output_type": "stream",
     "text": [
      "key = a        value = apple\n",
      "key = false    value = False\n",
      "key = pi       value = 3.14\n",
      "key = d        value = 3\n",
      "key = none     value = None\n"
     ]
    }
   ],
   "source": [
    "for k, v in my_dict.items():\n",
    "    print('key = {:8s} value = {}'.format(k, v))"
   ]
  },
  {
   "cell_type": "markdown",
   "id": "a31c4470",
   "metadata": {},
   "source": [
    "### List and Dictionary in Dictionary\n",
    "\n",
    "In many cases we want to store not only a single number or string as the value in the dictionary, but also another dictionary or string. Imagine the contact book, for each person, there can be more than one related information, such as the age, the address, the occupation. As mentioned above, there is no restriction in the datatype stored in the dictionary value. We can construct some nested-dictionary so that we can store and manage systematically data of complex structure. Below we show an example of the phone book."
   ]
  },
  {
   "cell_type": "code",
   "execution_count": 28,
   "id": "a26975ee",
   "metadata": {},
   "outputs": [],
   "source": [
    "my_phonebook = {}\n",
    "\n",
    "my_phonebook[\"Ann\"] = {'age': 20, \"occupation\": \"student\", \"address\": \"US\"}\n",
    "my_phonebook[\"Doug\"] = {'age': 30, \"occupation\": \"teacher\", \"address\": \"UK\"}"
   ]
  },
  {
   "cell_type": "code",
   "execution_count": 29,
   "id": "6a9a43fa",
   "metadata": {},
   "outputs": [
    {
     "name": "stdout",
     "output_type": "stream",
     "text": [
      "US\n"
     ]
    }
   ],
   "source": [
    "print(my_phonebook[\"Ann\"][\"address\"])"
   ]
  },
  {
   "cell_type": "markdown",
   "id": "540dae9f",
   "metadata": {},
   "source": [
    "To access a nested dictionary, we use multiple square brackets to go from one layer to another layer. In the above example, the first bracket asks Python to get the value of the key \"Ann\", which is the dictionary: <br>\n",
    "`{'age': 20, \"occupation\": \"student\", \"address\": \"US\"}`\n",
    "\n",
    "Then we ask Python to get the value from the key \"address\" from the fetched dictionary. And it results in the string \"US\"."
   ]
  },
  {
   "cell_type": "markdown",
   "id": "ad8eebfa",
   "metadata": {},
   "source": [
    "#### Exercise 6\n",
    "*(Slightly challenging, but not very)*\n",
    "\n",
    "Below there is a dictionary containing the students' name and their final grade. (Names and graded are randomly assigned to avoid guessing or brute-force the answer) <br>\n",
    "`student_grade = {'Ann': B, 'Ben': C, 'Chris': A, 'Doug': C, 'Eden': B, 'Fred': A, 'Gill': A, 'Harrison': C}`\n",
    "\n",
    "Assume you are working as a teaching assistant and the teacher wants you to help out and find for each grade, who the students are, and how many are there. You figure out the following algorithm. \n",
    "\n",
    "1. Copy the above dictionary to the box below\n",
    "2. Set up a new dictionary called `grade_stat`\n",
    "3. Loop over the key-value pair, and swap the key and value. (Think: Is the value now single valued or does it contain multiple values?)\n",
    "4. Then output the students according to their grades. For example: `A: ['Ann', 'Chris'], ...`\n",
    "5. Then output the number of students in each grade. For example: `A: 2, B: 3, C: 1`\n",
    "\n",
    "Complete the above task. "
   ]
  },
  {
   "cell_type": "code",
   "execution_count": null,
   "id": "5ba6ce30",
   "metadata": {},
   "outputs": [],
   "source": [
    "# Type your code here\n",
    "# Task 1: Copy the above dictionary to the box below\n",
    "\n",
    "\n",
    "# Task 2: Set up a new dictionary called grade_stat\n",
    "\n",
    "\n",
    "# Task 3: Loop over the key-value pair, and swap the key and value. \n",
    "\n",
    "\n",
    "# Task 4: Then output the students according to their grades\n",
    "\n",
    "\n",
    "# Task 5: Then output the number of students in each grade\n",
    "\n",
    "\n"
   ]
  },
  {
   "cell_type": "markdown",
   "id": "1cf422b5",
   "metadata": {},
   "source": [
    "[top](#Table-of-Content)\n",
    "\n",
    "## Part 3: NumPy\n",
    "\n",
    "Always refer to documentation page when you find questions: <br>\n",
    "[https://numpy.org/doc/stable/index.html]\n",
    "\n",
    "Now we have completed the introduction to the elementary applications of Python. It is now a good time to proceed to learn the tools relevant to the numerical differentiation equation and linear algebra. And we will use one of the cornerstone `numpy`. This package is so fundamental that it is by default installed with your native Python. Most advanced packages you can find nowaday are built on `numpy`, or package that derived from `numpy`. \n",
    "\n",
    "NumPy is the short form for Numerical Python. If you have experiences in Fortran, you might have heard about BLAS (Basic Linear Algebra Subprograms) and LAPACK (\"Linear Algebra Package\"), they are the linear algebra packages which are designed to compute matrix-like operation with optimized procedures. As we mentioned, we do not want to reinvent the wheel unless it is educational. Learning how to use NumPy will provide us a lot of essential tools for the routine operation we frequently encounter when solving differential equations or linear algebra problems.\n",
    "\n",
    "In order to use the methods in this package, we need to import the library:"
   ]
  },
  {
   "cell_type": "code",
   "execution_count": 2,
   "id": "ec807aa4",
   "metadata": {},
   "outputs": [],
   "source": [
    "import numpy as np"
   ]
  },
  {
   "cell_type": "markdown",
   "id": "b39440bd",
   "metadata": {},
   "source": [
    "### Construction and Manipulation\n",
    "\n",
    "We may construct a matrix, in general, two ways:\n",
    "\n",
    "1. To use list to construct the corresponding shape, and then use `np.array(list)` to convert the list into a numpy array (matrix)\n",
    "2. To use the default methods to construct a matrix full of zero (`np.zeros((size))`) or ones (`np.ones((size))`)\n",
    "\n",
    "Once the array is construct, we can use the `shape` attribute to see if the matrix has the size we desire. \n",
    "\n",
    "Below we demonstrate and construct a (3x5) matrix, filled with zeros, and then check its shape. We emphasize that when using `np.zeros` or `np.ones`, the parameter is a tuple, thus the double brackets that you will see are not redundant, but they mean that we are passing a tuple as the input parameter for the size of the matrics. "
   ]
  },
  {
   "cell_type": "code",
   "execution_count": 7,
   "id": "43da262b",
   "metadata": {},
   "outputs": [
    {
     "name": "stdout",
     "output_type": "stream",
     "text": [
      "[[0 0 0 0 0]\n",
      " [0 0 0 0 0]\n",
      " [0 0 0 0 0]]\n",
      "(3, 5)\n"
     ]
    }
   ],
   "source": [
    "# method 1\n",
    "\n",
    "my_array1 = np.array([[0 for i in range(5)] for j in range(3)])\n",
    "print(my_array1)\n",
    "print(my_array1.shape)"
   ]
  },
  {
   "cell_type": "code",
   "execution_count": 4,
   "id": "c2409b02",
   "metadata": {},
   "outputs": [
    {
     "name": "stdout",
     "output_type": "stream",
     "text": [
      "[[0. 0. 0. 0. 0.]\n",
      " [0. 0. 0. 0. 0.]\n",
      " [0. 0. 0. 0. 0.]]\n",
      "(3, 5)\n"
     ]
    }
   ],
   "source": [
    "# method 2\n",
    "\n",
    "my_array2 = np.zeros((3, 5))\n",
    "print(my_array2)\n",
    "print(my_array2.shape)"
   ]
  },
  {
   "cell_type": "markdown",
   "id": "8bd41821",
   "metadata": {},
   "source": [
    "A careful inspection shows that the second matrix assumes the variables are floating pointing variables, while the first one assumes integers. \n",
    "\n",
    "We may perform transpose by the `T` attribute. Similarly, we can use the `np.transpose(array)` to do a similar operation."
   ]
  },
  {
   "cell_type": "code",
   "execution_count": 37,
   "id": "8e2c3d82",
   "metadata": {},
   "outputs": [
    {
     "name": "stdout",
     "output_type": "stream",
     "text": [
      "transposed my_array1 = \n",
      " [[0 0 0]\n",
      " [0 0 0]\n",
      " [0 0 0]\n",
      " [0 0 0]\n",
      " [0 0 0]]\n",
      "shape using .T =  (5, 3)\n",
      "shape using np.transpose=  (5, 3)\n"
     ]
    }
   ],
   "source": [
    "my_array1_tran1 = my_array1.T\n",
    "print('transposed my_array1 = \\n', my_array1_tran1)\n",
    "print('shape using .T = ', my_array1_tran1.shape)\n",
    "\n",
    "my_array1_tran2 = np.transpose(my_array1)\n",
    "print('shape using np.transpose= ', my_array1_tran2.shape)"
   ]
  },
  {
   "cell_type": "markdown",
   "id": "b79a3ae1",
   "metadata": {},
   "source": [
    "The numpy has the same arithmatics as the matrix manipulation. One can do element-wise addition and subtraction to create a new matrix. However, direct multiplication in numpy array assumes element-wise multiplication. This means, in the new matrix, each element corresponds to the product of the elements in both matrices at the same location. \n",
    "\n",
    "To demonstrate these, we construct two small (2x2) matricies and perform arithmatics. "
   ]
  },
  {
   "cell_type": "code",
   "execution_count": 12,
   "id": "d356008d",
   "metadata": {},
   "outputs": [
    {
     "name": "stdout",
     "output_type": "stream",
     "text": [
      "my_rand_int_array1\n",
      "[[1 3]\n",
      " [0 1]] \n",
      "\n",
      "my_rand_int_array2\n",
      "[[2 3]\n",
      " [1 2]] \n",
      "\n"
     ]
    }
   ],
   "source": [
    "my_rand_int_array1 = np.random.randint(0, 5, (2,2))\n",
    "my_rand_int_array2 = np.random.randint(0, 5, (2,2))\n",
    "\n",
    "print('my_rand_int_array1')\n",
    "print(my_rand_int_array1, '\\n')\n",
    "\n",
    "print('my_rand_int_array2')\n",
    "print(my_rand_int_array2, '\\n')"
   ]
  },
  {
   "cell_type": "code",
   "execution_count": 15,
   "id": "ac5937d7",
   "metadata": {},
   "outputs": [
    {
     "name": "stdout",
     "output_type": "stream",
     "text": [
      "addition (also works for subtraction)\n",
      "[[2 6]\n",
      " [0 2]] \n",
      "\n",
      "multiply by a constant\n",
      "[[3 9]\n",
      " [0 3]] \n",
      "\n",
      "direct multiplication of two matrices (element-wise)\n",
      "[[2 9]\n",
      " [0 2]] \n",
      "\n"
     ]
    }
   ],
   "source": [
    "print('addition (also works for subtraction)')\n",
    "print(my_rand_int_array1 + my_rand_int_array1, '\\n')\n",
    "\n",
    "print('multiply by a constant')\n",
    "print(3 * my_rand_int_array1, '\\n')\n",
    "\n",
    "print('direct multiplication of two matrices (element-wise)')\n",
    "print(my_rand_int_array1 * my_rand_int_array2, '\\n')\n"
   ]
  },
  {
   "cell_type": "markdown",
   "id": "5cc2636b",
   "metadata": {},
   "source": [
    "Different from a list, we only use **one** square bracket to locate the element in the matrix. Again, we remind that the row and column counts starts from **zero**. Thus, in a nxm matrix, the last row is $n-1$ while the last column is $m-1$. "
   ]
  },
  {
   "cell_type": "code",
   "execution_count": 14,
   "id": "34a0b144",
   "metadata": {},
   "outputs": [
    {
     "data": {
      "text/plain": [
       "3"
      ]
     },
     "execution_count": 14,
     "metadata": {},
     "output_type": "execute_result"
    }
   ],
   "source": [
    "my_rand_int_array1[0,1]"
   ]
  },
  {
   "cell_type": "markdown",
   "id": "c30dc5c3",
   "metadata": {},
   "source": [
    "The slicing of the matrix can be done similar to a list. Below we show how we slice a random integer 3x3 matrix. But pay attention that the array after slicing could change from a column matrix to a row matrix. "
   ]
  },
  {
   "cell_type": "code",
   "execution_count": 21,
   "id": "a15306ba",
   "metadata": {},
   "outputs": [
    {
     "name": "stdout",
     "output_type": "stream",
     "text": [
      "Created matrix: \n",
      "[[3 1 1]\n",
      " [4 3 4]\n",
      " [5 3 1]] \n",
      "\n",
      "Slice a row, my_rand_int_array3[1,:]\n",
      "[4 3 4]\n",
      "shape =  (3,) \n",
      "\n",
      "Slice a column, my_rand_int_array3[:,2]\n",
      "[1 4 1]\n",
      "shape =  (3,) \n",
      "\n",
      "Slice a segment, my_rand_int_array3[1:,1:]\n",
      "[[3 4]\n",
      " [3 1]]\n",
      "shape =  (2, 2) \n",
      "\n"
     ]
    }
   ],
   "source": [
    "my_rand_int_array3 = np.random.randint(1, 9, (3,3))\n",
    "\n",
    "print('Created matrix: ')\n",
    "print(my_rand_int_array3, '\\n')\n",
    "\n",
    "print('Slice a row, my_rand_int_array3[1,:]')\n",
    "print(my_rand_int_array3[1,:])\n",
    "print('shape = ', my_rand_int_array3[1,:].shape, '\\n')\n",
    "\n",
    "print('Slice a column, my_rand_int_array3[:,2]')\n",
    "print(my_rand_int_array3[:,2])\n",
    "print('shape = ', my_rand_int_array3[:,2].shape, '\\n')\n",
    "\n",
    "print('Slice a segment, my_rand_int_array3[1:,1:]')\n",
    "print(my_rand_int_array3[1:,1:])\n",
    "print('shape = ', my_rand_int_array3[1:,1:].shape, '\\n')\n"
   ]
  },
  {
   "cell_type": "markdown",
   "id": "b1f33c71",
   "metadata": {},
   "source": [
    "It is obvious that one can even slice the rows and columns in fixed interval as we have discussed in the `range()` function. \n",
    "\n",
    "#### Exercise 7\n",
    "\n",
    "Construct the 7x7 multiplication table mul_table in np.array which starts from 1x1 all the way to 7x7. Then do the slicing and get all the odd number entries (for both rows and columns)."
   ]
  },
  {
   "cell_type": "code",
   "execution_count": null,
   "id": "baca6b60",
   "metadata": {},
   "outputs": [],
   "source": [
    "# Type your code here\n",
    "# 1. Build the multiplication table (Use list comprehension!)\n"
   ]
  },
  {
   "cell_type": "code",
   "execution_count": null,
   "id": "ab7bbd40",
   "metadata": {},
   "outputs": [],
   "source": [
    "# Type your code here\n",
    "# 2. slice the matrix and print it out\n"
   ]
  },
  {
   "cell_type": "markdown",
   "id": "f6f4fa58",
   "metadata": {},
   "source": [
    "### Matrix Multiplication\n",
    "\n",
    "In order to ask NumPy to perform the real matrix multiplication, we need to use the method `np.matmul(A, B)` to multiply the two matricies `A` and `B`. We can also use this method to perform inner and outer product as we have learnt in elementary linear algebra. \n",
    "\n",
    "We also emphasize that in NumPy, if we convert a one-dimensional list into an array, it does not exactly refer to a real column or row matrix, altogether from practical approach they share the same behaviour. To be mathematically precise, we suggested to construct explicit a row matrix and a column matrix as below. When in doubt, it is better to construct a 'real' matrix by using `np.zeros((rows, cols))` or `np.ones((rows, cols))`.\n",
    "\n",
    "Further reading: Also learn about the another common method for inner product [https://numpy.org/doc/stable/reference/generated/numpy.inner.html] and outer product\n",
    "[https://numpy.org/doc/stable/reference/generated/numpy.outer.html]. "
   ]
  },
  {
   "cell_type": "code",
   "execution_count": 23,
   "id": "b7183858",
   "metadata": {},
   "outputs": [
    {
     "name": "stdout",
     "output_type": "stream",
     "text": [
      "matA x matB = \n",
      " [[  5  -6]\n",
      " [  9 -10]]\n"
     ]
    }
   ],
   "source": [
    "matA = np.array([[1,2],[3,4]])\n",
    "matB = np.array([[-1,2],[3,-4]])\n",
    "\n",
    "print('matA x matB = \\n', np.matmul(matA, matB))"
   ]
  },
  {
   "cell_type": "code",
   "execution_count": 31,
   "id": "06da0a2f",
   "metadata": {},
   "outputs": [
    {
     "name": "stdout",
     "output_type": "stream",
     "text": [
      "notrowmatA.shape = \n",
      " (3,)\n",
      "notcolmatB.shape = \n",
      " (3,)\n"
     ]
    }
   ],
   "source": [
    "# one-dimensional array does not have the transpose option as real matrix. \n",
    "\n",
    "notrowmatA = np.array([1,2,3])\n",
    "notcolmatB = notrowmatA.T\n",
    "\n",
    "print('notrowmatA.shape = \\n', notrowmatA.shape)\n",
    "print('notcolmatB.shape = \\n', notcolmatB.shape)"
   ]
  },
  {
   "cell_type": "code",
   "execution_count": 33,
   "id": "c735a3a9",
   "metadata": {},
   "outputs": [
    {
     "name": "stdout",
     "output_type": "stream",
     "text": [
      "rowmatA.shape = \n",
      " (1, 3)\n",
      "rowmatA.T.shape = \n",
      " (3, 1)\n",
      "colmatB.shape = \n",
      " (3, 1)\n",
      "colmatB.T.shape = \n",
      " (1, 3)\n"
     ]
    }
   ],
   "source": [
    "# A robust way to construct a real matrix (other than zeros and ones)\n",
    "rowmatA = np.array([[1,2,3]])\n",
    "colmatB = np.array([[2],[5],[8]])\n",
    "\n",
    "print('rowmatA.shape = \\n', rowmatA.shape)\n",
    "print('rowmatA.T.shape = \\n', rowmatA.T.shape)\n",
    "print('colmatB.shape = \\n', colmatB.shape)\n",
    "print('colmatB.T.shape = \\n', colmatB.T.shape)"
   ]
  },
  {
   "cell_type": "code",
   "execution_count": 39,
   "id": "05639a45",
   "metadata": {},
   "outputs": [
    {
     "name": "stdout",
     "output_type": "stream",
     "text": [
      "inner product\n",
      "rowmatA x colmatB = \n",
      " [[36]]\n",
      "\n",
      "outer product\n",
      "colmatB x rowmatA = \n",
      " [[ 2  4  6]\n",
      " [ 5 10 15]\n",
      " [ 8 16 24]]\n",
      "\n"
     ]
    }
   ],
   "source": [
    "# We may use matmul to perform inner and outer product easily.\n",
    "\n",
    "print('inner product')\n",
    "print('rowmatA x colmatB = \\n', np.matmul(rowmatA, colmatB))\n",
    "print('')\n",
    "\n",
    "print('outer product')\n",
    "print('colmatB x rowmatA = \\n', np.matmul(colmatB, rowmatA))\n",
    "print('')\n"
   ]
  },
  {
   "cell_type": "markdown",
   "id": "47216a69",
   "metadata": {},
   "source": [
    "While it is not common, we may also `reshape` our matrix to the shape we need to another dimension, while preseving the number of elements. We may also use `flatten` to compress a 2D matrix into a 1D matrix. These operations are very useful when it comes to image processing. \n",
    "The syntax is as follows:\n",
    "\n",
    "1. `np.reshape(array, newshape)`\n",
    "2. `np.flatten(array)`"
   ]
  },
  {
   "cell_type": "code",
   "execution_count": 42,
   "id": "584fa5ba",
   "metadata": {},
   "outputs": [
    {
     "name": "stdout",
     "output_type": "stream",
     "text": [
      "[[5 7 5 3]\n",
      " [6 8 3 2]\n",
      " [2 4 3 5]]\n"
     ]
    }
   ],
   "source": [
    "my_rand_int_array3 = np.random.randint(1,9,(3,4))\n",
    "print(my_rand_int_array3)"
   ]
  },
  {
   "cell_type": "code",
   "execution_count": 43,
   "id": "ccdf2aaa",
   "metadata": {},
   "outputs": [
    {
     "name": "stdout",
     "output_type": "stream",
     "text": [
      "[[5 7 5 3 6 8]\n",
      " [3 2 2 4 3 5]]\n"
     ]
    }
   ],
   "source": [
    "# demonstration of the reshape method\n",
    "# notice that it rolls through elements in each row in sequential order\n",
    "# when generating the new matrix\n",
    "\n",
    "print(np.reshape(my_rand_int_array3,(2,6)))"
   ]
  },
  {
   "cell_type": "code",
   "execution_count": 46,
   "id": "6598edf3",
   "metadata": {},
   "outputs": [
    {
     "name": "stdout",
     "output_type": "stream",
     "text": [
      "<built-in method flatten of numpy.ndarray object at 0x00000203536F30F0>\n"
     ]
    }
   ],
   "source": [
    "# demonstration of the flattene method\n",
    "# notice that it rolls through elements in each row in sequential order\n",
    "# when generating the new matrix\n",
    "\n",
    "print(my_rand_int_array3.flatten)"
   ]
  },
  {
   "cell_type": "markdown",
   "id": "7af48251",
   "metadata": {},
   "source": [
    "### Importance of API Documentation\n",
    "\n",
    "Because NumPy is a very general array-operation library, it is impossible, nor is it practical, to introduce all the methods contained in the library. We only aim at giving you the first tool, so that you will feel comfortable in the overall syntax, and then make your own search according to your need. We can expect that different programmers may have different needs for the use of Python to solve problems. Therefore, it is more important to be able to search for the necessary tools in order to handle the challenge. \n",
    "\n",
    "#### Exercise 8\n",
    "\n",
    "Visit the webpage [https://numpy.org/doc/stable/reference/index.html] and find the page about `numpy.linalg.eigvals`. Then learn how to use this method to find the eigenvalue of the following matrix:\n",
    "\n",
    "```\n",
    "A = [[1, 2],\n",
    "     [3, 5]]\n",
    "```\n",
    "\n",
    "If you do it correctly, you should get the output `array([-0.16227766,  6.16227766])`"
   ]
  },
  {
   "cell_type": "code",
   "execution_count": 48,
   "id": "570c3830",
   "metadata": {},
   "outputs": [
    {
     "data": {
      "text/plain": [
       "array([-0.16227766,  6.16227766])"
      ]
     },
     "execution_count": 48,
     "metadata": {},
     "output_type": "execute_result"
    }
   ],
   "source": [
    "# Type your code here\n",
    "\n"
   ]
  },
  {
   "cell_type": "markdown",
   "id": "0294c670",
   "metadata": {},
   "source": [
    "#### Exercise 9\n",
    "\n",
    "Create the matrices as shown below and compute the following matrix operations. Make sure you also try to check your results by doing the calculation explicitly. We deliberately choose a small matrix so that you can readily verify if you are using the method correctly. In the real applications, we frequently encounter matrices greater than 100x100, or the operation is complex so that it becomes physically impossible to trace the operation. Because of that, we strongly encourage you to be familiar with the matrix operation and the associated methods (of course we do not need to memorize all the methods developed in NumPy because there are way more that we have almost no chance to use in scientific computation. The methods introduced here are the most common and most important ones to be learnt in first experience. \n",
    "\n",
    "1. Construct the two matrices A and B <br>\n",
    "```\n",
    "A = [[1, 3, 5]\n",
    "     [2, 4, 6]]\n",
    "```\n",
    "```\n",
    "B = [[-1, 3]\n",
    "     [-2, 4]\n",
    "     [-3, 5]]\n",
    "```\n",
    "\n",
    "2. Compute $2A + B^T$\n",
    "\n",
    "3. Then find the inner product and outer product (think: what will be the resultant size of the matrices?)\n"
   ]
  },
  {
   "cell_type": "code",
   "execution_count": null,
   "id": "4f386914",
   "metadata": {},
   "outputs": [],
   "source": [
    "# Write your code here\n",
    "# Task 1\n",
    "\n",
    "\n",
    "# Task 2\n",
    "\n",
    "\n",
    "# Task 3\n",
    "\n"
   ]
  },
  {
   "cell_type": "markdown",
   "id": "a4d7cb59",
   "metadata": {},
   "source": [
    "#### Exercise 10\n",
    "\n",
    "The above exercise is deliberately very trivial because we are simply making good use of the preset methods. In most case we need to develop our own (simple) method in order to compute the quantity we need for our projects. This time let us do a slightly extended exercise on Gaussian eliminiation. \n",
    "\n",
    "Given the systems of equations:\n",
    "$x + 2y + z = 1$, $3x + 4y - 2z = -3$, $-x + y + 3z = 7$. And we want to solve for the roots for $x, y, z$. \n",
    "\n",
    "We can arrange the set of equation into a 3x4 matrix, with the last column corresponding to the values on the right hand side, and the first three columns (a square matrix) correspond to the coefficient of $x, y, z$ on the left hand side. \n",
    "\n",
    "Gaussian elimination (recall your elementary linear algebra) says that you can solve systematically for the roots of $x, y, z$ by doing row-operation from top to bottom to make your square matrix into a upper-triagonal matrix. Then we do row-operation from bottom to top to make the matrix a diagonal matrix. For example we define the matrix C as \n",
    "\n",
    "```\n",
    "C = [[ 1, 2, 1, 1],\n",
    "     [ 3, 4,-2,-3],\n",
    "      -1, 1, 3, 7]]\n",
    "```\n",
    "\n",
    "We subtract 2nd row by 3 times of row 1, and we get <br>\n",
    "```\n",
    "C = [[ 1, 2, 1, 1],\n",
    "     [ 0,-2,-5,-6],\n",
    "      -1, 1, 3, 7]]\n",
    "```\n",
    "\n",
    "And then we repeat to make the element `[2,0]`, `[2,1]` to be zero. And then we process similarly for the upper right triangle. Clearly, this can be done systematically using iteration. \n",
    "\n"
   ]
  },
  {
   "cell_type": "code",
   "execution_count": null,
   "id": "f098d05b",
   "metadata": {},
   "outputs": [],
   "source": [
    "# Type your code here\n",
    "# Task 1: Build the matrix\n",
    "\n",
    "\n",
    "# Task 2: Build a loop to eliminate coefficient in the lower triangle\n",
    "\n",
    "\n",
    "# Task 3: Build a loop to eliminate coefficient in the upper triangle\n",
    "\n",
    "\n",
    "# Task 4: Solve for the roots (This can be also done using a for-loop)\n",
    "\n"
   ]
  },
  {
   "cell_type": "code",
   "execution_count": null,
   "id": "1918cc6f",
   "metadata": {},
   "outputs": [],
   "source": [
    "# Type your code here\n",
    "# now use linalg.solve(a, b) to check your answer\n",
    "\n"
   ]
  },
  {
   "cell_type": "markdown",
   "id": "410bf358",
   "metadata": {},
   "source": [
    "### Further Useful Methods\n",
    "\n",
    "Before we round up this section, we also want to introduce three common methods which are very useful for the next section, the plotting library matplotlib. \n",
    "\n",
    "1. `numpy.arange(start, stop, step)`<br>\n",
    "It sets up an integer array similar to `range()` with the three parameter. This can be useful for making a fixed interval plot. <br>\n",
    "\n",
    "2. `numpy.linspace(start, stop, num=50, endpoint=True)`<br>\n",
    "Similar to `arange()` but it produces floating point array with non-integer interval. Unlike arange, the number of grids is defined instead of the step size. <br>\n",
    "\n",
    "3. `np.meshgrid(x, y)`<br>\n",
    "It combines two linspace arrays to form a two dimensional Cartesian coordinate pair. Notice that it has nothing to do with matrix multipication. The meshgrid takes one element from the two arrays, and then forms the $(x,y)$ pair and repeats with all combinations. It returns the x-coordinate and y-coordinate separately. This is used to set up the grid for making a 2D colour plot. "
   ]
  },
  {
   "cell_type": "code",
   "execution_count": 49,
   "id": "e46890b9",
   "metadata": {},
   "outputs": [
    {
     "name": "stdout",
     "output_type": "stream",
     "text": [
      "[[-5. -4. -3. -2. -1.  0.  1.  2.  3.  4.  5.]\n",
      " [-5. -4. -3. -2. -1.  0.  1.  2.  3.  4.  5.]\n",
      " [-5. -4. -3. -2. -1.  0.  1.  2.  3.  4.  5.]\n",
      " [-5. -4. -3. -2. -1.  0.  1.  2.  3.  4.  5.]\n",
      " [-5. -4. -3. -2. -1.  0.  1.  2.  3.  4.  5.]\n",
      " [-5. -4. -3. -2. -1.  0.  1.  2.  3.  4.  5.]\n",
      " [-5. -4. -3. -2. -1.  0.  1.  2.  3.  4.  5.]\n",
      " [-5. -4. -3. -2. -1.  0.  1.  2.  3.  4.  5.]\n",
      " [-5. -4. -3. -2. -1.  0.  1.  2.  3.  4.  5.]\n",
      " [-5. -4. -3. -2. -1.  0.  1.  2.  3.  4.  5.]\n",
      " [-5. -4. -3. -2. -1.  0.  1.  2.  3.  4.  5.]]\n"
     ]
    }
   ],
   "source": [
    "x = np.linspace(-5, 5, 11)\n",
    "y = np.linspace(-5, 5, 11)\n",
    "xs, ys = np.meshgrid(x, y)\n",
    "\n",
    "print(xs)"
   ]
  },
  {
   "cell_type": "markdown",
   "id": "abcf8914",
   "metadata": {},
   "source": [
    "[top](#Table-of-Content)\n",
    "\n",
    "## Part 4: Matplotlib\n",
    "\n",
    "Basic scientific programming cannot be finished without discussing about visualization. Traditional languages like Fortran usually do not come with visualization, or require external packages to handle visualization. On the other hand, Python contains very rich libraries for plotting, with Matplotlib as the foundation, there are extension such as Seaborn and Plotly. Some business plotting tool such as mfinance is developed on the code foundation of Matplotlib. In this tutorial we will focus on the fundamental one the Matplotlib. Once the basic data flow of Matplotlib is mastered, it will become very straightforward to extend our reach to these additional libraries for specific usages. \n",
    "\n",
    "The full documentation is available here: [https://matplotlib.org/]\n"
   ]
  },
  {
   "cell_type": "markdown",
   "id": "5f809a95",
   "metadata": {},
   "source": [
    "### Line Graph \n",
    "\n",
    "The most common type of data is a set of paired value $(x_i, y_i)$ for $i = 1, 2, 3, ...$. To plot the data we can use a line and dots to connect these points on a graph. In Python, these processes are automated as long as we prepare the *lists* or *arrays* of data for $x$ and $y$ respectively. \n",
    "\n",
    "There are multiple ways to set up a plotting area. In this tutorial we will use the most general way so that you will find it easier to adopt this approach for more complex plotting style. \n",
    "\n",
    "For import the Matplotlib library, we type <br>\n",
    "`import matplotlib.pyplot as plt` <br>\n",
    "We remind that we use the keyword `as` so that we use `plt` as an alias to this library. If we simply import, it will be a pain every time when we call any methods in this library. \n",
    "\n",
    "\n",
    "For create a plotting area, we type: <br>\n",
    "`fig, ax = plt.subplots(ncols=1, nrows=1, figsize=(6,5))`\n",
    "\n",
    "This includes a few parameters and a few outputs: <br>\n",
    "`ncols`: The number of column of plots in the figure. This command allows generation of multiple plots in a single plot. <br>\n",
    "`nrows`: Similar to `ncols` but for the number of rows of plots in the figures. <br>\n",
    "`figsize`: As the parameter represents, it represents the real physical size (in cm) of the figure. \n",
    "\n",
    "The output contains two part: <br>\n",
    "`fig`: The figure object that we can operate on to set up properties of the figure. <br>\n",
    "`ax`: The axis object that controls the plot and its appearance. When there are more than one figure, then `ax` is a NumPy array. The individual figure is one of the element in the array. \n",
    "\n",
    "Below we show how it looks. "
   ]
  },
  {
   "cell_type": "code",
   "execution_count": 22,
   "id": "a3a1e581",
   "metadata": {},
   "outputs": [
    {
     "data": {
      "image/png": "[encoded data removed]",
      "text/plain": [
       "<Figure size 432x360 with 1 Axes>"
      ]
     },
     "metadata": {
      "needs_background": "light"
     },
     "output_type": "display_data"
    }
   ],
   "source": [
    "%matplotlib inline\n",
    "import matplotlib.pyplot as plt\n",
    "\n",
    "fig, ax = plt.subplots(ncols=1, nrows=1, figsize=(6,5))"
   ]
  },
  {
   "cell_type": "markdown",
   "id": "ae308e46",
   "metadata": {},
   "source": [
    "It is clear that there is nothing in the plot because we have not asked `ax` object to plot anything in the area. To plot the data, we can use the following command (with individual parameters subject to change according to your needs):\n",
    "\n",
    "`ax.plot(x_array, y_array, linestyle='-', color='red', linewidth=2, markersize=12)`\n",
    "\n",
    "To illustrate this command, we randomly create some linear relation and then plot them out. "
   ]
  },
  {
   "cell_type": "code",
   "execution_count": 23,
   "id": "4aff8bff",
   "metadata": {},
   "outputs": [
    {
     "data": {
      "image/png": "[encoded data removed]",
      "text/plain": [
       "<Figure size 432x360 with 1 Axes>"
      ]
     },
     "metadata": {
      "needs_background": "light"
     },
     "output_type": "display_data"
    }
   ],
   "source": [
    "import numpy as np\n",
    "\n",
    "xs = np.linspace(1, 20, 5)\n",
    "ys = 2*xs + 3\n",
    "\n",
    "fig, ax = plt.subplots(ncols=1, nrows=1, figsize=(6,5))\n",
    "ax.plot(xs, ys, \n",
    "       linestyle='-',\n",
    "       marker='o',\n",
    "       color='red',\n",
    "       markersize=12)\n",
    "\n",
    "plt.show()"
   ]
  },
  {
   "cell_type": "markdown",
   "id": "d06ffd8d",
   "metadata": {},
   "source": [
    "Hurray we make our first figure but only a few lines of code! I hope you may appreciate now how convenient Python can be when it comes to advanced operations. \n",
    "\n",
    "Of course, it only stands for the start of plotting a graph because you may notice the graph is beautiful but there is no information. We will need the labels, title or even fine-tuning the tickers so that it looks like a professional graph. Before that, we shall do one simple exercise:\n",
    "\n",
    "#### Exercise 11\n",
    "\n",
    "Create a NumPy array for the quadratic function, $y = 2x^2 + 3x -5$ in the domain $x \\in (-5, 5)$ for 100 points. Then plot the figure. In the figure I want these specification:\n",
    "\n",
    "1. data point in hexagons\n",
    "2. line colour to be green\n",
    "3. dashed line\n",
    "4. marker size 15\n",
    "5. line width 2\n",
    "6. the face colour of marker is cyan\n",
    "\n",
    "Note: You will need to refer to this [documenation](https://matplotlib.org/stable/api/_as_gen/matplotlib.pyplot.plot.html) to check for some abbreviation for some of these settings. "
   ]
  },
  {
   "cell_type": "code",
   "execution_count": null,
   "id": "bc2a9f57",
   "metadata": {},
   "outputs": [],
   "source": [
    "# Write your code here\n",
    "\n",
    "# Step 1: Set up the Arrays\n",
    "\n",
    "\n",
    "# Step 2: Set up the plotting area, remember to receive the fig and ax objects!\n",
    "\n",
    "\n",
    "# Step 3: Ask the ax object to plot the data, with the specifications outlined above\n",
    "\n"
   ]
  },
  {
   "cell_type": "markdown",
   "id": "8d9ddf26",
   "metadata": {},
   "source": [
    "### Decorating the Graph\n",
    "\n",
    "If we submit the above graph a part of lab report, it is without doubt that a lot of points are deducted because the graph does not contain the necessary information to describe the figure. \n",
    "\n",
    "Below we list a few common commands:\n",
    "\n",
    "1. `ax.set_title('...')`: Provide your figure a title (replace ... by your title)\n",
    "2. `ax.set_xlabel('...)`: Provide your figure x-axis the label\n",
    "3. `ax.set_ylabel('...)`: Similar to 2 but for the y-axis\n",
    "4. `ax.set_xlim(xmin, xmax)`: Adjust the min and max x to be shown in the figure\n",
    "5. `ax.set_ylim(ymin, ymax)`: Similar to 4 but for the y-axis. \n",
    "6. `ax.set_xscale('...')`: Make the axis in different scale ('linear', 'log', 'logit', ...)\n",
    "7. `ax.set_yscale('...')`: Same as 6 but for the y-axis. \n",
    "8. `ax.set_aspect('...')`: Adjust the plotting area ratio (Choose 'equal', 'auto')\n",
    "9. `ax.set_xticks([...])`: Replace the tickers on the x-axis by the numbers in the list\n",
    "10. `ax.set_yticks([...])`: Same as 9 but for the y-axis. \n",
    "\n",
    "We can see that most of these comments are trivial. These commands can be inserted after the plotting command. We encourage the readers to not just copy+paste the command, instead type it as much as possible so that you can naturally use these commands. This will prove to you much convenience that you will not be distracted by finding the correct commands or syntax, and promptly put your thought and ideas into results. \n",
    "\n",
    "#### Exercise 12\n",
    "\n",
    "Put the above knowledge into practice! First copy the result in Exercise 11 in the following box. And then we start to adjust the figure. \n",
    "\n",
    "1. Give a title \"My lovely figure\" or something you find appropriate\n",
    "2. Set the x- and y-axis label to be \"x\" and \"y\" accordingly\n",
    "3. Make the plot to include $-2 < x < 22$. \n",
    "4. Replace the tickers of the y-axis by multiples of 10 only\n",
    "5. Make the plot a square"
   ]
  },
  {
   "cell_type": "code",
   "execution_count": null,
   "id": "6c680592",
   "metadata": {},
   "outputs": [],
   "source": [
    "# Type your code here\n",
    "# 1. Copy the code from Exercise 11 below\n",
    "\n",
    "\n",
    "# 2. Add the decoration commands below\n",
    "\n"
   ]
  },
  {
   "cell_type": "markdown",
   "id": "cb19d47e",
   "metadata": {},
   "source": [
    "### 2D color plot\n",
    "\n",
    "The last demonstration in this tutorial is to introduce you the colour plot. Colour plot is a very useful tool because it shows you the third dimension of data without making a plot three-dimensional. There is more content contained in one single figure. To appreciate this, we use the following example. \n",
    "\n",
    "Assume we know a scalar function, $f(x,y) = A \\sin(\\pi x) \\cos(2 \\pi y)$ for $A = 1$ with $0<x<1$ and $0<y<1$. We can use colour to show the values of $f(x,y)$. "
   ]
  },
  {
   "cell_type": "code",
   "execution_count": 58,
   "id": "6c63a6d4",
   "metadata": {},
   "outputs": [
    {
     "name": "stderr",
     "output_type": "stream",
     "text": [
      "<ipython-input-58-4831af9dce22>:14: MatplotlibDeprecationWarning: shading='flat' when X and Y have the same dimensions as C is deprecated since 3.3.  Either specify the corners of the quadrilaterals with X and Y, or pass shading='auto', 'nearest' or 'gouraud', or set rcParams['pcolor.shading'].  This will become an error two minor releases later.\n",
      "  cb = ax.pcolor(grid_x, grid_y, grid_z, cmap=winter)\n"
     ]
    },
    {
     "data": {
      "text/plain": [
       "<matplotlib.colorbar.Colorbar at 0x29703d76610>"
      ]
     },
     "execution_count": 58,
     "metadata": {},
     "output_type": "execute_result"
    },
    {
     "data": {
      "image/png": "[encoded data removed]",
      "text/plain": [
       "<Figure size 576x576 with 2 Axes>"
      ]
     },
     "metadata": {
      "needs_background": "light"
     },
     "output_type": "display_data"
    }
   ],
   "source": [
    "from matplotlib.cm import winter\n",
    "\n",
    "xs = np.linspace(0, 1, 50)\n",
    "ys = np.linspace(0, 1, 50)\n",
    "\n",
    "zs = np.array([1 * np.sin(np.pi * x) * np.cos(2 * np.pi * y) for x in xs for y in ys])\n",
    "\n",
    "grid_x, grid_y = np.meshgrid(xs, ys)\n",
    "grid_z = zs.reshape(50, 50)\n",
    "\n",
    "plt.rcParams.update({\"font.size\":16})\n",
    "\n",
    "fig, ax = plt.subplots(ncols=1, nrows=1, figsize=(8,8))\n",
    "cb = ax.pcolor(grid_x, grid_y, grid_z, cmap=winter)\n",
    "\n",
    "ax.set_xlabel(r\"$x$\")\n",
    "ax.set_ylabel(r\"$y$\")\n",
    "\n",
    "ax.set_title(\"Beautiful colour plot\")\n",
    "ax.set_aspect(\"equal\")\n",
    "\n",
    "fig.colorbar(cb, label=\"potential\", extend=\"neither\", ticks=[-1, -0.5, 0, 0.5, 1])\n"
   ]
  },
  {
   "cell_type": "markdown",
   "id": "1fdce959",
   "metadata": {},
   "source": [
    "<large> That is the end of the Python Crash Course (Boot Camp)! I hope you enjoy this introduction and will enjoy the versality and flexible applications of Python. </large>"
   ]
  },
  {
   "cell_type": "code",
   "execution_count": null,
   "id": "1c02ecb4",
   "metadata": {},
   "outputs": [],
   "source": []
  }
 ],
 "metadata": {
  "kernelspec": {
   "display_name": "Python 3",
   "language": "python",
   "name": "python3"
  },
  "language_info": {
   "codemirror_mode": {
    "name": "ipython",
    "version": 3
   },
   "file_extension": ".py",
   "mimetype": "text/x-python",
   "name": "python",
   "nbconvert_exporter": "python",
   "pygments_lexer": "ipython3",
   "version": "3.8.8"
  }
 },
 "nbformat": 4,
 "nbformat_minor": 5
}
